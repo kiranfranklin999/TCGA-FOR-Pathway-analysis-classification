{
 "cells": [
  {
   "cell_type": "code",
   "execution_count": 2,
   "metadata": {
    "vscode": {
     "languageId": "r"
    }
   },
   "outputs": [
    {
     "name": "stderr",
     "output_type": "stream",
     "text": [
      "Warning message:\n",
      "\"package 'DESeq2' was built under R version 4.3.1\"\n",
      "Loading required package: S4Vectors\n",
      "\n",
      "Loading required package: stats4\n",
      "\n",
      "Loading required package: BiocGenerics\n",
      "\n",
      "\n",
      "Attaching package: 'BiocGenerics'\n",
      "\n",
      "\n",
      "The following objects are masked from 'package:stats':\n",
      "\n",
      "    IQR, mad, sd, var, xtabs\n",
      "\n",
      "\n",
      "The following objects are masked from 'package:base':\n",
      "\n",
      "    anyDuplicated, aperm, append, as.data.frame, basename, cbind,\n",
      "    colnames, dirname, do.call, duplicated, eval, evalq, Filter, Find,\n",
      "    get, grep, grepl, intersect, is.unsorted, lapply, Map, mapply,\n",
      "    match, mget, order, paste, pmax, pmax.int, pmin, pmin.int,\n",
      "    Position, rank, rbind, Reduce, rownames, sapply, setdiff, sort,\n",
      "    table, tapply, union, unique, unsplit, which.max, which.min\n",
      "\n",
      "\n",
      "\n",
      "Attaching package: 'S4Vectors'\n",
      "\n",
      "\n",
      "The following object is masked from 'package:utils':\n",
      "\n",
      "    findMatches\n",
      "\n",
      "\n",
      "The following objects are masked from 'package:base':\n",
      "\n",
      "    expand.grid, I, unname\n",
      "\n",
      "\n",
      "Loading required package: IRanges\n",
      "\n",
      "Warning message:\n",
      "\"package 'IRanges' was built under R version 4.3.1\"\n",
      "\n",
      "Attaching package: 'IRanges'\n",
      "\n",
      "\n",
      "The following object is masked from 'package:grDevices':\n",
      "\n",
      "    windows\n",
      "\n",
      "\n",
      "Loading required package: GenomicRanges\n",
      "\n",
      "Loading required package: GenomeInfoDb\n",
      "\n",
      "Warning message:\n",
      "\"package 'GenomeInfoDb' was built under R version 4.3.1\"\n",
      "Loading required package: SummarizedExperiment\n",
      "\n",
      "Loading required package: MatrixGenerics\n",
      "\n",
      "Warning message:\n",
      "\"package 'MatrixGenerics' was built under R version 4.3.1\"\n",
      "Loading required package: matrixStats\n",
      "\n",
      "Warning message:\n",
      "\"package 'matrixStats' was built under R version 4.3.1\"\n",
      "\n",
      "Attaching package: 'MatrixGenerics'\n",
      "\n",
      "\n",
      "The following objects are masked from 'package:matrixStats':\n",
      "\n",
      "    colAlls, colAnyNAs, colAnys, colAvgsPerRowSet, colCollapse,\n",
      "    colCounts, colCummaxs, colCummins, colCumprods, colCumsums,\n",
      "    colDiffs, colIQRDiffs, colIQRs, colLogSumExps, colMadDiffs,\n",
      "    colMads, colMaxs, colMeans2, colMedians, colMins, colOrderStats,\n",
      "    colProds, colQuantiles, colRanges, colRanks, colSdDiffs, colSds,\n",
      "    colSums2, colTabulates, colVarDiffs, colVars, colWeightedMads,\n",
      "    colWeightedMeans, colWeightedMedians, colWeightedSds,\n",
      "    colWeightedVars, rowAlls, rowAnyNAs, rowAnys, rowAvgsPerColSet,\n",
      "    rowCollapse, rowCounts, rowCummaxs, rowCummins, rowCumprods,\n",
      "    rowCumsums, rowDiffs, rowIQRDiffs, rowIQRs, rowLogSumExps,\n",
      "    rowMadDiffs, rowMads, rowMaxs, rowMeans2, rowMedians, rowMins,\n",
      "    rowOrderStats, rowProds, rowQuantiles, rowRanges, rowRanks,\n",
      "    rowSdDiffs, rowSds, rowSums2, rowTabulates, rowVarDiffs, rowVars,\n",
      "    rowWeightedMads, rowWeightedMeans, rowWeightedMedians,\n",
      "    rowWeightedSds, rowWeightedVars\n",
      "\n",
      "\n",
      "Loading required package: Biobase\n",
      "\n",
      "Welcome to Bioconductor\n",
      "\n",
      "    Vignettes contain introductory material; view with\n",
      "    'browseVignettes()'. To cite Bioconductor, see\n",
      "    'citation(\"Biobase\")', and for packages 'citation(\"pkgname\")'.\n",
      "\n",
      "\n",
      "\n",
      "Attaching package: 'Biobase'\n",
      "\n",
      "\n",
      "The following object is masked from 'package:MatrixGenerics':\n",
      "\n",
      "    rowMedians\n",
      "\n",
      "\n",
      "The following objects are masked from 'package:matrixStats':\n",
      "\n",
      "    anyMissing, rowMedians\n",
      "\n",
      "\n"
     ]
    }
   ],
   "source": [
    "# Load required libraries\n",
    "library(DESeq2)"
   ]
  },
  {
   "cell_type": "code",
   "execution_count": 3,
   "metadata": {
    "vscode": {
     "languageId": "r"
    }
   },
   "outputs": [
    {
     "data": {
      "text/html": [
       "<table class=\"dataframe\">\n",
       "<caption>A data.frame: 6 × 135</caption>\n",
       "<thead>\n",
       "\t<tr><th></th><th scope=col>TCGA.E2.A153.11A</th><th scope=col>TCGA.D8.A1Y3.01A</th><th scope=col>TCGA.EW.A3E8.01B</th><th scope=col>TCGA.AC.A3QQ.01B</th><th scope=col>TCGA.D8.A3Z6.01A</th><th scope=col>TCGA.AR.A1AS.01A</th><th scope=col>TCGA.BH.A1FB.11A</th><th scope=col>TCGA.E9.A228.01A</th><th scope=col>TCGA.GI.A2C8.11A</th><th scope=col>TCGA.E2.A105.01A</th><th scope=col>⋯</th><th scope=col>TCGA.B6.A0I6.01A</th><th scope=col>TCGA.A2.A25C.01A</th><th scope=col>TCGA.AC.A23H.11A</th><th scope=col>TCGA.A8.A07C.01A</th><th scope=col>TCGA.BH.A1F2.11A</th><th scope=col>TCGA.A7.A0D9.01A</th><th scope=col>TCGA.E2.A1L6.01A</th><th scope=col>TCGA.BH.A0BJ.11A</th><th scope=col>TCGA.E2.A15G.01A</th><th scope=col>TCGA.AR.A1AP.01A</th></tr>\n",
       "\t<tr><th></th><th scope=col>&lt;dbl&gt;</th><th scope=col>&lt;dbl&gt;</th><th scope=col>&lt;dbl&gt;</th><th scope=col>&lt;dbl&gt;</th><th scope=col>&lt;dbl&gt;</th><th scope=col>&lt;dbl&gt;</th><th scope=col>&lt;dbl&gt;</th><th scope=col>&lt;dbl&gt;</th><th scope=col>&lt;dbl&gt;</th><th scope=col>&lt;dbl&gt;</th><th scope=col>⋯</th><th scope=col>&lt;dbl&gt;</th><th scope=col>&lt;dbl&gt;</th><th scope=col>&lt;dbl&gt;</th><th scope=col>&lt;dbl&gt;</th><th scope=col>&lt;dbl&gt;</th><th scope=col>&lt;dbl&gt;</th><th scope=col>&lt;dbl&gt;</th><th scope=col>&lt;dbl&gt;</th><th scope=col>&lt;dbl&gt;</th><th scope=col>&lt;dbl&gt;</th></tr>\n",
       "</thead>\n",
       "<tbody>\n",
       "\t<tr><th scope=row>A1BG</th><td> 4.321928</td><td> 3.700440</td><td> 6.491853</td><td> 4.523562</td><td> 5.857981</td><td> 4.169925</td><td> 5.523562</td><td> 4.392317</td><td> 2.321928</td><td> 5.781360</td><td>⋯</td><td> 3.906891</td><td> 5.807355</td><td> 4.906891</td><td> 4.169925</td><td> 5.209453</td><td> 4.754888</td><td> 6.022368</td><td> 4.584963</td><td> 5.247928</td><td> 5.209453</td></tr>\n",
       "\t<tr><th scope=row>A1CF</th><td> 2.321928</td><td> 0.000000</td><td> 1.584963</td><td> 6.189825</td><td> 2.584963</td><td> 0.000000</td><td> 0.000000</td><td> 4.392317</td><td> 2.321928</td><td> 2.321928</td><td>⋯</td><td> 1.000000</td><td> 4.087463</td><td> 2.321928</td><td> 4.459432</td><td> 2.584963</td><td> 3.000000</td><td> 2.807355</td><td> 3.169925</td><td> 1.584963</td><td> 0.000000</td></tr>\n",
       "\t<tr><th scope=row>A2M</th><td>16.006041</td><td>14.433194</td><td>15.312954</td><td>13.529431</td><td>15.428393</td><td>13.338179</td><td>15.602670</td><td>14.653909</td><td>15.254032</td><td>14.375990</td><td>⋯</td><td>14.440350</td><td>15.804736</td><td>16.823716</td><td>15.155293</td><td>17.071693</td><td>14.882977</td><td>16.091745</td><td>16.293454</td><td>14.156636</td><td>14.800091</td></tr>\n",
       "\t<tr><th scope=row>A2ML1</th><td> 5.491853</td><td> 6.409391</td><td> 4.857981</td><td> 6.228819</td><td> 3.906891</td><td> 4.700440</td><td> 4.754888</td><td> 4.087463</td><td> 2.807355</td><td> 4.392317</td><td>⋯</td><td> 6.658211</td><td> 4.321928</td><td> 7.247928</td><td> 8.238405</td><td> 6.087463</td><td> 6.870365</td><td> 4.169925</td><td> 6.000000</td><td> 3.321928</td><td> 3.000000</td></tr>\n",
       "\t<tr><th scope=row>A3GALT2</th><td> 1.584963</td><td> 0.000000</td><td> 1.584963</td><td> 0.000000</td><td> 2.321928</td><td> 0.000000</td><td> 2.321928</td><td> 1.000000</td><td> 1.584963</td><td> 1.584963</td><td>⋯</td><td> 4.523562</td><td> 0.000000</td><td> 1.000000</td><td> 3.000000</td><td> 3.000000</td><td> 2.584963</td><td> 1.584963</td><td> 2.807355</td><td> 2.321928</td><td> 2.321928</td></tr>\n",
       "\t<tr><th scope=row>A4GALT</th><td> 9.876517</td><td> 8.049849</td><td>10.649256</td><td> 6.209453</td><td>11.076148</td><td> 8.523562</td><td> 8.879583</td><td> 8.357552</td><td> 9.766529</td><td>10.531381</td><td>⋯</td><td>11.371777</td><td>10.112440</td><td> 9.871905</td><td> 8.851749</td><td>10.450180</td><td> 9.656425</td><td>11.179909</td><td> 9.409391</td><td>10.226412</td><td>10.044394</td></tr>\n",
       "</tbody>\n",
       "</table>\n"
      ],
      "text/latex": [
       "A data.frame: 6 × 135\n",
       "\\begin{tabular}{r|lllllllllllllllllllll}\n",
       "  & TCGA.E2.A153.11A & TCGA.D8.A1Y3.01A & TCGA.EW.A3E8.01B & TCGA.AC.A3QQ.01B & TCGA.D8.A3Z6.01A & TCGA.AR.A1AS.01A & TCGA.BH.A1FB.11A & TCGA.E9.A228.01A & TCGA.GI.A2C8.11A & TCGA.E2.A105.01A & ⋯ & TCGA.B6.A0I6.01A & TCGA.A2.A25C.01A & TCGA.AC.A23H.11A & TCGA.A8.A07C.01A & TCGA.BH.A1F2.11A & TCGA.A7.A0D9.01A & TCGA.E2.A1L6.01A & TCGA.BH.A0BJ.11A & TCGA.E2.A15G.01A & TCGA.AR.A1AP.01A\\\\\n",
       "  & <dbl> & <dbl> & <dbl> & <dbl> & <dbl> & <dbl> & <dbl> & <dbl> & <dbl> & <dbl> & ⋯ & <dbl> & <dbl> & <dbl> & <dbl> & <dbl> & <dbl> & <dbl> & <dbl> & <dbl> & <dbl>\\\\\n",
       "\\hline\n",
       "\tA1BG &  4.321928 &  3.700440 &  6.491853 &  4.523562 &  5.857981 &  4.169925 &  5.523562 &  4.392317 &  2.321928 &  5.781360 & ⋯ &  3.906891 &  5.807355 &  4.906891 &  4.169925 &  5.209453 &  4.754888 &  6.022368 &  4.584963 &  5.247928 &  5.209453\\\\\n",
       "\tA1CF &  2.321928 &  0.000000 &  1.584963 &  6.189825 &  2.584963 &  0.000000 &  0.000000 &  4.392317 &  2.321928 &  2.321928 & ⋯ &  1.000000 &  4.087463 &  2.321928 &  4.459432 &  2.584963 &  3.000000 &  2.807355 &  3.169925 &  1.584963 &  0.000000\\\\\n",
       "\tA2M & 16.006041 & 14.433194 & 15.312954 & 13.529431 & 15.428393 & 13.338179 & 15.602670 & 14.653909 & 15.254032 & 14.375990 & ⋯ & 14.440350 & 15.804736 & 16.823716 & 15.155293 & 17.071693 & 14.882977 & 16.091745 & 16.293454 & 14.156636 & 14.800091\\\\\n",
       "\tA2ML1 &  5.491853 &  6.409391 &  4.857981 &  6.228819 &  3.906891 &  4.700440 &  4.754888 &  4.087463 &  2.807355 &  4.392317 & ⋯ &  6.658211 &  4.321928 &  7.247928 &  8.238405 &  6.087463 &  6.870365 &  4.169925 &  6.000000 &  3.321928 &  3.000000\\\\\n",
       "\tA3GALT2 &  1.584963 &  0.000000 &  1.584963 &  0.000000 &  2.321928 &  0.000000 &  2.321928 &  1.000000 &  1.584963 &  1.584963 & ⋯ &  4.523562 &  0.000000 &  1.000000 &  3.000000 &  3.000000 &  2.584963 &  1.584963 &  2.807355 &  2.321928 &  2.321928\\\\\n",
       "\tA4GALT &  9.876517 &  8.049849 & 10.649256 &  6.209453 & 11.076148 &  8.523562 &  8.879583 &  8.357552 &  9.766529 & 10.531381 & ⋯ & 11.371777 & 10.112440 &  9.871905 &  8.851749 & 10.450180 &  9.656425 & 11.179909 &  9.409391 & 10.226412 & 10.044394\\\\\n",
       "\\end{tabular}\n"
      ],
      "text/markdown": [
       "\n",
       "A data.frame: 6 × 135\n",
       "\n",
       "| <!--/--> | TCGA.E2.A153.11A &lt;dbl&gt; | TCGA.D8.A1Y3.01A &lt;dbl&gt; | TCGA.EW.A3E8.01B &lt;dbl&gt; | TCGA.AC.A3QQ.01B &lt;dbl&gt; | TCGA.D8.A3Z6.01A &lt;dbl&gt; | TCGA.AR.A1AS.01A &lt;dbl&gt; | TCGA.BH.A1FB.11A &lt;dbl&gt; | TCGA.E9.A228.01A &lt;dbl&gt; | TCGA.GI.A2C8.11A &lt;dbl&gt; | TCGA.E2.A105.01A &lt;dbl&gt; | ⋯ ⋯ | TCGA.B6.A0I6.01A &lt;dbl&gt; | TCGA.A2.A25C.01A &lt;dbl&gt; | TCGA.AC.A23H.11A &lt;dbl&gt; | TCGA.A8.A07C.01A &lt;dbl&gt; | TCGA.BH.A1F2.11A &lt;dbl&gt; | TCGA.A7.A0D9.01A &lt;dbl&gt; | TCGA.E2.A1L6.01A &lt;dbl&gt; | TCGA.BH.A0BJ.11A &lt;dbl&gt; | TCGA.E2.A15G.01A &lt;dbl&gt; | TCGA.AR.A1AP.01A &lt;dbl&gt; |\n",
       "|---|---|---|---|---|---|---|---|---|---|---|---|---|---|---|---|---|---|---|---|---|---|\n",
       "| A1BG |  4.321928 |  3.700440 |  6.491853 |  4.523562 |  5.857981 |  4.169925 |  5.523562 |  4.392317 |  2.321928 |  5.781360 | ⋯ |  3.906891 |  5.807355 |  4.906891 |  4.169925 |  5.209453 |  4.754888 |  6.022368 |  4.584963 |  5.247928 |  5.209453 |\n",
       "| A1CF |  2.321928 |  0.000000 |  1.584963 |  6.189825 |  2.584963 |  0.000000 |  0.000000 |  4.392317 |  2.321928 |  2.321928 | ⋯ |  1.000000 |  4.087463 |  2.321928 |  4.459432 |  2.584963 |  3.000000 |  2.807355 |  3.169925 |  1.584963 |  0.000000 |\n",
       "| A2M | 16.006041 | 14.433194 | 15.312954 | 13.529431 | 15.428393 | 13.338179 | 15.602670 | 14.653909 | 15.254032 | 14.375990 | ⋯ | 14.440350 | 15.804736 | 16.823716 | 15.155293 | 17.071693 | 14.882977 | 16.091745 | 16.293454 | 14.156636 | 14.800091 |\n",
       "| A2ML1 |  5.491853 |  6.409391 |  4.857981 |  6.228819 |  3.906891 |  4.700440 |  4.754888 |  4.087463 |  2.807355 |  4.392317 | ⋯ |  6.658211 |  4.321928 |  7.247928 |  8.238405 |  6.087463 |  6.870365 |  4.169925 |  6.000000 |  3.321928 |  3.000000 |\n",
       "| A3GALT2 |  1.584963 |  0.000000 |  1.584963 |  0.000000 |  2.321928 |  0.000000 |  2.321928 |  1.000000 |  1.584963 |  1.584963 | ⋯ |  4.523562 |  0.000000 |  1.000000 |  3.000000 |  3.000000 |  2.584963 |  1.584963 |  2.807355 |  2.321928 |  2.321928 |\n",
       "| A4GALT |  9.876517 |  8.049849 | 10.649256 |  6.209453 | 11.076148 |  8.523562 |  8.879583 |  8.357552 |  9.766529 | 10.531381 | ⋯ | 11.371777 | 10.112440 |  9.871905 |  8.851749 | 10.450180 |  9.656425 | 11.179909 |  9.409391 | 10.226412 | 10.044394 |\n",
       "\n"
      ],
      "text/plain": [
       "        TCGA.E2.A153.11A TCGA.D8.A1Y3.01A TCGA.EW.A3E8.01B TCGA.AC.A3QQ.01B\n",
       "A1BG     4.321928         3.700440         6.491853         4.523562       \n",
       "A1CF     2.321928         0.000000         1.584963         6.189825       \n",
       "A2M     16.006041        14.433194        15.312954        13.529431       \n",
       "A2ML1    5.491853         6.409391         4.857981         6.228819       \n",
       "A3GALT2  1.584963         0.000000         1.584963         0.000000       \n",
       "A4GALT   9.876517         8.049849        10.649256         6.209453       \n",
       "        TCGA.D8.A3Z6.01A TCGA.AR.A1AS.01A TCGA.BH.A1FB.11A TCGA.E9.A228.01A\n",
       "A1BG     5.857981         4.169925         5.523562         4.392317       \n",
       "A1CF     2.584963         0.000000         0.000000         4.392317       \n",
       "A2M     15.428393        13.338179        15.602670        14.653909       \n",
       "A2ML1    3.906891         4.700440         4.754888         4.087463       \n",
       "A3GALT2  2.321928         0.000000         2.321928         1.000000       \n",
       "A4GALT  11.076148         8.523562         8.879583         8.357552       \n",
       "        TCGA.GI.A2C8.11A TCGA.E2.A105.01A ⋯ TCGA.B6.A0I6.01A TCGA.A2.A25C.01A\n",
       "A1BG     2.321928         5.781360        ⋯  3.906891         5.807355       \n",
       "A1CF     2.321928         2.321928        ⋯  1.000000         4.087463       \n",
       "A2M     15.254032        14.375990        ⋯ 14.440350        15.804736       \n",
       "A2ML1    2.807355         4.392317        ⋯  6.658211         4.321928       \n",
       "A3GALT2  1.584963         1.584963        ⋯  4.523562         0.000000       \n",
       "A4GALT   9.766529        10.531381        ⋯ 11.371777        10.112440       \n",
       "        TCGA.AC.A23H.11A TCGA.A8.A07C.01A TCGA.BH.A1F2.11A TCGA.A7.A0D9.01A\n",
       "A1BG     4.906891         4.169925         5.209453         4.754888       \n",
       "A1CF     2.321928         4.459432         2.584963         3.000000       \n",
       "A2M     16.823716        15.155293        17.071693        14.882977       \n",
       "A2ML1    7.247928         8.238405         6.087463         6.870365       \n",
       "A3GALT2  1.000000         3.000000         3.000000         2.584963       \n",
       "A4GALT   9.871905         8.851749        10.450180         9.656425       \n",
       "        TCGA.E2.A1L6.01A TCGA.BH.A0BJ.11A TCGA.E2.A15G.01A TCGA.AR.A1AP.01A\n",
       "A1BG     6.022368         4.584963         5.247928         5.209453       \n",
       "A1CF     2.807355         3.169925         1.584963         0.000000       \n",
       "A2M     16.091745        16.293454        14.156636        14.800091       \n",
       "A2ML1    4.169925         6.000000         3.321928         3.000000       \n",
       "A3GALT2  1.584963         2.807355         2.321928         2.321928       \n",
       "A4GALT  11.179909         9.409391        10.226412        10.044394       "
      ]
     },
     "metadata": {},
     "output_type": "display_data"
    }
   ],
   "source": [
    "# Load gene expression data\n",
    "count_data <- read.table(\"TCGA-BRCA.htseq_counts_gene_name.tsv\", header = TRUE, row.names = 1)\n",
    "head(count_data)"
   ]
  },
  {
   "cell_type": "code",
   "execution_count": 4,
   "metadata": {
    "vscode": {
     "languageId": "r"
    }
   },
   "outputs": [
    {
     "data": {
      "text/html": [
       "<style>\n",
       ".list-inline {list-style: none; margin:0; padding: 0}\n",
       ".list-inline>li {display: inline-block}\n",
       ".list-inline>li:not(:last-child)::after {content: \"\\00b7\"; padding: 0 .5ex}\n",
       "</style>\n",
       "<ol class=list-inline><li>19234</li><li>135</li></ol>\n"
      ],
      "text/latex": [
       "\\begin{enumerate*}\n",
       "\\item 19234\n",
       "\\item 135\n",
       "\\end{enumerate*}\n"
      ],
      "text/markdown": [
       "1. 19234\n",
       "2. 135\n",
       "\n",
       "\n"
      ],
      "text/plain": [
       "[1] 19234   135"
      ]
     },
     "metadata": {},
     "output_type": "display_data"
    }
   ],
   "source": [
    "dim(count_data)"
   ]
  },
  {
   "cell_type": "code",
   "execution_count": 5,
   "metadata": {
    "vscode": {
     "languageId": "r"
    }
   },
   "outputs": [
    {
     "data": {
      "text/html": [
       "<table class=\"dataframe\">\n",
       "<caption>A data.frame: 6 × 3</caption>\n",
       "<thead>\n",
       "\t<tr><th></th><th scope=col>type</th><th scope=col>tissue_source_site</th><th scope=col>disease_type</th></tr>\n",
       "\t<tr><th></th><th scope=col>&lt;chr&gt;</th><th scope=col>&lt;chr&gt;</th><th scope=col>&lt;chr&gt;</th></tr>\n",
       "</thead>\n",
       "<tbody>\n",
       "\t<tr><th scope=row>TCGA.BH.A1FR.11B</th><td>Normal</td><td>BH</td><td>Ductal and Lobular Neoplasms</td></tr>\n",
       "\t<tr><th scope=row>TCGA.BH.A0BM.11A</th><td>Normal</td><td>BH</td><td>Ductal and Lobular Neoplasms</td></tr>\n",
       "\t<tr><th scope=row>TCGA.D8.A1JH.01A</th><td>Tumor </td><td>D8</td><td>Ductal and Lobular Neoplasms</td></tr>\n",
       "\t<tr><th scope=row>TCGA.BH.A0DL.11A</th><td>Normal</td><td>BH</td><td>Complex Epithelial Neoplasms</td></tr>\n",
       "\t<tr><th scope=row>TCGA.E9.A1N4.11A</th><td>Normal</td><td>E9</td><td>Ductal and Lobular Neoplasms</td></tr>\n",
       "\t<tr><th scope=row>TCGA.E2.A3DX.01A</th><td>Tumor </td><td>E2</td><td>Ductal and Lobular Neoplasms</td></tr>\n",
       "</tbody>\n",
       "</table>\n"
      ],
      "text/latex": [
       "A data.frame: 6 × 3\n",
       "\\begin{tabular}{r|lll}\n",
       "  & type & tissue\\_source\\_site & disease\\_type\\\\\n",
       "  & <chr> & <chr> & <chr>\\\\\n",
       "\\hline\n",
       "\tTCGA.BH.A1FR.11B & Normal & BH & Ductal and Lobular Neoplasms\\\\\n",
       "\tTCGA.BH.A0BM.11A & Normal & BH & Ductal and Lobular Neoplasms\\\\\n",
       "\tTCGA.D8.A1JH.01A & Tumor  & D8 & Ductal and Lobular Neoplasms\\\\\n",
       "\tTCGA.BH.A0DL.11A & Normal & BH & Complex Epithelial Neoplasms\\\\\n",
       "\tTCGA.E9.A1N4.11A & Normal & E9 & Ductal and Lobular Neoplasms\\\\\n",
       "\tTCGA.E2.A3DX.01A & Tumor  & E2 & Ductal and Lobular Neoplasms\\\\\n",
       "\\end{tabular}\n"
      ],
      "text/markdown": [
       "\n",
       "A data.frame: 6 × 3\n",
       "\n",
       "| <!--/--> | type &lt;chr&gt; | tissue_source_site &lt;chr&gt; | disease_type &lt;chr&gt; |\n",
       "|---|---|---|---|\n",
       "| TCGA.BH.A1FR.11B | Normal | BH | Ductal and Lobular Neoplasms |\n",
       "| TCGA.BH.A0BM.11A | Normal | BH | Ductal and Lobular Neoplasms |\n",
       "| TCGA.D8.A1JH.01A | Tumor  | D8 | Ductal and Lobular Neoplasms |\n",
       "| TCGA.BH.A0DL.11A | Normal | BH | Complex Epithelial Neoplasms |\n",
       "| TCGA.E9.A1N4.11A | Normal | E9 | Ductal and Lobular Neoplasms |\n",
       "| TCGA.E2.A3DX.01A | Tumor  | E2 | Ductal and Lobular Neoplasms |\n",
       "\n"
      ],
      "text/plain": [
       "                 type   tissue_source_site disease_type                \n",
       "TCGA.BH.A1FR.11B Normal BH                 Ductal and Lobular Neoplasms\n",
       "TCGA.BH.A0BM.11A Normal BH                 Ductal and Lobular Neoplasms\n",
       "TCGA.D8.A1JH.01A Tumor  D8                 Ductal and Lobular Neoplasms\n",
       "TCGA.BH.A0DL.11A Normal BH                 Complex Epithelial Neoplasms\n",
       "TCGA.E9.A1N4.11A Normal E9                 Ductal and Lobular Neoplasms\n",
       "TCGA.E2.A3DX.01A Tumor  E2                 Ductal and Lobular Neoplasms"
      ]
     },
     "metadata": {},
     "output_type": "display_data"
    }
   ],
   "source": [
    "# Load phenotype data\n",
    "pheno_data <- read.table(\"TCGA-BRCA.pheno.tsv\", header = TRUE, row.names = 1)\n",
    "head(pheno_data)"
   ]
  },
  {
   "cell_type": "code",
   "execution_count": 6,
   "metadata": {
    "vscode": {
     "languageId": "r"
    }
   },
   "outputs": [
    {
     "data": {
      "text/html": [
       "<style>\n",
       ".list-inline {list-style: none; margin:0; padding: 0}\n",
       ".list-inline>li {display: inline-block}\n",
       ".list-inline>li:not(:last-child)::after {content: \"\\00b7\"; padding: 0 .5ex}\n",
       "</style>\n",
       "<ol class=list-inline><li>122</li><li>3</li></ol>\n"
      ],
      "text/latex": [
       "\\begin{enumerate*}\n",
       "\\item 122\n",
       "\\item 3\n",
       "\\end{enumerate*}\n"
      ],
      "text/markdown": [
       "1. 122\n",
       "2. 3\n",
       "\n",
       "\n"
      ],
      "text/plain": [
       "[1] 122   3"
      ]
     },
     "metadata": {},
     "output_type": "display_data"
    }
   ],
   "source": [
    "dim(pheno_data)"
   ]
  },
  {
   "attachments": {},
   "cell_type": "markdown",
   "metadata": {},
   "source": [
    "As it mentioned in the problem statement that not all samples are present in both files. Let's find common samples present"
   ]
  },
  {
   "cell_type": "code",
   "execution_count": 7,
   "metadata": {
    "vscode": {
     "languageId": "r"
    }
   },
   "outputs": [],
   "source": [
    "common_samples <- intersect(colnames(count_data), rownames(pheno_data))"
   ]
  },
  {
   "cell_type": "code",
   "execution_count": 8,
   "metadata": {
    "vscode": {
     "languageId": "r"
    }
   },
   "outputs": [
    {
     "data": {
      "text/html": [
       "<style>\n",
       ".list-inline {list-style: none; margin:0; padding: 0}\n",
       ".list-inline>li {display: inline-block}\n",
       ".list-inline>li:not(:last-child)::after {content: \"\\00b7\"; padding: 0 .5ex}\n",
       "</style>\n",
       "<ol class=list-inline><li>'TCGA.E2.A153.11A'</li><li>'TCGA.D8.A1Y3.01A'</li><li>'TCGA.EW.A3E8.01B'</li><li>'TCGA.AC.A3QQ.01B'</li><li>'TCGA.D8.A3Z6.01A'</li><li>'TCGA.BH.A1FB.11A'</li><li>'TCGA.E9.A228.01A'</li><li>'TCGA.GI.A2C8.11A'</li><li>'TCGA.E2.A105.01A'</li><li>'TCGA.BH.A0BQ.11A'</li><li>'TCGA.E9.A1RC.11A'</li><li>'TCGA.BH.A0BM.01A'</li><li>'TCGA.B6.A3ZX.01A'</li><li>'TCGA.AC.A2FF.11A'</li><li>'TCGA.A8.A09Q.01A'</li><li>'TCGA.BH.A0C3.11A'</li><li>'TCGA.BH.A0DO.11A'</li><li>'TCGA.OL.A5S0.01A'</li><li>'TCGA.A2.A3XV.01A'</li><li>'TCGA.BH.A8FY.01A'</li><li>'TCGA.BH.A1F8.11B'</li><li>'TCGA.BH.A0BM.11A'</li><li>'TCGA.E2.A15M.11A'</li><li>'TCGA.A7.A0D9.11A'</li><li>'TCGA.E9.A1R6.01A'</li><li>'TCGA.B6.A0RG.01A'</li><li>'TCGA.BH.A18K.11A'</li><li>'TCGA.BH.A1EN.11A'</li><li>'TCGA.BH.A0C7.01B'</li><li>'TCGA.EW.A1OY.01A'</li><li>'TCGA.A7.A3IZ.01A'</li><li>'TCGA.BH.A18M.11A'</li><li>'TCGA.AR.A24K.01A'</li><li>'TCGA.BH.A0BG.01A'</li><li>'TCGA.BH.A1EW.11B'</li><li>'TCGA.E2.A14X.01A'</li><li>'TCGA.E2.A1L7.11A'</li><li>'TCGA.AC.A8OS.01A'</li><li>'TCGA.A7.A13G.11A'</li><li>'TCGA.AR.A1AK.01A'</li><li>'TCGA.BH.A0AU.11A'</li><li>'TCGA.BH.A1F5.01A'</li><li>'TCGA.EW.A6SB.01A'</li><li>'TCGA.D8.A145.01A'</li><li>'TCGA.BH.A0HK.11A'</li><li>'TCGA.E2.A15I.11A'</li><li>'TCGA.BH.A0B3.11B'</li><li>'TCGA.B6.A0X4.01A'</li><li>'TCGA.E2.A14Q.01A'</li><li>'TCGA.E2.A15K.11A'</li><li>'TCGA.AC.A62Y.01A'</li><li>'TCGA.BH.A1FN.11A'</li><li>'TCGA.E9.A1NG.11A'</li><li>'TCGA.BH.A0DL.01A'</li><li>'TCGA.E9.A1N9.11A'</li><li>'TCGA.AO.A125.01A'</li><li>'TCGA.BH.A1FD.11B'</li><li>'TCGA.A7.A0CD.01A'</li><li>'TCGA.E9.A1RI.11A'</li><li>'TCGA.BH.A0C0.11A'</li><li>'TCGA.E2.A3DX.01A'</li><li>'TCGA.BH.A0BA.11A'</li><li>'TCGA.BH.A208.11A'</li><li>'TCGA.A8.A08L.01A'</li><li>'TCGA.D8.A1JI.01A'</li><li>'TCGA.BH.A0DZ.11A'</li><li>'TCGA.BH.A1EO.11A'</li><li>'TCGA.E9.A1N4.11A'</li><li>'TCGA.BH.A0W4.01A'</li><li>'TCGA.LQ.A4E4.01A'</li><li>'TCGA.BH.A0DL.11A'</li><li>'TCGA.BH.A1FE.11B'</li><li>'TCGA.AR.A0U2.01A'</li><li>'TCGA.AN.A0FV.01A'</li><li>'TCGA.E2.A1BC.11A'</li><li>'TCGA.AN.A0XW.01A'</li><li>'TCGA.A7.A0CH.11A'</li><li>'TCGA.BH.A18V.11A'</li><li>'TCGA.E9.A5FL.01A'</li><li>'TCGA.D8.A1JH.01A'</li><li>'TCGA.A8.A085.01A'</li><li>'TCGA.E9.A54Y.01A'</li><li>'TCGA.BH.A1F6.11B'</li><li>'TCGA.D8.A1JA.01A'</li><li>'TCGA.BH.A0BJ.01A'</li><li>'TCGA.EW.A2FR.01A'</li><li>'TCGA.BH.A1FG.11B'</li><li>'TCGA.AQ.A54N.01A'</li><li>'TCGA.AQ.A0Y5.01A'</li><li>'TCGA.AC.A6IX.01A'</li><li>'TCGA.E2.A1LH.11A'</li><li>'TCGA.BH.A18P.11A'</li><li>'TCGA.BH.A0DQ.11A'</li><li>'TCGA.D8.A73U.01A'</li><li>'TCGA.A7.A4SF.01A'</li><li>'TCGA.MS.A51U.01A'</li><li>'TCGA.BH.A0BR.01A'</li><li>'TCGA.A2.A3XZ.01A'</li><li>'TCGA.BH.A0DQ.01A'</li><li>'TCGA.A2.A1G6.01A'</li><li>'TCGA.A2.A04T.01A'</li><li>'TCGA.C8.A12P.01A'</li><li>'TCGA.B6.A0RU.01A'</li><li>'TCGA.A2.A1FV.01A'</li><li>'TCGA.A8.A09K.01A'</li><li>'TCGA.D8.A1XG.01A'</li><li>'TCGA.EW.A1IX.01A'</li><li>'TCGA.BH.A203.11A'</li><li>'TCGA.E9.A1RD.11A'</li><li>'TCGA.BH.A1FR.11B'</li><li>'TCGA.D8.A1JF.01A'</li><li>'TCGA.BH.A1FD.01A'</li><li>'TCGA.E9.A1N6.11A'</li><li>'TCGA.B6.A0I6.01A'</li><li>'TCGA.A2.A25C.01A'</li><li>'TCGA.AC.A23H.11A'</li><li>'TCGA.A8.A07C.01A'</li><li>'TCGA.BH.A1F2.11A'</li><li>'TCGA.A7.A0D9.01A'</li><li>'TCGA.E2.A1L6.01A'</li><li>'TCGA.BH.A0BJ.11A'</li><li>'TCGA.E2.A15G.01A'</li></ol>\n"
      ],
      "text/latex": [
       "\\begin{enumerate*}\n",
       "\\item 'TCGA.E2.A153.11A'\n",
       "\\item 'TCGA.D8.A1Y3.01A'\n",
       "\\item 'TCGA.EW.A3E8.01B'\n",
       "\\item 'TCGA.AC.A3QQ.01B'\n",
       "\\item 'TCGA.D8.A3Z6.01A'\n",
       "\\item 'TCGA.BH.A1FB.11A'\n",
       "\\item 'TCGA.E9.A228.01A'\n",
       "\\item 'TCGA.GI.A2C8.11A'\n",
       "\\item 'TCGA.E2.A105.01A'\n",
       "\\item 'TCGA.BH.A0BQ.11A'\n",
       "\\item 'TCGA.E9.A1RC.11A'\n",
       "\\item 'TCGA.BH.A0BM.01A'\n",
       "\\item 'TCGA.B6.A3ZX.01A'\n",
       "\\item 'TCGA.AC.A2FF.11A'\n",
       "\\item 'TCGA.A8.A09Q.01A'\n",
       "\\item 'TCGA.BH.A0C3.11A'\n",
       "\\item 'TCGA.BH.A0DO.11A'\n",
       "\\item 'TCGA.OL.A5S0.01A'\n",
       "\\item 'TCGA.A2.A3XV.01A'\n",
       "\\item 'TCGA.BH.A8FY.01A'\n",
       "\\item 'TCGA.BH.A1F8.11B'\n",
       "\\item 'TCGA.BH.A0BM.11A'\n",
       "\\item 'TCGA.E2.A15M.11A'\n",
       "\\item 'TCGA.A7.A0D9.11A'\n",
       "\\item 'TCGA.E9.A1R6.01A'\n",
       "\\item 'TCGA.B6.A0RG.01A'\n",
       "\\item 'TCGA.BH.A18K.11A'\n",
       "\\item 'TCGA.BH.A1EN.11A'\n",
       "\\item 'TCGA.BH.A0C7.01B'\n",
       "\\item 'TCGA.EW.A1OY.01A'\n",
       "\\item 'TCGA.A7.A3IZ.01A'\n",
       "\\item 'TCGA.BH.A18M.11A'\n",
       "\\item 'TCGA.AR.A24K.01A'\n",
       "\\item 'TCGA.BH.A0BG.01A'\n",
       "\\item 'TCGA.BH.A1EW.11B'\n",
       "\\item 'TCGA.E2.A14X.01A'\n",
       "\\item 'TCGA.E2.A1L7.11A'\n",
       "\\item 'TCGA.AC.A8OS.01A'\n",
       "\\item 'TCGA.A7.A13G.11A'\n",
       "\\item 'TCGA.AR.A1AK.01A'\n",
       "\\item 'TCGA.BH.A0AU.11A'\n",
       "\\item 'TCGA.BH.A1F5.01A'\n",
       "\\item 'TCGA.EW.A6SB.01A'\n",
       "\\item 'TCGA.D8.A145.01A'\n",
       "\\item 'TCGA.BH.A0HK.11A'\n",
       "\\item 'TCGA.E2.A15I.11A'\n",
       "\\item 'TCGA.BH.A0B3.11B'\n",
       "\\item 'TCGA.B6.A0X4.01A'\n",
       "\\item 'TCGA.E2.A14Q.01A'\n",
       "\\item 'TCGA.E2.A15K.11A'\n",
       "\\item 'TCGA.AC.A62Y.01A'\n",
       "\\item 'TCGA.BH.A1FN.11A'\n",
       "\\item 'TCGA.E9.A1NG.11A'\n",
       "\\item 'TCGA.BH.A0DL.01A'\n",
       "\\item 'TCGA.E9.A1N9.11A'\n",
       "\\item 'TCGA.AO.A125.01A'\n",
       "\\item 'TCGA.BH.A1FD.11B'\n",
       "\\item 'TCGA.A7.A0CD.01A'\n",
       "\\item 'TCGA.E9.A1RI.11A'\n",
       "\\item 'TCGA.BH.A0C0.11A'\n",
       "\\item 'TCGA.E2.A3DX.01A'\n",
       "\\item 'TCGA.BH.A0BA.11A'\n",
       "\\item 'TCGA.BH.A208.11A'\n",
       "\\item 'TCGA.A8.A08L.01A'\n",
       "\\item 'TCGA.D8.A1JI.01A'\n",
       "\\item 'TCGA.BH.A0DZ.11A'\n",
       "\\item 'TCGA.BH.A1EO.11A'\n",
       "\\item 'TCGA.E9.A1N4.11A'\n",
       "\\item 'TCGA.BH.A0W4.01A'\n",
       "\\item 'TCGA.LQ.A4E4.01A'\n",
       "\\item 'TCGA.BH.A0DL.11A'\n",
       "\\item 'TCGA.BH.A1FE.11B'\n",
       "\\item 'TCGA.AR.A0U2.01A'\n",
       "\\item 'TCGA.AN.A0FV.01A'\n",
       "\\item 'TCGA.E2.A1BC.11A'\n",
       "\\item 'TCGA.AN.A0XW.01A'\n",
       "\\item 'TCGA.A7.A0CH.11A'\n",
       "\\item 'TCGA.BH.A18V.11A'\n",
       "\\item 'TCGA.E9.A5FL.01A'\n",
       "\\item 'TCGA.D8.A1JH.01A'\n",
       "\\item 'TCGA.A8.A085.01A'\n",
       "\\item 'TCGA.E9.A54Y.01A'\n",
       "\\item 'TCGA.BH.A1F6.11B'\n",
       "\\item 'TCGA.D8.A1JA.01A'\n",
       "\\item 'TCGA.BH.A0BJ.01A'\n",
       "\\item 'TCGA.EW.A2FR.01A'\n",
       "\\item 'TCGA.BH.A1FG.11B'\n",
       "\\item 'TCGA.AQ.A54N.01A'\n",
       "\\item 'TCGA.AQ.A0Y5.01A'\n",
       "\\item 'TCGA.AC.A6IX.01A'\n",
       "\\item 'TCGA.E2.A1LH.11A'\n",
       "\\item 'TCGA.BH.A18P.11A'\n",
       "\\item 'TCGA.BH.A0DQ.11A'\n",
       "\\item 'TCGA.D8.A73U.01A'\n",
       "\\item 'TCGA.A7.A4SF.01A'\n",
       "\\item 'TCGA.MS.A51U.01A'\n",
       "\\item 'TCGA.BH.A0BR.01A'\n",
       "\\item 'TCGA.A2.A3XZ.01A'\n",
       "\\item 'TCGA.BH.A0DQ.01A'\n",
       "\\item 'TCGA.A2.A1G6.01A'\n",
       "\\item 'TCGA.A2.A04T.01A'\n",
       "\\item 'TCGA.C8.A12P.01A'\n",
       "\\item 'TCGA.B6.A0RU.01A'\n",
       "\\item 'TCGA.A2.A1FV.01A'\n",
       "\\item 'TCGA.A8.A09K.01A'\n",
       "\\item 'TCGA.D8.A1XG.01A'\n",
       "\\item 'TCGA.EW.A1IX.01A'\n",
       "\\item 'TCGA.BH.A203.11A'\n",
       "\\item 'TCGA.E9.A1RD.11A'\n",
       "\\item 'TCGA.BH.A1FR.11B'\n",
       "\\item 'TCGA.D8.A1JF.01A'\n",
       "\\item 'TCGA.BH.A1FD.01A'\n",
       "\\item 'TCGA.E9.A1N6.11A'\n",
       "\\item 'TCGA.B6.A0I6.01A'\n",
       "\\item 'TCGA.A2.A25C.01A'\n",
       "\\item 'TCGA.AC.A23H.11A'\n",
       "\\item 'TCGA.A8.A07C.01A'\n",
       "\\item 'TCGA.BH.A1F2.11A'\n",
       "\\item 'TCGA.A7.A0D9.01A'\n",
       "\\item 'TCGA.E2.A1L6.01A'\n",
       "\\item 'TCGA.BH.A0BJ.11A'\n",
       "\\item 'TCGA.E2.A15G.01A'\n",
       "\\end{enumerate*}\n"
      ],
      "text/markdown": [
       "1. 'TCGA.E2.A153.11A'\n",
       "2. 'TCGA.D8.A1Y3.01A'\n",
       "3. 'TCGA.EW.A3E8.01B'\n",
       "4. 'TCGA.AC.A3QQ.01B'\n",
       "5. 'TCGA.D8.A3Z6.01A'\n",
       "6. 'TCGA.BH.A1FB.11A'\n",
       "7. 'TCGA.E9.A228.01A'\n",
       "8. 'TCGA.GI.A2C8.11A'\n",
       "9. 'TCGA.E2.A105.01A'\n",
       "10. 'TCGA.BH.A0BQ.11A'\n",
       "11. 'TCGA.E9.A1RC.11A'\n",
       "12. 'TCGA.BH.A0BM.01A'\n",
       "13. 'TCGA.B6.A3ZX.01A'\n",
       "14. 'TCGA.AC.A2FF.11A'\n",
       "15. 'TCGA.A8.A09Q.01A'\n",
       "16. 'TCGA.BH.A0C3.11A'\n",
       "17. 'TCGA.BH.A0DO.11A'\n",
       "18. 'TCGA.OL.A5S0.01A'\n",
       "19. 'TCGA.A2.A3XV.01A'\n",
       "20. 'TCGA.BH.A8FY.01A'\n",
       "21. 'TCGA.BH.A1F8.11B'\n",
       "22. 'TCGA.BH.A0BM.11A'\n",
       "23. 'TCGA.E2.A15M.11A'\n",
       "24. 'TCGA.A7.A0D9.11A'\n",
       "25. 'TCGA.E9.A1R6.01A'\n",
       "26. 'TCGA.B6.A0RG.01A'\n",
       "27. 'TCGA.BH.A18K.11A'\n",
       "28. 'TCGA.BH.A1EN.11A'\n",
       "29. 'TCGA.BH.A0C7.01B'\n",
       "30. 'TCGA.EW.A1OY.01A'\n",
       "31. 'TCGA.A7.A3IZ.01A'\n",
       "32. 'TCGA.BH.A18M.11A'\n",
       "33. 'TCGA.AR.A24K.01A'\n",
       "34. 'TCGA.BH.A0BG.01A'\n",
       "35. 'TCGA.BH.A1EW.11B'\n",
       "36. 'TCGA.E2.A14X.01A'\n",
       "37. 'TCGA.E2.A1L7.11A'\n",
       "38. 'TCGA.AC.A8OS.01A'\n",
       "39. 'TCGA.A7.A13G.11A'\n",
       "40. 'TCGA.AR.A1AK.01A'\n",
       "41. 'TCGA.BH.A0AU.11A'\n",
       "42. 'TCGA.BH.A1F5.01A'\n",
       "43. 'TCGA.EW.A6SB.01A'\n",
       "44. 'TCGA.D8.A145.01A'\n",
       "45. 'TCGA.BH.A0HK.11A'\n",
       "46. 'TCGA.E2.A15I.11A'\n",
       "47. 'TCGA.BH.A0B3.11B'\n",
       "48. 'TCGA.B6.A0X4.01A'\n",
       "49. 'TCGA.E2.A14Q.01A'\n",
       "50. 'TCGA.E2.A15K.11A'\n",
       "51. 'TCGA.AC.A62Y.01A'\n",
       "52. 'TCGA.BH.A1FN.11A'\n",
       "53. 'TCGA.E9.A1NG.11A'\n",
       "54. 'TCGA.BH.A0DL.01A'\n",
       "55. 'TCGA.E9.A1N9.11A'\n",
       "56. 'TCGA.AO.A125.01A'\n",
       "57. 'TCGA.BH.A1FD.11B'\n",
       "58. 'TCGA.A7.A0CD.01A'\n",
       "59. 'TCGA.E9.A1RI.11A'\n",
       "60. 'TCGA.BH.A0C0.11A'\n",
       "61. 'TCGA.E2.A3DX.01A'\n",
       "62. 'TCGA.BH.A0BA.11A'\n",
       "63. 'TCGA.BH.A208.11A'\n",
       "64. 'TCGA.A8.A08L.01A'\n",
       "65. 'TCGA.D8.A1JI.01A'\n",
       "66. 'TCGA.BH.A0DZ.11A'\n",
       "67. 'TCGA.BH.A1EO.11A'\n",
       "68. 'TCGA.E9.A1N4.11A'\n",
       "69. 'TCGA.BH.A0W4.01A'\n",
       "70. 'TCGA.LQ.A4E4.01A'\n",
       "71. 'TCGA.BH.A0DL.11A'\n",
       "72. 'TCGA.BH.A1FE.11B'\n",
       "73. 'TCGA.AR.A0U2.01A'\n",
       "74. 'TCGA.AN.A0FV.01A'\n",
       "75. 'TCGA.E2.A1BC.11A'\n",
       "76. 'TCGA.AN.A0XW.01A'\n",
       "77. 'TCGA.A7.A0CH.11A'\n",
       "78. 'TCGA.BH.A18V.11A'\n",
       "79. 'TCGA.E9.A5FL.01A'\n",
       "80. 'TCGA.D8.A1JH.01A'\n",
       "81. 'TCGA.A8.A085.01A'\n",
       "82. 'TCGA.E9.A54Y.01A'\n",
       "83. 'TCGA.BH.A1F6.11B'\n",
       "84. 'TCGA.D8.A1JA.01A'\n",
       "85. 'TCGA.BH.A0BJ.01A'\n",
       "86. 'TCGA.EW.A2FR.01A'\n",
       "87. 'TCGA.BH.A1FG.11B'\n",
       "88. 'TCGA.AQ.A54N.01A'\n",
       "89. 'TCGA.AQ.A0Y5.01A'\n",
       "90. 'TCGA.AC.A6IX.01A'\n",
       "91. 'TCGA.E2.A1LH.11A'\n",
       "92. 'TCGA.BH.A18P.11A'\n",
       "93. 'TCGA.BH.A0DQ.11A'\n",
       "94. 'TCGA.D8.A73U.01A'\n",
       "95. 'TCGA.A7.A4SF.01A'\n",
       "96. 'TCGA.MS.A51U.01A'\n",
       "97. 'TCGA.BH.A0BR.01A'\n",
       "98. 'TCGA.A2.A3XZ.01A'\n",
       "99. 'TCGA.BH.A0DQ.01A'\n",
       "100. 'TCGA.A2.A1G6.01A'\n",
       "101. 'TCGA.A2.A04T.01A'\n",
       "102. 'TCGA.C8.A12P.01A'\n",
       "103. 'TCGA.B6.A0RU.01A'\n",
       "104. 'TCGA.A2.A1FV.01A'\n",
       "105. 'TCGA.A8.A09K.01A'\n",
       "106. 'TCGA.D8.A1XG.01A'\n",
       "107. 'TCGA.EW.A1IX.01A'\n",
       "108. 'TCGA.BH.A203.11A'\n",
       "109. 'TCGA.E9.A1RD.11A'\n",
       "110. 'TCGA.BH.A1FR.11B'\n",
       "111. 'TCGA.D8.A1JF.01A'\n",
       "112. 'TCGA.BH.A1FD.01A'\n",
       "113. 'TCGA.E9.A1N6.11A'\n",
       "114. 'TCGA.B6.A0I6.01A'\n",
       "115. 'TCGA.A2.A25C.01A'\n",
       "116. 'TCGA.AC.A23H.11A'\n",
       "117. 'TCGA.A8.A07C.01A'\n",
       "118. 'TCGA.BH.A1F2.11A'\n",
       "119. 'TCGA.A7.A0D9.01A'\n",
       "120. 'TCGA.E2.A1L6.01A'\n",
       "121. 'TCGA.BH.A0BJ.11A'\n",
       "122. 'TCGA.E2.A15G.01A'\n",
       "\n",
       "\n"
      ],
      "text/plain": [
       "  [1] \"TCGA.E2.A153.11A\" \"TCGA.D8.A1Y3.01A\" \"TCGA.EW.A3E8.01B\"\n",
       "  [4] \"TCGA.AC.A3QQ.01B\" \"TCGA.D8.A3Z6.01A\" \"TCGA.BH.A1FB.11A\"\n",
       "  [7] \"TCGA.E9.A228.01A\" \"TCGA.GI.A2C8.11A\" \"TCGA.E2.A105.01A\"\n",
       " [10] \"TCGA.BH.A0BQ.11A\" \"TCGA.E9.A1RC.11A\" \"TCGA.BH.A0BM.01A\"\n",
       " [13] \"TCGA.B6.A3ZX.01A\" \"TCGA.AC.A2FF.11A\" \"TCGA.A8.A09Q.01A\"\n",
       " [16] \"TCGA.BH.A0C3.11A\" \"TCGA.BH.A0DO.11A\" \"TCGA.OL.A5S0.01A\"\n",
       " [19] \"TCGA.A2.A3XV.01A\" \"TCGA.BH.A8FY.01A\" \"TCGA.BH.A1F8.11B\"\n",
       " [22] \"TCGA.BH.A0BM.11A\" \"TCGA.E2.A15M.11A\" \"TCGA.A7.A0D9.11A\"\n",
       " [25] \"TCGA.E9.A1R6.01A\" \"TCGA.B6.A0RG.01A\" \"TCGA.BH.A18K.11A\"\n",
       " [28] \"TCGA.BH.A1EN.11A\" \"TCGA.BH.A0C7.01B\" \"TCGA.EW.A1OY.01A\"\n",
       " [31] \"TCGA.A7.A3IZ.01A\" \"TCGA.BH.A18M.11A\" \"TCGA.AR.A24K.01A\"\n",
       " [34] \"TCGA.BH.A0BG.01A\" \"TCGA.BH.A1EW.11B\" \"TCGA.E2.A14X.01A\"\n",
       " [37] \"TCGA.E2.A1L7.11A\" \"TCGA.AC.A8OS.01A\" \"TCGA.A7.A13G.11A\"\n",
       " [40] \"TCGA.AR.A1AK.01A\" \"TCGA.BH.A0AU.11A\" \"TCGA.BH.A1F5.01A\"\n",
       " [43] \"TCGA.EW.A6SB.01A\" \"TCGA.D8.A145.01A\" \"TCGA.BH.A0HK.11A\"\n",
       " [46] \"TCGA.E2.A15I.11A\" \"TCGA.BH.A0B3.11B\" \"TCGA.B6.A0X4.01A\"\n",
       " [49] \"TCGA.E2.A14Q.01A\" \"TCGA.E2.A15K.11A\" \"TCGA.AC.A62Y.01A\"\n",
       " [52] \"TCGA.BH.A1FN.11A\" \"TCGA.E9.A1NG.11A\" \"TCGA.BH.A0DL.01A\"\n",
       " [55] \"TCGA.E9.A1N9.11A\" \"TCGA.AO.A125.01A\" \"TCGA.BH.A1FD.11B\"\n",
       " [58] \"TCGA.A7.A0CD.01A\" \"TCGA.E9.A1RI.11A\" \"TCGA.BH.A0C0.11A\"\n",
       " [61] \"TCGA.E2.A3DX.01A\" \"TCGA.BH.A0BA.11A\" \"TCGA.BH.A208.11A\"\n",
       " [64] \"TCGA.A8.A08L.01A\" \"TCGA.D8.A1JI.01A\" \"TCGA.BH.A0DZ.11A\"\n",
       " [67] \"TCGA.BH.A1EO.11A\" \"TCGA.E9.A1N4.11A\" \"TCGA.BH.A0W4.01A\"\n",
       " [70] \"TCGA.LQ.A4E4.01A\" \"TCGA.BH.A0DL.11A\" \"TCGA.BH.A1FE.11B\"\n",
       " [73] \"TCGA.AR.A0U2.01A\" \"TCGA.AN.A0FV.01A\" \"TCGA.E2.A1BC.11A\"\n",
       " [76] \"TCGA.AN.A0XW.01A\" \"TCGA.A7.A0CH.11A\" \"TCGA.BH.A18V.11A\"\n",
       " [79] \"TCGA.E9.A5FL.01A\" \"TCGA.D8.A1JH.01A\" \"TCGA.A8.A085.01A\"\n",
       " [82] \"TCGA.E9.A54Y.01A\" \"TCGA.BH.A1F6.11B\" \"TCGA.D8.A1JA.01A\"\n",
       " [85] \"TCGA.BH.A0BJ.01A\" \"TCGA.EW.A2FR.01A\" \"TCGA.BH.A1FG.11B\"\n",
       " [88] \"TCGA.AQ.A54N.01A\" \"TCGA.AQ.A0Y5.01A\" \"TCGA.AC.A6IX.01A\"\n",
       " [91] \"TCGA.E2.A1LH.11A\" \"TCGA.BH.A18P.11A\" \"TCGA.BH.A0DQ.11A\"\n",
       " [94] \"TCGA.D8.A73U.01A\" \"TCGA.A7.A4SF.01A\" \"TCGA.MS.A51U.01A\"\n",
       " [97] \"TCGA.BH.A0BR.01A\" \"TCGA.A2.A3XZ.01A\" \"TCGA.BH.A0DQ.01A\"\n",
       "[100] \"TCGA.A2.A1G6.01A\" \"TCGA.A2.A04T.01A\" \"TCGA.C8.A12P.01A\"\n",
       "[103] \"TCGA.B6.A0RU.01A\" \"TCGA.A2.A1FV.01A\" \"TCGA.A8.A09K.01A\"\n",
       "[106] \"TCGA.D8.A1XG.01A\" \"TCGA.EW.A1IX.01A\" \"TCGA.BH.A203.11A\"\n",
       "[109] \"TCGA.E9.A1RD.11A\" \"TCGA.BH.A1FR.11B\" \"TCGA.D8.A1JF.01A\"\n",
       "[112] \"TCGA.BH.A1FD.01A\" \"TCGA.E9.A1N6.11A\" \"TCGA.B6.A0I6.01A\"\n",
       "[115] \"TCGA.A2.A25C.01A\" \"TCGA.AC.A23H.11A\" \"TCGA.A8.A07C.01A\"\n",
       "[118] \"TCGA.BH.A1F2.11A\" \"TCGA.A7.A0D9.01A\" \"TCGA.E2.A1L6.01A\"\n",
       "[121] \"TCGA.BH.A0BJ.11A\" \"TCGA.E2.A15G.01A\""
      ]
     },
     "metadata": {},
     "output_type": "display_data"
    }
   ],
   "source": [
    "common_samples"
   ]
  },
  {
   "cell_type": "code",
   "execution_count": 9,
   "metadata": {
    "vscode": {
     "languageId": "r"
    }
   },
   "outputs": [
    {
     "data": {
      "text/html": [
       "122"
      ],
      "text/latex": [
       "122"
      ],
      "text/markdown": [
       "122"
      ],
      "text/plain": [
       "[1] 122"
      ]
     },
     "metadata": {},
     "output_type": "display_data"
    }
   ],
   "source": [
    "length(common_samples)"
   ]
  },
  {
   "cell_type": "code",
   "execution_count": 10,
   "metadata": {
    "vscode": {
     "languageId": "r"
    }
   },
   "outputs": [
    {
     "data": {
      "text/html": [
       "<table class=\"dataframe\">\n",
       "<caption>A data.frame: 6 × 122</caption>\n",
       "<thead>\n",
       "\t<tr><th></th><th scope=col>TCGA.E2.A153.11A</th><th scope=col>TCGA.D8.A1Y3.01A</th><th scope=col>TCGA.EW.A3E8.01B</th><th scope=col>TCGA.AC.A3QQ.01B</th><th scope=col>TCGA.D8.A3Z6.01A</th><th scope=col>TCGA.BH.A1FB.11A</th><th scope=col>TCGA.E9.A228.01A</th><th scope=col>TCGA.GI.A2C8.11A</th><th scope=col>TCGA.E2.A105.01A</th><th scope=col>TCGA.BH.A0BQ.11A</th><th scope=col>⋯</th><th scope=col>TCGA.E9.A1N6.11A</th><th scope=col>TCGA.B6.A0I6.01A</th><th scope=col>TCGA.A2.A25C.01A</th><th scope=col>TCGA.AC.A23H.11A</th><th scope=col>TCGA.A8.A07C.01A</th><th scope=col>TCGA.BH.A1F2.11A</th><th scope=col>TCGA.A7.A0D9.01A</th><th scope=col>TCGA.E2.A1L6.01A</th><th scope=col>TCGA.BH.A0BJ.11A</th><th scope=col>TCGA.E2.A15G.01A</th></tr>\n",
       "\t<tr><th></th><th scope=col>&lt;dbl&gt;</th><th scope=col>&lt;dbl&gt;</th><th scope=col>&lt;dbl&gt;</th><th scope=col>&lt;dbl&gt;</th><th scope=col>&lt;dbl&gt;</th><th scope=col>&lt;dbl&gt;</th><th scope=col>&lt;dbl&gt;</th><th scope=col>&lt;dbl&gt;</th><th scope=col>&lt;dbl&gt;</th><th scope=col>&lt;dbl&gt;</th><th scope=col>⋯</th><th scope=col>&lt;dbl&gt;</th><th scope=col>&lt;dbl&gt;</th><th scope=col>&lt;dbl&gt;</th><th scope=col>&lt;dbl&gt;</th><th scope=col>&lt;dbl&gt;</th><th scope=col>&lt;dbl&gt;</th><th scope=col>&lt;dbl&gt;</th><th scope=col>&lt;dbl&gt;</th><th scope=col>&lt;dbl&gt;</th><th scope=col>&lt;dbl&gt;</th></tr>\n",
       "</thead>\n",
       "<tbody>\n",
       "\t<tr><th scope=row>A1BG</th><td> 4.321928</td><td> 3.700440</td><td> 6.491853</td><td> 4.523562</td><td> 5.857981</td><td> 5.523562</td><td> 4.392317</td><td> 2.321928</td><td> 5.781360</td><td> 4.700440</td><td>⋯</td><td> 4.00000</td><td> 3.906891</td><td> 5.807355</td><td> 4.906891</td><td> 4.169925</td><td> 5.209453</td><td> 4.754888</td><td> 6.022368</td><td> 4.584963</td><td> 5.247928</td></tr>\n",
       "\t<tr><th scope=row>A1CF</th><td> 2.321928</td><td> 0.000000</td><td> 1.584963</td><td> 6.189825</td><td> 2.584963</td><td> 0.000000</td><td> 4.392317</td><td> 2.321928</td><td> 2.321928</td><td> 1.584963</td><td>⋯</td><td> 1.00000</td><td> 1.000000</td><td> 4.087463</td><td> 2.321928</td><td> 4.459432</td><td> 2.584963</td><td> 3.000000</td><td> 2.807355</td><td> 3.169925</td><td> 1.584963</td></tr>\n",
       "\t<tr><th scope=row>A2M</th><td>16.006041</td><td>14.433194</td><td>15.312954</td><td>13.529431</td><td>15.428393</td><td>15.602670</td><td>14.653909</td><td>15.254032</td><td>14.375990</td><td>16.594922</td><td>⋯</td><td>15.93894</td><td>14.440350</td><td>15.804736</td><td>16.823716</td><td>15.155293</td><td>17.071693</td><td>14.882977</td><td>16.091745</td><td>16.293454</td><td>14.156636</td></tr>\n",
       "\t<tr><th scope=row>A2ML1</th><td> 5.491853</td><td> 6.409391</td><td> 4.857981</td><td> 6.228819</td><td> 3.906891</td><td> 4.754888</td><td> 4.087463</td><td> 2.807355</td><td> 4.392317</td><td> 7.467606</td><td>⋯</td><td> 5.83289</td><td> 6.658211</td><td> 4.321928</td><td> 7.247928</td><td> 8.238405</td><td> 6.087463</td><td> 6.870365</td><td> 4.169925</td><td> 6.000000</td><td> 3.321928</td></tr>\n",
       "\t<tr><th scope=row>A3GALT2</th><td> 1.584963</td><td> 0.000000</td><td> 1.584963</td><td> 0.000000</td><td> 2.321928</td><td> 2.321928</td><td> 1.000000</td><td> 1.584963</td><td> 1.584963</td><td> 2.000000</td><td>⋯</td><td> 3.00000</td><td> 4.523562</td><td> 0.000000</td><td> 1.000000</td><td> 3.000000</td><td> 3.000000</td><td> 2.584963</td><td> 1.584963</td><td> 2.807355</td><td> 2.321928</td></tr>\n",
       "\t<tr><th scope=row>A4GALT</th><td> 9.876517</td><td> 8.049849</td><td>10.649256</td><td> 6.209453</td><td>11.076148</td><td> 8.879583</td><td> 8.357552</td><td> 9.766529</td><td>10.531381</td><td> 9.280771</td><td>⋯</td><td>10.02098</td><td>11.371777</td><td>10.112440</td><td> 9.871905</td><td> 8.851749</td><td>10.450180</td><td> 9.656425</td><td>11.179909</td><td> 9.409391</td><td>10.226412</td></tr>\n",
       "</tbody>\n",
       "</table>\n"
      ],
      "text/latex": [
       "A data.frame: 6 × 122\n",
       "\\begin{tabular}{r|lllllllllllllllllllll}\n",
       "  & TCGA.E2.A153.11A & TCGA.D8.A1Y3.01A & TCGA.EW.A3E8.01B & TCGA.AC.A3QQ.01B & TCGA.D8.A3Z6.01A & TCGA.BH.A1FB.11A & TCGA.E9.A228.01A & TCGA.GI.A2C8.11A & TCGA.E2.A105.01A & TCGA.BH.A0BQ.11A & ⋯ & TCGA.E9.A1N6.11A & TCGA.B6.A0I6.01A & TCGA.A2.A25C.01A & TCGA.AC.A23H.11A & TCGA.A8.A07C.01A & TCGA.BH.A1F2.11A & TCGA.A7.A0D9.01A & TCGA.E2.A1L6.01A & TCGA.BH.A0BJ.11A & TCGA.E2.A15G.01A\\\\\n",
       "  & <dbl> & <dbl> & <dbl> & <dbl> & <dbl> & <dbl> & <dbl> & <dbl> & <dbl> & <dbl> & ⋯ & <dbl> & <dbl> & <dbl> & <dbl> & <dbl> & <dbl> & <dbl> & <dbl> & <dbl> & <dbl>\\\\\n",
       "\\hline\n",
       "\tA1BG &  4.321928 &  3.700440 &  6.491853 &  4.523562 &  5.857981 &  5.523562 &  4.392317 &  2.321928 &  5.781360 &  4.700440 & ⋯ &  4.00000 &  3.906891 &  5.807355 &  4.906891 &  4.169925 &  5.209453 &  4.754888 &  6.022368 &  4.584963 &  5.247928\\\\\n",
       "\tA1CF &  2.321928 &  0.000000 &  1.584963 &  6.189825 &  2.584963 &  0.000000 &  4.392317 &  2.321928 &  2.321928 &  1.584963 & ⋯ &  1.00000 &  1.000000 &  4.087463 &  2.321928 &  4.459432 &  2.584963 &  3.000000 &  2.807355 &  3.169925 &  1.584963\\\\\n",
       "\tA2M & 16.006041 & 14.433194 & 15.312954 & 13.529431 & 15.428393 & 15.602670 & 14.653909 & 15.254032 & 14.375990 & 16.594922 & ⋯ & 15.93894 & 14.440350 & 15.804736 & 16.823716 & 15.155293 & 17.071693 & 14.882977 & 16.091745 & 16.293454 & 14.156636\\\\\n",
       "\tA2ML1 &  5.491853 &  6.409391 &  4.857981 &  6.228819 &  3.906891 &  4.754888 &  4.087463 &  2.807355 &  4.392317 &  7.467606 & ⋯ &  5.83289 &  6.658211 &  4.321928 &  7.247928 &  8.238405 &  6.087463 &  6.870365 &  4.169925 &  6.000000 &  3.321928\\\\\n",
       "\tA3GALT2 &  1.584963 &  0.000000 &  1.584963 &  0.000000 &  2.321928 &  2.321928 &  1.000000 &  1.584963 &  1.584963 &  2.000000 & ⋯ &  3.00000 &  4.523562 &  0.000000 &  1.000000 &  3.000000 &  3.000000 &  2.584963 &  1.584963 &  2.807355 &  2.321928\\\\\n",
       "\tA4GALT &  9.876517 &  8.049849 & 10.649256 &  6.209453 & 11.076148 &  8.879583 &  8.357552 &  9.766529 & 10.531381 &  9.280771 & ⋯ & 10.02098 & 11.371777 & 10.112440 &  9.871905 &  8.851749 & 10.450180 &  9.656425 & 11.179909 &  9.409391 & 10.226412\\\\\n",
       "\\end{tabular}\n"
      ],
      "text/markdown": [
       "\n",
       "A data.frame: 6 × 122\n",
       "\n",
       "| <!--/--> | TCGA.E2.A153.11A &lt;dbl&gt; | TCGA.D8.A1Y3.01A &lt;dbl&gt; | TCGA.EW.A3E8.01B &lt;dbl&gt; | TCGA.AC.A3QQ.01B &lt;dbl&gt; | TCGA.D8.A3Z6.01A &lt;dbl&gt; | TCGA.BH.A1FB.11A &lt;dbl&gt; | TCGA.E9.A228.01A &lt;dbl&gt; | TCGA.GI.A2C8.11A &lt;dbl&gt; | TCGA.E2.A105.01A &lt;dbl&gt; | TCGA.BH.A0BQ.11A &lt;dbl&gt; | ⋯ ⋯ | TCGA.E9.A1N6.11A &lt;dbl&gt; | TCGA.B6.A0I6.01A &lt;dbl&gt; | TCGA.A2.A25C.01A &lt;dbl&gt; | TCGA.AC.A23H.11A &lt;dbl&gt; | TCGA.A8.A07C.01A &lt;dbl&gt; | TCGA.BH.A1F2.11A &lt;dbl&gt; | TCGA.A7.A0D9.01A &lt;dbl&gt; | TCGA.E2.A1L6.01A &lt;dbl&gt; | TCGA.BH.A0BJ.11A &lt;dbl&gt; | TCGA.E2.A15G.01A &lt;dbl&gt; |\n",
       "|---|---|---|---|---|---|---|---|---|---|---|---|---|---|---|---|---|---|---|---|---|---|\n",
       "| A1BG |  4.321928 |  3.700440 |  6.491853 |  4.523562 |  5.857981 |  5.523562 |  4.392317 |  2.321928 |  5.781360 |  4.700440 | ⋯ |  4.00000 |  3.906891 |  5.807355 |  4.906891 |  4.169925 |  5.209453 |  4.754888 |  6.022368 |  4.584963 |  5.247928 |\n",
       "| A1CF |  2.321928 |  0.000000 |  1.584963 |  6.189825 |  2.584963 |  0.000000 |  4.392317 |  2.321928 |  2.321928 |  1.584963 | ⋯ |  1.00000 |  1.000000 |  4.087463 |  2.321928 |  4.459432 |  2.584963 |  3.000000 |  2.807355 |  3.169925 |  1.584963 |\n",
       "| A2M | 16.006041 | 14.433194 | 15.312954 | 13.529431 | 15.428393 | 15.602670 | 14.653909 | 15.254032 | 14.375990 | 16.594922 | ⋯ | 15.93894 | 14.440350 | 15.804736 | 16.823716 | 15.155293 | 17.071693 | 14.882977 | 16.091745 | 16.293454 | 14.156636 |\n",
       "| A2ML1 |  5.491853 |  6.409391 |  4.857981 |  6.228819 |  3.906891 |  4.754888 |  4.087463 |  2.807355 |  4.392317 |  7.467606 | ⋯ |  5.83289 |  6.658211 |  4.321928 |  7.247928 |  8.238405 |  6.087463 |  6.870365 |  4.169925 |  6.000000 |  3.321928 |\n",
       "| A3GALT2 |  1.584963 |  0.000000 |  1.584963 |  0.000000 |  2.321928 |  2.321928 |  1.000000 |  1.584963 |  1.584963 |  2.000000 | ⋯ |  3.00000 |  4.523562 |  0.000000 |  1.000000 |  3.000000 |  3.000000 |  2.584963 |  1.584963 |  2.807355 |  2.321928 |\n",
       "| A4GALT |  9.876517 |  8.049849 | 10.649256 |  6.209453 | 11.076148 |  8.879583 |  8.357552 |  9.766529 | 10.531381 |  9.280771 | ⋯ | 10.02098 | 11.371777 | 10.112440 |  9.871905 |  8.851749 | 10.450180 |  9.656425 | 11.179909 |  9.409391 | 10.226412 |\n",
       "\n"
      ],
      "text/plain": [
       "        TCGA.E2.A153.11A TCGA.D8.A1Y3.01A TCGA.EW.A3E8.01B TCGA.AC.A3QQ.01B\n",
       "A1BG     4.321928         3.700440         6.491853         4.523562       \n",
       "A1CF     2.321928         0.000000         1.584963         6.189825       \n",
       "A2M     16.006041        14.433194        15.312954        13.529431       \n",
       "A2ML1    5.491853         6.409391         4.857981         6.228819       \n",
       "A3GALT2  1.584963         0.000000         1.584963         0.000000       \n",
       "A4GALT   9.876517         8.049849        10.649256         6.209453       \n",
       "        TCGA.D8.A3Z6.01A TCGA.BH.A1FB.11A TCGA.E9.A228.01A TCGA.GI.A2C8.11A\n",
       "A1BG     5.857981         5.523562         4.392317         2.321928       \n",
       "A1CF     2.584963         0.000000         4.392317         2.321928       \n",
       "A2M     15.428393        15.602670        14.653909        15.254032       \n",
       "A2ML1    3.906891         4.754888         4.087463         2.807355       \n",
       "A3GALT2  2.321928         2.321928         1.000000         1.584963       \n",
       "A4GALT  11.076148         8.879583         8.357552         9.766529       \n",
       "        TCGA.E2.A105.01A TCGA.BH.A0BQ.11A ⋯ TCGA.E9.A1N6.11A TCGA.B6.A0I6.01A\n",
       "A1BG     5.781360         4.700440        ⋯  4.00000          3.906891       \n",
       "A1CF     2.321928         1.584963        ⋯  1.00000          1.000000       \n",
       "A2M     14.375990        16.594922        ⋯ 15.93894         14.440350       \n",
       "A2ML1    4.392317         7.467606        ⋯  5.83289          6.658211       \n",
       "A3GALT2  1.584963         2.000000        ⋯  3.00000          4.523562       \n",
       "A4GALT  10.531381         9.280771        ⋯ 10.02098         11.371777       \n",
       "        TCGA.A2.A25C.01A TCGA.AC.A23H.11A TCGA.A8.A07C.01A TCGA.BH.A1F2.11A\n",
       "A1BG     5.807355         4.906891         4.169925         5.209453       \n",
       "A1CF     4.087463         2.321928         4.459432         2.584963       \n",
       "A2M     15.804736        16.823716        15.155293        17.071693       \n",
       "A2ML1    4.321928         7.247928         8.238405         6.087463       \n",
       "A3GALT2  0.000000         1.000000         3.000000         3.000000       \n",
       "A4GALT  10.112440         9.871905         8.851749        10.450180       \n",
       "        TCGA.A7.A0D9.01A TCGA.E2.A1L6.01A TCGA.BH.A0BJ.11A TCGA.E2.A15G.01A\n",
       "A1BG     4.754888         6.022368         4.584963         5.247928       \n",
       "A1CF     3.000000         2.807355         3.169925         1.584963       \n",
       "A2M     14.882977        16.091745        16.293454        14.156636       \n",
       "A2ML1    6.870365         4.169925         6.000000         3.321928       \n",
       "A3GALT2  2.584963         1.584963         2.807355         2.321928       \n",
       "A4GALT   9.656425        11.179909         9.409391        10.226412       "
      ]
     },
     "metadata": {},
     "output_type": "display_data"
    },
    {
     "data": {
      "text/html": [
       "<style>\n",
       ".list-inline {list-style: none; margin:0; padding: 0}\n",
       ".list-inline>li {display: inline-block}\n",
       ".list-inline>li:not(:last-child)::after {content: \"\\00b7\"; padding: 0 .5ex}\n",
       "</style>\n",
       "<ol class=list-inline><li>19234</li><li>122</li></ol>\n"
      ],
      "text/latex": [
       "\\begin{enumerate*}\n",
       "\\item 19234\n",
       "\\item 122\n",
       "\\end{enumerate*}\n"
      ],
      "text/markdown": [
       "1. 19234\n",
       "2. 122\n",
       "\n",
       "\n"
      ],
      "text/plain": [
       "[1] 19234   122"
      ]
     },
     "metadata": {},
     "output_type": "display_data"
    }
   ],
   "source": [
    "count_data <- count_data[, common_samples]\n",
    "head(count_data)\n",
    "dim(count_data)"
   ]
  },
  {
   "cell_type": "code",
   "execution_count": 11,
   "metadata": {
    "vscode": {
     "languageId": "r"
    }
   },
   "outputs": [
    {
     "data": {
      "text/html": [
       "<table class=\"dataframe\">\n",
       "<caption>A data.frame: 6 × 3</caption>\n",
       "<thead>\n",
       "\t<tr><th></th><th scope=col>type</th><th scope=col>tissue_source_site</th><th scope=col>disease_type</th></tr>\n",
       "\t<tr><th></th><th scope=col>&lt;chr&gt;</th><th scope=col>&lt;chr&gt;</th><th scope=col>&lt;chr&gt;</th></tr>\n",
       "</thead>\n",
       "<tbody>\n",
       "\t<tr><th scope=row>TCGA.E2.A153.11A</th><td>Normal</td><td>E2</td><td>Ductal and Lobular Neoplasms</td></tr>\n",
       "\t<tr><th scope=row>TCGA.D8.A1Y3.01A</th><td>Tumor </td><td>D8</td><td>Ductal and Lobular Neoplasms</td></tr>\n",
       "\t<tr><th scope=row>TCGA.EW.A3E8.01B</th><td>Tumor </td><td>EW</td><td>Ductal and Lobular Neoplasms</td></tr>\n",
       "\t<tr><th scope=row>TCGA.AC.A3QQ.01B</th><td>Tumor </td><td>AC</td><td>Ductal and Lobular Neoplasms</td></tr>\n",
       "\t<tr><th scope=row>TCGA.D8.A3Z6.01A</th><td>Tumor </td><td>D8</td><td>Ductal and Lobular Neoplasms</td></tr>\n",
       "\t<tr><th scope=row>TCGA.BH.A1FB.11A</th><td>Normal</td><td>BH</td><td>Ductal and Lobular Neoplasms</td></tr>\n",
       "</tbody>\n",
       "</table>\n"
      ],
      "text/latex": [
       "A data.frame: 6 × 3\n",
       "\\begin{tabular}{r|lll}\n",
       "  & type & tissue\\_source\\_site & disease\\_type\\\\\n",
       "  & <chr> & <chr> & <chr>\\\\\n",
       "\\hline\n",
       "\tTCGA.E2.A153.11A & Normal & E2 & Ductal and Lobular Neoplasms\\\\\n",
       "\tTCGA.D8.A1Y3.01A & Tumor  & D8 & Ductal and Lobular Neoplasms\\\\\n",
       "\tTCGA.EW.A3E8.01B & Tumor  & EW & Ductal and Lobular Neoplasms\\\\\n",
       "\tTCGA.AC.A3QQ.01B & Tumor  & AC & Ductal and Lobular Neoplasms\\\\\n",
       "\tTCGA.D8.A3Z6.01A & Tumor  & D8 & Ductal and Lobular Neoplasms\\\\\n",
       "\tTCGA.BH.A1FB.11A & Normal & BH & Ductal and Lobular Neoplasms\\\\\n",
       "\\end{tabular}\n"
      ],
      "text/markdown": [
       "\n",
       "A data.frame: 6 × 3\n",
       "\n",
       "| <!--/--> | type &lt;chr&gt; | tissue_source_site &lt;chr&gt; | disease_type &lt;chr&gt; |\n",
       "|---|---|---|---|\n",
       "| TCGA.E2.A153.11A | Normal | E2 | Ductal and Lobular Neoplasms |\n",
       "| TCGA.D8.A1Y3.01A | Tumor  | D8 | Ductal and Lobular Neoplasms |\n",
       "| TCGA.EW.A3E8.01B | Tumor  | EW | Ductal and Lobular Neoplasms |\n",
       "| TCGA.AC.A3QQ.01B | Tumor  | AC | Ductal and Lobular Neoplasms |\n",
       "| TCGA.D8.A3Z6.01A | Tumor  | D8 | Ductal and Lobular Neoplasms |\n",
       "| TCGA.BH.A1FB.11A | Normal | BH | Ductal and Lobular Neoplasms |\n",
       "\n"
      ],
      "text/plain": [
       "                 type   tissue_source_site disease_type                \n",
       "TCGA.E2.A153.11A Normal E2                 Ductal and Lobular Neoplasms\n",
       "TCGA.D8.A1Y3.01A Tumor  D8                 Ductal and Lobular Neoplasms\n",
       "TCGA.EW.A3E8.01B Tumor  EW                 Ductal and Lobular Neoplasms\n",
       "TCGA.AC.A3QQ.01B Tumor  AC                 Ductal and Lobular Neoplasms\n",
       "TCGA.D8.A3Z6.01A Tumor  D8                 Ductal and Lobular Neoplasms\n",
       "TCGA.BH.A1FB.11A Normal BH                 Ductal and Lobular Neoplasms"
      ]
     },
     "metadata": {},
     "output_type": "display_data"
    },
    {
     "data": {
      "text/html": [
       "<style>\n",
       ".list-inline {list-style: none; margin:0; padding: 0}\n",
       ".list-inline>li {display: inline-block}\n",
       ".list-inline>li:not(:last-child)::after {content: \"\\00b7\"; padding: 0 .5ex}\n",
       "</style>\n",
       "<ol class=list-inline><li>122</li><li>3</li></ol>\n"
      ],
      "text/latex": [
       "\\begin{enumerate*}\n",
       "\\item 122\n",
       "\\item 3\n",
       "\\end{enumerate*}\n"
      ],
      "text/markdown": [
       "1. 122\n",
       "2. 3\n",
       "\n",
       "\n"
      ],
      "text/plain": [
       "[1] 122   3"
      ]
     },
     "metadata": {},
     "output_type": "display_data"
    }
   ],
   "source": [
    "pheno_data <- pheno_data[common_samples, ]\n",
    "head(pheno_data)\n",
    "dim(pheno_data)"
   ]
  },
  {
   "attachments": {},
   "cell_type": "markdown",
   "metadata": {},
   "source": [
    "Successfully we have processed the data maintaing same number of sample in both datasets. \n",
    "\n",
    "DESeq2 will be taking only raw counts as input let's convert the log transformed data to raw counts"
   ]
  },
  {
   "cell_type": "code",
   "execution_count": 48,
   "metadata": {
    "vscode": {
     "languageId": "r"
    }
   },
   "outputs": [
    {
     "data": {
      "text/html": [
       "21.6306475174244"
      ],
      "text/latex": [
       "21.6306475174244"
      ],
      "text/markdown": [
       "21.6306475174244"
      ],
      "text/plain": [
       "[1] 21.63065"
      ]
     },
     "metadata": {},
     "output_type": "display_data"
    }
   ],
   "source": [
    "max(count_data)"
   ]
  },
  {
   "cell_type": "code",
   "execution_count": 49,
   "metadata": {
    "vscode": {
     "languageId": "r"
    }
   },
   "outputs": [
    {
     "data": {
      "text/html": [
       "0"
      ],
      "text/latex": [
       "0"
      ],
      "text/markdown": [
       "0"
      ],
      "text/plain": [
       "[1] 0"
      ]
     },
     "metadata": {},
     "output_type": "display_data"
    }
   ],
   "source": [
    "min(count_data)"
   ]
  },
  {
   "cell_type": "code",
   "execution_count": 12,
   "metadata": {
    "vscode": {
     "languageId": "r"
    }
   },
   "outputs": [],
   "source": [
    "# Convert log-transformed data to raw counts\n",
    "raw_count_data <- round(2^(count_data) - 1)"
   ]
  },
  {
   "cell_type": "code",
   "execution_count": 14,
   "metadata": {
    "vscode": {
     "languageId": "r"
    }
   },
   "outputs": [
    {
     "data": {
      "text/html": [
       "<table class=\"dataframe\">\n",
       "<caption>A data.frame: 6 × 122</caption>\n",
       "<thead>\n",
       "\t<tr><th></th><th scope=col>TCGA.E2.A153.11A</th><th scope=col>TCGA.D8.A1Y3.01A</th><th scope=col>TCGA.EW.A3E8.01B</th><th scope=col>TCGA.AC.A3QQ.01B</th><th scope=col>TCGA.D8.A3Z6.01A</th><th scope=col>TCGA.BH.A1FB.11A</th><th scope=col>TCGA.E9.A228.01A</th><th scope=col>TCGA.GI.A2C8.11A</th><th scope=col>TCGA.E2.A105.01A</th><th scope=col>TCGA.BH.A0BQ.11A</th><th scope=col>⋯</th><th scope=col>TCGA.E9.A1N6.11A</th><th scope=col>TCGA.B6.A0I6.01A</th><th scope=col>TCGA.A2.A25C.01A</th><th scope=col>TCGA.AC.A23H.11A</th><th scope=col>TCGA.A8.A07C.01A</th><th scope=col>TCGA.BH.A1F2.11A</th><th scope=col>TCGA.A7.A0D9.01A</th><th scope=col>TCGA.E2.A1L6.01A</th><th scope=col>TCGA.BH.A0BJ.11A</th><th scope=col>TCGA.E2.A15G.01A</th></tr>\n",
       "\t<tr><th></th><th scope=col>&lt;dbl&gt;</th><th scope=col>&lt;dbl&gt;</th><th scope=col>&lt;dbl&gt;</th><th scope=col>&lt;dbl&gt;</th><th scope=col>&lt;dbl&gt;</th><th scope=col>&lt;dbl&gt;</th><th scope=col>&lt;dbl&gt;</th><th scope=col>&lt;dbl&gt;</th><th scope=col>&lt;dbl&gt;</th><th scope=col>&lt;dbl&gt;</th><th scope=col>⋯</th><th scope=col>&lt;dbl&gt;</th><th scope=col>&lt;dbl&gt;</th><th scope=col>&lt;dbl&gt;</th><th scope=col>&lt;dbl&gt;</th><th scope=col>&lt;dbl&gt;</th><th scope=col>&lt;dbl&gt;</th><th scope=col>&lt;dbl&gt;</th><th scope=col>&lt;dbl&gt;</th><th scope=col>&lt;dbl&gt;</th><th scope=col>&lt;dbl&gt;</th></tr>\n",
       "</thead>\n",
       "<tbody>\n",
       "\t<tr><th scope=row>A1BG</th><td>   19</td><td>   12</td><td>   89</td><td>   22</td><td>   57</td><td>   45</td><td>   20</td><td>    4</td><td>   54</td><td>   25</td><td>⋯</td><td>   15</td><td>   14</td><td>   55</td><td>    29</td><td>   17</td><td>    36</td><td>   26</td><td>   64</td><td>   23</td><td>   37</td></tr>\n",
       "\t<tr><th scope=row>A1CF</th><td>    4</td><td>    0</td><td>    2</td><td>   72</td><td>    5</td><td>    0</td><td>   20</td><td>    4</td><td>    4</td><td>    2</td><td>⋯</td><td>    1</td><td>    1</td><td>   16</td><td>     4</td><td>   21</td><td>     5</td><td>    7</td><td>    6</td><td>    8</td><td>    2</td></tr>\n",
       "\t<tr><th scope=row>A2M</th><td>65810</td><td>22121</td><td>40705</td><td>11823</td><td>44096</td><td>49758</td><td>25778</td><td>39076</td><td>21261</td><td>98984</td><td>⋯</td><td>62819</td><td>22231</td><td>57239</td><td>115995</td><td>36491</td><td>137749</td><td>30214</td><td>69838</td><td>80318</td><td>18262</td></tr>\n",
       "\t<tr><th scope=row>A2ML1</th><td>   44</td><td>   84</td><td>   28</td><td>   74</td><td>   14</td><td>   26</td><td>   16</td><td>    6</td><td>   20</td><td>  176</td><td>⋯</td><td>   56</td><td>  100</td><td>   19</td><td>   151</td><td>  301</td><td>    67</td><td>  116</td><td>   17</td><td>   63</td><td>    9</td></tr>\n",
       "\t<tr><th scope=row>A3GALT2</th><td>    2</td><td>    0</td><td>    2</td><td>    0</td><td>    4</td><td>    4</td><td>    1</td><td>    2</td><td>    2</td><td>    3</td><td>⋯</td><td>    7</td><td>   22</td><td>    0</td><td>     1</td><td>    7</td><td>     7</td><td>    5</td><td>    2</td><td>    6</td><td>    4</td></tr>\n",
       "\t<tr><th scope=row>A4GALT</th><td>  939</td><td>  264</td><td> 1605</td><td>   73</td><td> 2158</td><td>  470</td><td>  327</td><td>  870</td><td> 1479</td><td>  621</td><td>⋯</td><td> 1038</td><td> 2649</td><td> 1106</td><td>   936</td><td>  461</td><td>  1398</td><td>  806</td><td> 2319</td><td>  679</td><td> 1197</td></tr>\n",
       "</tbody>\n",
       "</table>\n"
      ],
      "text/latex": [
       "A data.frame: 6 × 122\n",
       "\\begin{tabular}{r|lllllllllllllllllllll}\n",
       "  & TCGA.E2.A153.11A & TCGA.D8.A1Y3.01A & TCGA.EW.A3E8.01B & TCGA.AC.A3QQ.01B & TCGA.D8.A3Z6.01A & TCGA.BH.A1FB.11A & TCGA.E9.A228.01A & TCGA.GI.A2C8.11A & TCGA.E2.A105.01A & TCGA.BH.A0BQ.11A & ⋯ & TCGA.E9.A1N6.11A & TCGA.B6.A0I6.01A & TCGA.A2.A25C.01A & TCGA.AC.A23H.11A & TCGA.A8.A07C.01A & TCGA.BH.A1F2.11A & TCGA.A7.A0D9.01A & TCGA.E2.A1L6.01A & TCGA.BH.A0BJ.11A & TCGA.E2.A15G.01A\\\\\n",
       "  & <dbl> & <dbl> & <dbl> & <dbl> & <dbl> & <dbl> & <dbl> & <dbl> & <dbl> & <dbl> & ⋯ & <dbl> & <dbl> & <dbl> & <dbl> & <dbl> & <dbl> & <dbl> & <dbl> & <dbl> & <dbl>\\\\\n",
       "\\hline\n",
       "\tA1BG &    19 &    12 &    89 &    22 &    57 &    45 &    20 &     4 &    54 &    25 & ⋯ &    15 &    14 &    55 &     29 &    17 &     36 &    26 &    64 &    23 &    37\\\\\n",
       "\tA1CF &     4 &     0 &     2 &    72 &     5 &     0 &    20 &     4 &     4 &     2 & ⋯ &     1 &     1 &    16 &      4 &    21 &      5 &     7 &     6 &     8 &     2\\\\\n",
       "\tA2M & 65810 & 22121 & 40705 & 11823 & 44096 & 49758 & 25778 & 39076 & 21261 & 98984 & ⋯ & 62819 & 22231 & 57239 & 115995 & 36491 & 137749 & 30214 & 69838 & 80318 & 18262\\\\\n",
       "\tA2ML1 &    44 &    84 &    28 &    74 &    14 &    26 &    16 &     6 &    20 &   176 & ⋯ &    56 &   100 &    19 &    151 &   301 &     67 &   116 &    17 &    63 &     9\\\\\n",
       "\tA3GALT2 &     2 &     0 &     2 &     0 &     4 &     4 &     1 &     2 &     2 &     3 & ⋯ &     7 &    22 &     0 &      1 &     7 &      7 &     5 &     2 &     6 &     4\\\\\n",
       "\tA4GALT &   939 &   264 &  1605 &    73 &  2158 &   470 &   327 &   870 &  1479 &   621 & ⋯ &  1038 &  2649 &  1106 &    936 &   461 &   1398 &   806 &  2319 &   679 &  1197\\\\\n",
       "\\end{tabular}\n"
      ],
      "text/markdown": [
       "\n",
       "A data.frame: 6 × 122\n",
       "\n",
       "| <!--/--> | TCGA.E2.A153.11A &lt;dbl&gt; | TCGA.D8.A1Y3.01A &lt;dbl&gt; | TCGA.EW.A3E8.01B &lt;dbl&gt; | TCGA.AC.A3QQ.01B &lt;dbl&gt; | TCGA.D8.A3Z6.01A &lt;dbl&gt; | TCGA.BH.A1FB.11A &lt;dbl&gt; | TCGA.E9.A228.01A &lt;dbl&gt; | TCGA.GI.A2C8.11A &lt;dbl&gt; | TCGA.E2.A105.01A &lt;dbl&gt; | TCGA.BH.A0BQ.11A &lt;dbl&gt; | ⋯ ⋯ | TCGA.E9.A1N6.11A &lt;dbl&gt; | TCGA.B6.A0I6.01A &lt;dbl&gt; | TCGA.A2.A25C.01A &lt;dbl&gt; | TCGA.AC.A23H.11A &lt;dbl&gt; | TCGA.A8.A07C.01A &lt;dbl&gt; | TCGA.BH.A1F2.11A &lt;dbl&gt; | TCGA.A7.A0D9.01A &lt;dbl&gt; | TCGA.E2.A1L6.01A &lt;dbl&gt; | TCGA.BH.A0BJ.11A &lt;dbl&gt; | TCGA.E2.A15G.01A &lt;dbl&gt; |\n",
       "|---|---|---|---|---|---|---|---|---|---|---|---|---|---|---|---|---|---|---|---|---|---|\n",
       "| A1BG |    19 |    12 |    89 |    22 |    57 |    45 |    20 |     4 |    54 |    25 | ⋯ |    15 |    14 |    55 |     29 |    17 |     36 |    26 |    64 |    23 |    37 |\n",
       "| A1CF |     4 |     0 |     2 |    72 |     5 |     0 |    20 |     4 |     4 |     2 | ⋯ |     1 |     1 |    16 |      4 |    21 |      5 |     7 |     6 |     8 |     2 |\n",
       "| A2M | 65810 | 22121 | 40705 | 11823 | 44096 | 49758 | 25778 | 39076 | 21261 | 98984 | ⋯ | 62819 | 22231 | 57239 | 115995 | 36491 | 137749 | 30214 | 69838 | 80318 | 18262 |\n",
       "| A2ML1 |    44 |    84 |    28 |    74 |    14 |    26 |    16 |     6 |    20 |   176 | ⋯ |    56 |   100 |    19 |    151 |   301 |     67 |   116 |    17 |    63 |     9 |\n",
       "| A3GALT2 |     2 |     0 |     2 |     0 |     4 |     4 |     1 |     2 |     2 |     3 | ⋯ |     7 |    22 |     0 |      1 |     7 |      7 |     5 |     2 |     6 |     4 |\n",
       "| A4GALT |   939 |   264 |  1605 |    73 |  2158 |   470 |   327 |   870 |  1479 |   621 | ⋯ |  1038 |  2649 |  1106 |    936 |   461 |   1398 |   806 |  2319 |   679 |  1197 |\n",
       "\n"
      ],
      "text/plain": [
       "        TCGA.E2.A153.11A TCGA.D8.A1Y3.01A TCGA.EW.A3E8.01B TCGA.AC.A3QQ.01B\n",
       "A1BG       19               12               89               22           \n",
       "A1CF        4                0                2               72           \n",
       "A2M     65810            22121            40705            11823           \n",
       "A2ML1      44               84               28               74           \n",
       "A3GALT2     2                0                2                0           \n",
       "A4GALT    939              264             1605               73           \n",
       "        TCGA.D8.A3Z6.01A TCGA.BH.A1FB.11A TCGA.E9.A228.01A TCGA.GI.A2C8.11A\n",
       "A1BG       57               45               20                4           \n",
       "A1CF        5                0               20                4           \n",
       "A2M     44096            49758            25778            39076           \n",
       "A2ML1      14               26               16                6           \n",
       "A3GALT2     4                4                1                2           \n",
       "A4GALT   2158              470              327              870           \n",
       "        TCGA.E2.A105.01A TCGA.BH.A0BQ.11A ⋯ TCGA.E9.A1N6.11A TCGA.B6.A0I6.01A\n",
       "A1BG       54               25            ⋯    15               14           \n",
       "A1CF        4                2            ⋯     1                1           \n",
       "A2M     21261            98984            ⋯ 62819            22231           \n",
       "A2ML1      20              176            ⋯    56              100           \n",
       "A3GALT2     2                3            ⋯     7               22           \n",
       "A4GALT   1479              621            ⋯  1038             2649           \n",
       "        TCGA.A2.A25C.01A TCGA.AC.A23H.11A TCGA.A8.A07C.01A TCGA.BH.A1F2.11A\n",
       "A1BG       55                29              17                36          \n",
       "A1CF       16                 4              21                 5          \n",
       "A2M     57239            115995           36491            137749          \n",
       "A2ML1      19               151             301                67          \n",
       "A3GALT2     0                 1               7                 7          \n",
       "A4GALT   1106               936             461              1398          \n",
       "        TCGA.A7.A0D9.01A TCGA.E2.A1L6.01A TCGA.BH.A0BJ.11A TCGA.E2.A15G.01A\n",
       "A1BG       26               64               23               37           \n",
       "A1CF        7                6                8                2           \n",
       "A2M     30214            69838            80318            18262           \n",
       "A2ML1     116               17               63                9           \n",
       "A3GALT2     5                2                6                4           \n",
       "A4GALT    806             2319              679             1197           "
      ]
     },
     "metadata": {},
     "output_type": "display_data"
    }
   ],
   "source": [
    "head(raw_count_data)"
   ]
  },
  {
   "attachments": {},
   "cell_type": "markdown",
   "metadata": {},
   "source": [
    "Before going ahead with further analysis, let's confirm whether samples in raw count and pheno data are in same order "
   ]
  },
  {
   "cell_type": "code",
   "execution_count": 15,
   "metadata": {
    "vscode": {
     "languageId": "r"
    }
   },
   "outputs": [
    {
     "data": {
      "text/html": [
       "TRUE"
      ],
      "text/latex": [
       "TRUE"
      ],
      "text/markdown": [
       "TRUE"
      ],
      "text/plain": [
       "[1] TRUE"
      ]
     },
     "metadata": {},
     "output_type": "display_data"
    }
   ],
   "source": [
    "all(colnames(raw_count_data) %in% rownames(pheno_data))"
   ]
  },
  {
   "cell_type": "code",
   "execution_count": 16,
   "metadata": {
    "vscode": {
     "languageId": "r"
    }
   },
   "outputs": [
    {
     "data": {
      "text/html": [
       "TRUE"
      ],
      "text/latex": [
       "TRUE"
      ],
      "text/markdown": [
       "TRUE"
      ],
      "text/plain": [
       "[1] TRUE"
      ]
     },
     "metadata": {},
     "output_type": "display_data"
    }
   ],
   "source": [
    "all(colnames(raw_count_data) == rownames(pheno_data))"
   ]
  },
  {
   "cell_type": "code",
   "execution_count": 46,
   "metadata": {
    "vscode": {
     "languageId": "r"
    }
   },
   "outputs": [
    {
     "data": {
      "text/html": [
       "3246935"
      ],
      "text/latex": [
       "3246935"
      ],
      "text/markdown": [
       "3246935"
      ],
      "text/plain": [
       "[1] 3246935"
      ]
     },
     "metadata": {},
     "output_type": "display_data"
    },
    {
     "data": {
      "text/html": [
       "0"
      ],
      "text/latex": [
       "0"
      ],
      "text/markdown": [
       "0"
      ],
      "text/plain": [
       "[1] 0"
      ]
     },
     "metadata": {},
     "output_type": "display_data"
    }
   ],
   "source": [
    "max(raw_count_data)\n",
    "min(raw_count_data)"
   ]
  },
  {
   "cell_type": "code",
   "execution_count": 47,
   "metadata": {
    "vscode": {
     "languageId": "r"
    }
   },
   "outputs": [
    {
     "data": {
      "text/html": [
       "<table class=\"dataframe\">\n",
       "<caption>A data.frame: 6 × 122</caption>\n",
       "<thead>\n",
       "\t<tr><th></th><th scope=col>TCGA.E2.A153.11A</th><th scope=col>TCGA.D8.A1Y3.01A</th><th scope=col>TCGA.EW.A3E8.01B</th><th scope=col>TCGA.AC.A3QQ.01B</th><th scope=col>TCGA.D8.A3Z6.01A</th><th scope=col>TCGA.BH.A1FB.11A</th><th scope=col>TCGA.E9.A228.01A</th><th scope=col>TCGA.GI.A2C8.11A</th><th scope=col>TCGA.E2.A105.01A</th><th scope=col>TCGA.BH.A0BQ.11A</th><th scope=col>⋯</th><th scope=col>TCGA.E9.A1N6.11A</th><th scope=col>TCGA.B6.A0I6.01A</th><th scope=col>TCGA.A2.A25C.01A</th><th scope=col>TCGA.AC.A23H.11A</th><th scope=col>TCGA.A8.A07C.01A</th><th scope=col>TCGA.BH.A1F2.11A</th><th scope=col>TCGA.A7.A0D9.01A</th><th scope=col>TCGA.E2.A1L6.01A</th><th scope=col>TCGA.BH.A0BJ.11A</th><th scope=col>TCGA.E2.A15G.01A</th></tr>\n",
       "\t<tr><th></th><th scope=col>&lt;dbl&gt;</th><th scope=col>&lt;dbl&gt;</th><th scope=col>&lt;dbl&gt;</th><th scope=col>&lt;dbl&gt;</th><th scope=col>&lt;dbl&gt;</th><th scope=col>&lt;dbl&gt;</th><th scope=col>&lt;dbl&gt;</th><th scope=col>&lt;dbl&gt;</th><th scope=col>&lt;dbl&gt;</th><th scope=col>&lt;dbl&gt;</th><th scope=col>⋯</th><th scope=col>&lt;dbl&gt;</th><th scope=col>&lt;dbl&gt;</th><th scope=col>&lt;dbl&gt;</th><th scope=col>&lt;dbl&gt;</th><th scope=col>&lt;dbl&gt;</th><th scope=col>&lt;dbl&gt;</th><th scope=col>&lt;dbl&gt;</th><th scope=col>&lt;dbl&gt;</th><th scope=col>&lt;dbl&gt;</th><th scope=col>&lt;dbl&gt;</th></tr>\n",
       "</thead>\n",
       "<tbody>\n",
       "\t<tr><th scope=row>A1BG</th><td>   19</td><td>   12</td><td>   89</td><td>   22</td><td>   57</td><td>   45</td><td>   20</td><td>    4</td><td>   54</td><td>   25</td><td>⋯</td><td>   15</td><td>   14</td><td>   55</td><td>    29</td><td>   17</td><td>    36</td><td>   26</td><td>   64</td><td>   23</td><td>   37</td></tr>\n",
       "\t<tr><th scope=row>A1CF</th><td>    4</td><td>    0</td><td>    2</td><td>   72</td><td>    5</td><td>    0</td><td>   20</td><td>    4</td><td>    4</td><td>    2</td><td>⋯</td><td>    1</td><td>    1</td><td>   16</td><td>     4</td><td>   21</td><td>     5</td><td>    7</td><td>    6</td><td>    8</td><td>    2</td></tr>\n",
       "\t<tr><th scope=row>A2M</th><td>65810</td><td>22121</td><td>40705</td><td>11823</td><td>44096</td><td>49758</td><td>25778</td><td>39076</td><td>21261</td><td>98984</td><td>⋯</td><td>62819</td><td>22231</td><td>57239</td><td>115995</td><td>36491</td><td>137749</td><td>30214</td><td>69838</td><td>80318</td><td>18262</td></tr>\n",
       "\t<tr><th scope=row>A2ML1</th><td>   44</td><td>   84</td><td>   28</td><td>   74</td><td>   14</td><td>   26</td><td>   16</td><td>    6</td><td>   20</td><td>  176</td><td>⋯</td><td>   56</td><td>  100</td><td>   19</td><td>   151</td><td>  301</td><td>    67</td><td>  116</td><td>   17</td><td>   63</td><td>    9</td></tr>\n",
       "\t<tr><th scope=row>A3GALT2</th><td>    2</td><td>    0</td><td>    2</td><td>    0</td><td>    4</td><td>    4</td><td>    1</td><td>    2</td><td>    2</td><td>    3</td><td>⋯</td><td>    7</td><td>   22</td><td>    0</td><td>     1</td><td>    7</td><td>     7</td><td>    5</td><td>    2</td><td>    6</td><td>    4</td></tr>\n",
       "\t<tr><th scope=row>A4GALT</th><td>  939</td><td>  264</td><td> 1605</td><td>   73</td><td> 2158</td><td>  470</td><td>  327</td><td>  870</td><td> 1479</td><td>  621</td><td>⋯</td><td> 1038</td><td> 2649</td><td> 1106</td><td>   936</td><td>  461</td><td>  1398</td><td>  806</td><td> 2319</td><td>  679</td><td> 1197</td></tr>\n",
       "</tbody>\n",
       "</table>\n"
      ],
      "text/latex": [
       "A data.frame: 6 × 122\n",
       "\\begin{tabular}{r|lllllllllllllllllllll}\n",
       "  & TCGA.E2.A153.11A & TCGA.D8.A1Y3.01A & TCGA.EW.A3E8.01B & TCGA.AC.A3QQ.01B & TCGA.D8.A3Z6.01A & TCGA.BH.A1FB.11A & TCGA.E9.A228.01A & TCGA.GI.A2C8.11A & TCGA.E2.A105.01A & TCGA.BH.A0BQ.11A & ⋯ & TCGA.E9.A1N6.11A & TCGA.B6.A0I6.01A & TCGA.A2.A25C.01A & TCGA.AC.A23H.11A & TCGA.A8.A07C.01A & TCGA.BH.A1F2.11A & TCGA.A7.A0D9.01A & TCGA.E2.A1L6.01A & TCGA.BH.A0BJ.11A & TCGA.E2.A15G.01A\\\\\n",
       "  & <dbl> & <dbl> & <dbl> & <dbl> & <dbl> & <dbl> & <dbl> & <dbl> & <dbl> & <dbl> & ⋯ & <dbl> & <dbl> & <dbl> & <dbl> & <dbl> & <dbl> & <dbl> & <dbl> & <dbl> & <dbl>\\\\\n",
       "\\hline\n",
       "\tA1BG &    19 &    12 &    89 &    22 &    57 &    45 &    20 &     4 &    54 &    25 & ⋯ &    15 &    14 &    55 &     29 &    17 &     36 &    26 &    64 &    23 &    37\\\\\n",
       "\tA1CF &     4 &     0 &     2 &    72 &     5 &     0 &    20 &     4 &     4 &     2 & ⋯ &     1 &     1 &    16 &      4 &    21 &      5 &     7 &     6 &     8 &     2\\\\\n",
       "\tA2M & 65810 & 22121 & 40705 & 11823 & 44096 & 49758 & 25778 & 39076 & 21261 & 98984 & ⋯ & 62819 & 22231 & 57239 & 115995 & 36491 & 137749 & 30214 & 69838 & 80318 & 18262\\\\\n",
       "\tA2ML1 &    44 &    84 &    28 &    74 &    14 &    26 &    16 &     6 &    20 &   176 & ⋯ &    56 &   100 &    19 &    151 &   301 &     67 &   116 &    17 &    63 &     9\\\\\n",
       "\tA3GALT2 &     2 &     0 &     2 &     0 &     4 &     4 &     1 &     2 &     2 &     3 & ⋯ &     7 &    22 &     0 &      1 &     7 &      7 &     5 &     2 &     6 &     4\\\\\n",
       "\tA4GALT &   939 &   264 &  1605 &    73 &  2158 &   470 &   327 &   870 &  1479 &   621 & ⋯ &  1038 &  2649 &  1106 &    936 &   461 &   1398 &   806 &  2319 &   679 &  1197\\\\\n",
       "\\end{tabular}\n"
      ],
      "text/markdown": [
       "\n",
       "A data.frame: 6 × 122\n",
       "\n",
       "| <!--/--> | TCGA.E2.A153.11A &lt;dbl&gt; | TCGA.D8.A1Y3.01A &lt;dbl&gt; | TCGA.EW.A3E8.01B &lt;dbl&gt; | TCGA.AC.A3QQ.01B &lt;dbl&gt; | TCGA.D8.A3Z6.01A &lt;dbl&gt; | TCGA.BH.A1FB.11A &lt;dbl&gt; | TCGA.E9.A228.01A &lt;dbl&gt; | TCGA.GI.A2C8.11A &lt;dbl&gt; | TCGA.E2.A105.01A &lt;dbl&gt; | TCGA.BH.A0BQ.11A &lt;dbl&gt; | ⋯ ⋯ | TCGA.E9.A1N6.11A &lt;dbl&gt; | TCGA.B6.A0I6.01A &lt;dbl&gt; | TCGA.A2.A25C.01A &lt;dbl&gt; | TCGA.AC.A23H.11A &lt;dbl&gt; | TCGA.A8.A07C.01A &lt;dbl&gt; | TCGA.BH.A1F2.11A &lt;dbl&gt; | TCGA.A7.A0D9.01A &lt;dbl&gt; | TCGA.E2.A1L6.01A &lt;dbl&gt; | TCGA.BH.A0BJ.11A &lt;dbl&gt; | TCGA.E2.A15G.01A &lt;dbl&gt; |\n",
       "|---|---|---|---|---|---|---|---|---|---|---|---|---|---|---|---|---|---|---|---|---|---|\n",
       "| A1BG |    19 |    12 |    89 |    22 |    57 |    45 |    20 |     4 |    54 |    25 | ⋯ |    15 |    14 |    55 |     29 |    17 |     36 |    26 |    64 |    23 |    37 |\n",
       "| A1CF |     4 |     0 |     2 |    72 |     5 |     0 |    20 |     4 |     4 |     2 | ⋯ |     1 |     1 |    16 |      4 |    21 |      5 |     7 |     6 |     8 |     2 |\n",
       "| A2M | 65810 | 22121 | 40705 | 11823 | 44096 | 49758 | 25778 | 39076 | 21261 | 98984 | ⋯ | 62819 | 22231 | 57239 | 115995 | 36491 | 137749 | 30214 | 69838 | 80318 | 18262 |\n",
       "| A2ML1 |    44 |    84 |    28 |    74 |    14 |    26 |    16 |     6 |    20 |   176 | ⋯ |    56 |   100 |    19 |    151 |   301 |     67 |   116 |    17 |    63 |     9 |\n",
       "| A3GALT2 |     2 |     0 |     2 |     0 |     4 |     4 |     1 |     2 |     2 |     3 | ⋯ |     7 |    22 |     0 |      1 |     7 |      7 |     5 |     2 |     6 |     4 |\n",
       "| A4GALT |   939 |   264 |  1605 |    73 |  2158 |   470 |   327 |   870 |  1479 |   621 | ⋯ |  1038 |  2649 |  1106 |    936 |   461 |   1398 |   806 |  2319 |   679 |  1197 |\n",
       "\n"
      ],
      "text/plain": [
       "        TCGA.E2.A153.11A TCGA.D8.A1Y3.01A TCGA.EW.A3E8.01B TCGA.AC.A3QQ.01B\n",
       "A1BG       19               12               89               22           \n",
       "A1CF        4                0                2               72           \n",
       "A2M     65810            22121            40705            11823           \n",
       "A2ML1      44               84               28               74           \n",
       "A3GALT2     2                0                2                0           \n",
       "A4GALT    939              264             1605               73           \n",
       "        TCGA.D8.A3Z6.01A TCGA.BH.A1FB.11A TCGA.E9.A228.01A TCGA.GI.A2C8.11A\n",
       "A1BG       57               45               20                4           \n",
       "A1CF        5                0               20                4           \n",
       "A2M     44096            49758            25778            39076           \n",
       "A2ML1      14               26               16                6           \n",
       "A3GALT2     4                4                1                2           \n",
       "A4GALT   2158              470              327              870           \n",
       "        TCGA.E2.A105.01A TCGA.BH.A0BQ.11A ⋯ TCGA.E9.A1N6.11A TCGA.B6.A0I6.01A\n",
       "A1BG       54               25            ⋯    15               14           \n",
       "A1CF        4                2            ⋯     1                1           \n",
       "A2M     21261            98984            ⋯ 62819            22231           \n",
       "A2ML1      20              176            ⋯    56              100           \n",
       "A3GALT2     2                3            ⋯     7               22           \n",
       "A4GALT   1479              621            ⋯  1038             2649           \n",
       "        TCGA.A2.A25C.01A TCGA.AC.A23H.11A TCGA.A8.A07C.01A TCGA.BH.A1F2.11A\n",
       "A1BG       55                29              17                36          \n",
       "A1CF       16                 4              21                 5          \n",
       "A2M     57239            115995           36491            137749          \n",
       "A2ML1      19               151             301                67          \n",
       "A3GALT2     0                 1               7                 7          \n",
       "A4GALT   1106               936             461              1398          \n",
       "        TCGA.A7.A0D9.01A TCGA.E2.A1L6.01A TCGA.BH.A0BJ.11A TCGA.E2.A15G.01A\n",
       "A1BG       26               64               23               37           \n",
       "A1CF        7                6                8                2           \n",
       "A2M     30214            69838            80318            18262           \n",
       "A2ML1     116               17               63                9           \n",
       "A3GALT2     5                2                6                4           \n",
       "A4GALT    806             2319              679             1197           "
      ]
     },
     "metadata": {},
     "output_type": "display_data"
    }
   ],
   "source": [
    "head(raw_count_data)"
   ]
  },
  {
   "attachments": {},
   "cell_type": "markdown",
   "metadata": {},
   "source": [
    "Let's see if there any scope for further preprocessing.  \n",
    "\n",
    "pre-filtering: removing rows with low gene counts"
   ]
  },
  {
   "cell_type": "code",
   "execution_count": 17,
   "metadata": {
    "vscode": {
     "languageId": "r"
    }
   },
   "outputs": [
    {
     "data": {
      "text/html": [
       "<style>\n",
       ".dl-inline {width: auto; margin:0; padding: 0}\n",
       ".dl-inline>dt, .dl-inline>dd {float: none; width: auto; display: inline-block}\n",
       ".dl-inline>dt::after {content: \":\\0020\"; padding-right: .5ex}\n",
       ".dl-inline>dt:not(:first-of-type) {padding-left: .5ex}\n",
       "</style><dl class=dl-inline><dt>A1BG</dt><dd>4194</dd><dt>A1CF</dt><dd>688</dd><dt>A2M</dt><dd>7336177</dd><dt>A2ML1</dt><dd>109075</dd><dt>A3GALT2</dt><dd>380</dd><dt>A4GALT</dt><dd>127234</dd></dl>\n"
      ],
      "text/latex": [
       "\\begin{description*}\n",
       "\\item[A1BG] 4194\n",
       "\\item[A1CF] 688\n",
       "\\item[A2M] 7336177\n",
       "\\item[A2ML1] 109075\n",
       "\\item[A3GALT2] 380\n",
       "\\item[A4GALT] 127234\n",
       "\\end{description*}\n"
      ],
      "text/markdown": [
       "A1BG\n",
       ":   4194A1CF\n",
       ":   688A2M\n",
       ":   7336177A2ML1\n",
       ":   109075A3GALT2\n",
       ":   380A4GALT\n",
       ":   127234\n",
       "\n"
      ],
      "text/plain": [
       "   A1BG    A1CF     A2M   A2ML1 A3GALT2  A4GALT \n",
       "   4194     688 7336177  109075     380  127234 "
      ]
     },
     "metadata": {},
     "output_type": "display_data"
    }
   ],
   "source": [
    "# Calculate total counts per gene\n",
    "total_counts_per_gene <- rowSums(raw_count_data)\n",
    "head(total_counts_per_gene)"
   ]
  },
  {
   "cell_type": "code",
   "execution_count": 22,
   "metadata": {
    "vscode": {
     "languageId": "r"
    }
   },
   "outputs": [
    {
     "data": {
      "text/html": [
       "76894110"
      ],
      "text/latex": [
       "76894110"
      ],
      "text/markdown": [
       "76894110"
      ],
      "text/plain": [
       "[1] 76894110"
      ]
     },
     "metadata": {},
     "output_type": "display_data"
    }
   ],
   "source": [
    "max(total_counts_per_gene)"
   ]
  },
  {
   "cell_type": "code",
   "execution_count": 23,
   "metadata": {
    "vscode": {
     "languageId": "r"
    }
   },
   "outputs": [
    {
     "data": {
      "text/html": [
       "0"
      ],
      "text/latex": [
       "0"
      ],
      "text/markdown": [
       "0"
      ],
      "text/plain": [
       "[1] 0"
      ]
     },
     "metadata": {},
     "output_type": "display_data"
    }
   ],
   "source": [
    "min(total_counts_per_gene)"
   ]
  },
  {
   "cell_type": "code",
   "execution_count": 24,
   "metadata": {
    "vscode": {
     "languageId": "r"
    }
   },
   "outputs": [
    {
     "name": "stderr",
     "output_type": "stream",
     "text": [
      "\u001b[1m\u001b[22m`stat_bin()` using `bins = 30`. Pick better value with `binwidth`.\n"
     ]
    },
    {
     "data": {
      "image/png": "[encoded data removed]",
      "text/plain": [
       "plot without title"
      ]
     },
     "metadata": {
      "image/png": {
       "height": 420,
       "width": 420
      }
     },
     "output_type": "display_data"
    }
   ],
   "source": [
    "library(ggplot2)\n",
    "# Create a histogram of total counts per gene\n",
    "ggplot(data = data.frame(total_counts = total_counts_per_gene), aes(x = total_counts)) +\n",
    "  geom_histogram( fill = \"blue\", color = \"black\") +\n",
    "  labs(title = \"Distribution of Counts per Gene\",\n",
    "       x = \"Total Counts per Gene\",\n",
    "       y = \"Frequency\")"
   ]
  },
  {
   "cell_type": "code",
   "execution_count": 45,
   "metadata": {
    "vscode": {
     "languageId": "r"
    }
   },
   "outputs": [
    {
     "name": "stderr",
     "output_type": "stream",
     "text": [
      "\u001b[1m\u001b[22m`stat_bin()` using `bins = 30`. Pick better value with `binwidth`.\n",
      "Warning message:\n",
      "\"\u001b[1m\u001b[22mRemoved 17863 rows containing non-finite values (`stat_bin()`).\"\n",
      "Warning message:\n",
      "\"\u001b[1m\u001b[22mRemoved 2 rows containing missing values (`geom_bar()`).\"\n"
     ]
    },
    {
     "data": {
      "image/png": "[encoded data removed]",
      "text/plain": [
       "plot without title"
      ]
     },
     "metadata": {
      "image/png": {
       "height": 420,
       "width": 420
      }
     },
     "output_type": "display_data"
    }
   ],
   "source": [
    "ggplot(data = data.frame(total_counts = total_counts_per_gene), aes(x = total_counts)) +\n",
    "  geom_histogram( fill = \"blue\", color = \"black\") +\n",
    "  xlim(0, 100)+\n",
    "  labs(title = \"Distribution of Counts per Gene\",\n",
    "       x = \"Total Counts per Gene\",\n",
    "       y = \"Frequency\")"
   ]
  },
  {
   "attachments": {},
   "cell_type": "markdown",
   "metadata": {},
   "source": [
    "From the above graph it is understood that there is no scope for preprocessing"
   ]
  },
  {
   "attachments": {},
   "cell_type": "markdown",
   "metadata": {},
   "source": [
    "Let's construct DESeqDataset Objet"
   ]
  },
  {
   "cell_type": "code",
   "execution_count": 25,
   "metadata": {
    "vscode": {
     "languageId": "r"
    }
   },
   "outputs": [
    {
     "name": "stderr",
     "output_type": "stream",
     "text": [
      "converting counts to integer mode\n",
      "\n",
      "Warning message in DESeqDataSet(se, design = design, ignoreRank):\n",
      "\"some variables in design formula are characters, converting to factors\"\n",
      "  Note: levels of factors in the design contain characters other than\n",
      "  letters, numbers, '_' and '.'. It is recommended (but not required) to use\n",
      "  only letters, numbers, and delimiters '_' or '.', as these are safe characters\n",
      "  for column names in R. [This is a message, not a warning or an error]\n",
      "\n"
     ]
    }
   ],
   "source": [
    "# Create DESeq2 data object\n",
    "dds <- DESeqDataSetFromMatrix(countData = raw_count_data,\n",
    "                              colData = pheno_data,\n",
    "                              design = ~ type + disease_type)"
   ]
  },
  {
   "attachments": {},
   "cell_type": "markdown",
   "metadata": {},
   "source": [
    "set the factor level"
   ]
  },
  {
   "cell_type": "code",
   "execution_count": 50,
   "metadata": {
    "vscode": {
     "languageId": "r"
    }
   },
   "outputs": [],
   "source": [
    "dds$type <- relevel(dds$type, ref = \"Tumor\")"
   ]
  },
  {
   "attachments": {},
   "cell_type": "markdown",
   "metadata": {},
   "source": [
    "Quality control\n",
    "vst normalization for PCA"
   ]
  },
  {
   "cell_type": "code",
   "execution_count": 51,
   "metadata": {
    "vscode": {
     "languageId": "r"
    }
   },
   "outputs": [
    {
     "data": {
      "image/png": "[encoded data removed]",
      "text/plain": [
       "plot without title"
      ]
     },
     "metadata": {
      "image/png": {
       "height": 420,
       "width": 420
      }
     },
     "output_type": "display_data"
    }
   ],
   "source": [
    "vsd = vst(dds)\n",
    "pca_plot = DESeq2::plotPCA(vsd,intgroup = 'type')\n",
    "pca_plot + geom_text(size=2.4,aes(label=pheno_data$disease_type),vjust=2)"
   ]
  },
  {
   "cell_type": "code",
   "execution_count": 53,
   "metadata": {
    "vscode": {
     "languageId": "r"
    }
   },
   "outputs": [
    {
     "data": {
      "image/png": "[encoded data removed]",
      "text/plain": [
       "plot without title"
      ]
     },
     "metadata": {
      "image/png": {
       "height": 420,
       "width": 420
      }
     },
     "output_type": "display_data"
    }
   ],
   "source": [
    "pca_plot + geom_text(size=2.2,aes(label=pheno_data$disease_type),vjust=2)"
   ]
  },
  {
   "cell_type": "code",
   "execution_count": 26,
   "metadata": {
    "vscode": {
     "languageId": "r"
    }
   },
   "outputs": [
    {
     "name": "stderr",
     "output_type": "stream",
     "text": [
      "estimating size factors\n",
      "\n",
      "  Note: levels of factors in the design contain characters other than\n",
      "  letters, numbers, '_' and '.'. It is recommended (but not required) to use\n",
      "  only letters, numbers, and delimiters '_' or '.', as these are safe characters\n",
      "  for column names in R. [This is a message, not a warning or an error]\n",
      "\n",
      "estimating dispersions\n",
      "\n",
      "gene-wise dispersion estimates\n",
      "\n",
      "mean-dispersion relationship\n",
      "\n",
      "  Note: levels of factors in the design contain characters other than\n",
      "  letters, numbers, '_' and '.'. It is recommended (but not required) to use\n",
      "  only letters, numbers, and delimiters '_' or '.', as these are safe characters\n",
      "  for column names in R. [This is a message, not a warning or an error]\n",
      "\n",
      "final dispersion estimates\n",
      "\n",
      "fitting model and testing\n",
      "\n",
      "  Note: levels of factors in the design contain characters other than\n",
      "  letters, numbers, '_' and '.'. It is recommended (but not required) to use\n",
      "  only letters, numbers, and delimiters '_' or '.', as these are safe characters\n",
      "  for column names in R. [This is a message, not a warning or an error]\n",
      "\n",
      "-- replacing outliers and refitting for 4593 genes\n",
      "-- DESeq argument 'minReplicatesForReplace' = 7 \n",
      "-- original counts are preserved in counts(dds)\n",
      "\n",
      "estimating dispersions\n",
      "\n",
      "fitting model and testing\n",
      "\n",
      "  Note: levels of factors in the design contain characters other than\n",
      "  letters, numbers, '_' and '.'. It is recommended (but not required) to use\n",
      "  only letters, numbers, and delimiters '_' or '.', as these are safe characters\n",
      "  for column names in R. [This is a message, not a warning or an error]\n",
      "\n"
     ]
    }
   ],
   "source": [
    "# Run DESeq2 analysis\n",
    "dds <- DESeq(dds)"
   ]
  },
  {
   "attachments": {},
   "cell_type": "markdown",
   "metadata": {},
   "source": [
    "We have successfully ran DESeq, now let's explore the results "
   ]
  },
  {
   "cell_type": "code",
   "execution_count": 27,
   "metadata": {
    "vscode": {
     "languageId": "r"
    }
   },
   "outputs": [],
   "source": [
    "# Get differential expression results\n",
    "res <- results(dds, contrast = c('type','Tumor','Normal'))"
   ]
  },
  {
   "cell_type": "code",
   "execution_count": 28,
   "metadata": {
    "vscode": {
     "languageId": "r"
    }
   },
   "outputs": [
    {
     "data": {
      "text/plain": [
       "log2 fold change (MLE): type Tumor vs Normal \n",
       "Wald test p-value: type Tumor vs Normal \n",
       "DataFrame with 19234 rows and 6 columns\n",
       "           baseMean log2FoldChange     lfcSE      stat      pvalue        padj\n",
       "          <numeric>      <numeric> <numeric> <numeric>   <numeric>   <numeric>\n",
       "A1BG       33.84831       0.592463  0.155561  3.808550 1.39784e-04 3.98120e-04\n",
       "A1CF        4.40533      -0.459399  0.331153 -1.387271 1.65359e-01 2.33805e-01\n",
       "A2M     57660.61488      -1.313815  0.132331 -9.928217 3.13816e-23 1.74287e-21\n",
       "A2ML1     423.33334       2.845920  0.372124  7.647782 2.04475e-14 3.15316e-13\n",
       "A3GALT2     2.99330      -0.233519  0.281631 -0.829168 4.07009e-01 5.06568e-01\n",
       "...             ...            ...       ...       ...         ...         ...\n",
       "ZYG11A      262.937       1.097983 0.2289215   4.79633 1.61597e-06 6.62075e-06\n",
       "ZYG11B     3519.758      -0.650269 0.1300773  -4.99910 5.75994e-07 2.56951e-06\n",
       "ZYX       11685.500      -0.329376 0.1096115  -3.00494 2.65636e-03 5.74592e-03\n",
       "ZZEF1      4425.447      -0.250987 0.0943274  -2.66081 7.79532e-03 1.52659e-02\n",
       "ZZZ3       3489.574      -0.155774 0.0863205  -1.80460 7.11371e-02 1.11346e-01"
      ]
     },
     "metadata": {},
     "output_type": "display_data"
    }
   ],
   "source": [
    "res"
   ]
  },
  {
   "cell_type": "code",
   "execution_count": 29,
   "metadata": {
    "vscode": {
     "languageId": "r"
    }
   },
   "outputs": [
    {
     "name": "stdout",
     "output_type": "stream",
     "text": [
      "\n",
      "out of 18994 with nonzero total read count\n",
      "adjusted p-value < 0.1\n",
      "LFC > 0 (up)       : 7393, 39%\n",
      "LFC < 0 (down)     : 4583, 24%\n",
      "outliers [1]       : 0, 0%\n",
      "low counts [2]     : 1, 0.0053%\n",
      "(mean count < 0)\n",
      "[1] see 'cooksCutoff' argument of ?results\n",
      "[2] see 'independentFiltering' argument of ?results\n",
      "\n"
     ]
    }
   ],
   "source": [
    "summary(res)"
   ]
  },
  {
   "cell_type": "code",
   "execution_count": 30,
   "metadata": {
    "vscode": {
     "languageId": "r"
    }
   },
   "outputs": [
    {
     "data": {
      "text/html": [
       "<table class=\"dataframe\">\n",
       "<caption>A data.frame: 6 × 6</caption>\n",
       "<thead>\n",
       "\t<tr><th></th><th scope=col>baseMean</th><th scope=col>log2FoldChange</th><th scope=col>lfcSE</th><th scope=col>stat</th><th scope=col>pvalue</th><th scope=col>padj</th></tr>\n",
       "\t<tr><th></th><th scope=col>&lt;dbl&gt;</th><th scope=col>&lt;dbl&gt;</th><th scope=col>&lt;dbl&gt;</th><th scope=col>&lt;dbl&gt;</th><th scope=col>&lt;dbl&gt;</th><th scope=col>&lt;dbl&gt;</th></tr>\n",
       "</thead>\n",
       "<tbody>\n",
       "\t<tr><th scope=row>A1BG</th><td>   33.848307</td><td> 0.5924632</td><td>0.15556138</td><td> 3.808550</td><td>1.397843e-04</td><td>3.981201e-04</td></tr>\n",
       "\t<tr><th scope=row>A2M</th><td>57660.614880</td><td>-1.3138149</td><td>0.13233140</td><td>-9.928217</td><td>3.138157e-23</td><td>1.742870e-21</td></tr>\n",
       "\t<tr><th scope=row>A2ML1</th><td>  423.333343</td><td> 2.8459197</td><td>0.37212353</td><td> 7.647782</td><td>2.044754e-14</td><td>3.153156e-13</td></tr>\n",
       "\t<tr><th scope=row>A4GNT</th><td>    5.939878</td><td>-1.2812227</td><td>0.33100755</td><td>-3.870675</td><td>1.085344e-04</td><td>3.150699e-04</td></tr>\n",
       "\t<tr><th scope=row>AAAS</th><td> 2267.886646</td><td> 0.2661434</td><td>0.07958072</td><td> 3.344320</td><td>8.248457e-04</td><td>1.998612e-03</td></tr>\n",
       "\t<tr><th scope=row>AADAC</th><td>  139.489918</td><td>-4.4764218</td><td>0.48599649</td><td>-9.210811</td><td>3.236699e-20</td><td>1.153431e-18</td></tr>\n",
       "</tbody>\n",
       "</table>\n"
      ],
      "text/latex": [
       "A data.frame: 6 × 6\n",
       "\\begin{tabular}{r|llllll}\n",
       "  & baseMean & log2FoldChange & lfcSE & stat & pvalue & padj\\\\\n",
       "  & <dbl> & <dbl> & <dbl> & <dbl> & <dbl> & <dbl>\\\\\n",
       "\\hline\n",
       "\tA1BG &    33.848307 &  0.5924632 & 0.15556138 &  3.808550 & 1.397843e-04 & 3.981201e-04\\\\\n",
       "\tA2M & 57660.614880 & -1.3138149 & 0.13233140 & -9.928217 & 3.138157e-23 & 1.742870e-21\\\\\n",
       "\tA2ML1 &   423.333343 &  2.8459197 & 0.37212353 &  7.647782 & 2.044754e-14 & 3.153156e-13\\\\\n",
       "\tA4GNT &     5.939878 & -1.2812227 & 0.33100755 & -3.870675 & 1.085344e-04 & 3.150699e-04\\\\\n",
       "\tAAAS &  2267.886646 &  0.2661434 & 0.07958072 &  3.344320 & 8.248457e-04 & 1.998612e-03\\\\\n",
       "\tAADAC &   139.489918 & -4.4764218 & 0.48599649 & -9.210811 & 3.236699e-20 & 1.153431e-18\\\\\n",
       "\\end{tabular}\n"
      ],
      "text/markdown": [
       "\n",
       "A data.frame: 6 × 6\n",
       "\n",
       "| <!--/--> | baseMean &lt;dbl&gt; | log2FoldChange &lt;dbl&gt; | lfcSE &lt;dbl&gt; | stat &lt;dbl&gt; | pvalue &lt;dbl&gt; | padj &lt;dbl&gt; |\n",
       "|---|---|---|---|---|---|---|\n",
       "| A1BG |    33.848307 |  0.5924632 | 0.15556138 |  3.808550 | 1.397843e-04 | 3.981201e-04 |\n",
       "| A2M | 57660.614880 | -1.3138149 | 0.13233140 | -9.928217 | 3.138157e-23 | 1.742870e-21 |\n",
       "| A2ML1 |   423.333343 |  2.8459197 | 0.37212353 |  7.647782 | 2.044754e-14 | 3.153156e-13 |\n",
       "| A4GNT |     5.939878 | -1.2812227 | 0.33100755 | -3.870675 | 1.085344e-04 | 3.150699e-04 |\n",
       "| AAAS |  2267.886646 |  0.2661434 | 0.07958072 |  3.344320 | 8.248457e-04 | 1.998612e-03 |\n",
       "| AADAC |   139.489918 | -4.4764218 | 0.48599649 | -9.210811 | 3.236699e-20 | 1.153431e-18 |\n",
       "\n"
      ],
      "text/plain": [
       "      baseMean     log2FoldChange lfcSE      stat      pvalue      \n",
       "A1BG     33.848307  0.5924632     0.15556138  3.808550 1.397843e-04\n",
       "A2M   57660.614880 -1.3138149     0.13233140 -9.928217 3.138157e-23\n",
       "A2ML1   423.333343  2.8459197     0.37212353  7.647782 2.044754e-14\n",
       "A4GNT     5.939878 -1.2812227     0.33100755 -3.870675 1.085344e-04\n",
       "AAAS   2267.886646  0.2661434     0.07958072  3.344320 8.248457e-04\n",
       "AADAC   139.489918 -4.4764218     0.48599649 -9.210811 3.236699e-20\n",
       "      padj        \n",
       "A1BG  3.981201e-04\n",
       "A2M   1.742870e-21\n",
       "A2ML1 3.153156e-13\n",
       "A4GNT 3.150699e-04\n",
       "AAAS  1.998612e-03\n",
       "AADAC 1.153431e-18"
      ]
     },
     "metadata": {},
     "output_type": "display_data"
    },
    {
     "data": {
      "text/html": [
       "<style>\n",
       ".list-inline {list-style: none; margin:0; padding: 0}\n",
       ".list-inline>li {display: inline-block}\n",
       ".list-inline>li:not(:last-child)::after {content: \"\\00b7\"; padding: 0 .5ex}\n",
       "</style>\n",
       "<ol class=list-inline><li>11045</li><li>6</li></ol>\n"
      ],
      "text/latex": [
       "\\begin{enumerate*}\n",
       "\\item 11045\n",
       "\\item 6\n",
       "\\end{enumerate*}\n"
      ],
      "text/markdown": [
       "1. 11045\n",
       "2. 6\n",
       "\n",
       "\n"
      ],
      "text/plain": [
       "[1] 11045     6"
      ]
     },
     "metadata": {},
     "output_type": "display_data"
    }
   ],
   "source": [
    "sig_genes = as.data.frame(res[which(res$padj < 0.05),])\n",
    "head(sig_genes)\n",
    "dim(sig_genes)"
   ]
  },
  {
   "cell_type": "code",
   "execution_count": 31,
   "metadata": {
    "vscode": {
     "languageId": "r"
    }
   },
   "outputs": [
    {
     "data": {
      "text/html": [
       "<style>\n",
       ".list-inline {list-style: none; margin:0; padding: 0}\n",
       ".list-inline>li {display: inline-block}\n",
       ".list-inline>li:not(:last-child)::after {content: \"\\00b7\"; padding: 0 .5ex}\n",
       "</style>\n",
       "<ol class=list-inline><li>3935</li><li>6</li></ol>\n"
      ],
      "text/latex": [
       "\\begin{enumerate*}\n",
       "\\item 3935\n",
       "\\item 6\n",
       "\\end{enumerate*}\n"
      ],
      "text/markdown": [
       "1. 3935\n",
       "2. 6\n",
       "\n",
       "\n"
      ],
      "text/plain": [
       "[1] 3935    6"
      ]
     },
     "metadata": {},
     "output_type": "display_data"
    },
    {
     "data": {
      "text/plain": [
       "log2 fold change (MLE): type Tumor vs Normal \n",
       "Wald test p-value: type Tumor vs Normal \n",
       "DataFrame with 6 rows and 6 columns\n",
       "           baseMean log2FoldChange     lfcSE      stat      pvalue        padj\n",
       "          <numeric>      <numeric> <numeric> <numeric>   <numeric>   <numeric>\n",
       "A2M     57660.61488       -1.31381  0.132331  -9.92822 3.13816e-23 1.74287e-21\n",
       "A2ML1     423.33334        2.84592  0.372124   7.64778 2.04475e-14 3.15316e-13\n",
       "A4GNT       5.93988       -1.28122  0.331008  -3.87068 1.08534e-04 3.15070e-04\n",
       "AADAC     139.48992       -4.47642  0.485996  -9.21081 3.23670e-20 1.15343e-18\n",
       "AADACL2     4.89657       -2.71860  0.466610  -5.82629 5.66722e-09 3.60011e-08\n",
       "AADACL3     3.07037       -3.56017  0.644961  -5.51998 3.39034e-08 1.88403e-07"
      ]
     },
     "metadata": {},
     "output_type": "display_data"
    }
   ],
   "source": [
    "# Filter significantly differentially expressed genes\n",
    "alpha_cutoff <- 0.05\n",
    "significant_genes <- subset(res, padj < alpha_cutoff & abs(log2FoldChange) > 1)\n",
    "dim(significant_genes)\n",
    "head(significant_genes)"
   ]
  },
  {
   "attachments": {},
   "cell_type": "markdown",
   "metadata": {},
   "source": [
    "On filtering the genes with alpha_cutoff of 0.05 and log2FoldChange > 1\n",
    "we have 3935 genes"
   ]
  },
  {
   "attachments": {},
   "cell_type": "markdown",
   "metadata": {},
   "source": [
    "Let's find upregulated and downregulated genes"
   ]
  },
  {
   "cell_type": "code",
   "execution_count": 32,
   "metadata": {
    "vscode": {
     "languageId": "r"
    }
   },
   "outputs": [],
   "source": [
    "upregulated = sig_genes[which(sig_genes$log2FoldChange > 0.6), ]\n",
    "downregulated = sig_genes[which(sig_genes$log2FoldChange < -0.6), ]"
   ]
  },
  {
   "cell_type": "code",
   "execution_count": 33,
   "metadata": {
    "vscode": {
     "languageId": "r"
    }
   },
   "outputs": [
    {
     "data": {
      "text/html": [
       "<style>\n",
       ".list-inline {list-style: none; margin:0; padding: 0}\n",
       ".list-inline>li {display: inline-block}\n",
       ".list-inline>li:not(:last-child)::after {content: \"\\00b7\"; padding: 0 .5ex}\n",
       "</style>\n",
       "<ol class=list-inline><li>3785</li><li>6</li></ol>\n"
      ],
      "text/latex": [
       "\\begin{enumerate*}\n",
       "\\item 3785\n",
       "\\item 6\n",
       "\\end{enumerate*}\n"
      ],
      "text/markdown": [
       "1. 3785\n",
       "2. 6\n",
       "\n",
       "\n"
      ],
      "text/plain": [
       "[1] 3785    6"
      ]
     },
     "metadata": {},
     "output_type": "display_data"
    }
   ],
   "source": [
    "dim(upregulated)"
   ]
  },
  {
   "cell_type": "code",
   "execution_count": 34,
   "metadata": {
    "vscode": {
     "languageId": "r"
    }
   },
   "outputs": [
    {
     "data": {
      "text/html": [
       "<style>\n",
       ".list-inline {list-style: none; margin:0; padding: 0}\n",
       ".list-inline>li {display: inline-block}\n",
       ".list-inline>li:not(:last-child)::after {content: \"\\00b7\"; padding: 0 .5ex}\n",
       "</style>\n",
       "<ol class=list-inline><li>2924</li><li>6</li></ol>\n"
      ],
      "text/latex": [
       "\\begin{enumerate*}\n",
       "\\item 2924\n",
       "\\item 6\n",
       "\\end{enumerate*}\n"
      ],
      "text/markdown": [
       "1. 2924\n",
       "2. 6\n",
       "\n",
       "\n"
      ],
      "text/plain": [
       "[1] 2924    6"
      ]
     },
     "metadata": {},
     "output_type": "display_data"
    }
   ],
   "source": [
    "dim(downregulated)"
   ]
  },
  {
   "attachments": {},
   "cell_type": "markdown",
   "metadata": {},
   "source": [
    "Let's save DESeq expressed genes"
   ]
  },
  {
   "cell_type": "code",
   "execution_count": 36,
   "metadata": {
    "vscode": {
     "languageId": "r"
    }
   },
   "outputs": [],
   "source": [
    "significant_genes_df = as.data.frame(significant_genes)"
   ]
  },
  {
   "cell_type": "code",
   "execution_count": 37,
   "metadata": {
    "vscode": {
     "languageId": "r"
    }
   },
   "outputs": [
    {
     "data": {
      "text/html": [
       "<table class=\"dataframe\">\n",
       "<caption>A data.frame: 6 × 7</caption>\n",
       "<thead>\n",
       "\t<tr><th></th><th scope=col>baseMean</th><th scope=col>log2FoldChange</th><th scope=col>lfcSE</th><th scope=col>stat</th><th scope=col>pvalue</th><th scope=col>padj</th><th scope=col>GeneName</th></tr>\n",
       "\t<tr><th></th><th scope=col>&lt;dbl&gt;</th><th scope=col>&lt;dbl&gt;</th><th scope=col>&lt;dbl&gt;</th><th scope=col>&lt;dbl&gt;</th><th scope=col>&lt;dbl&gt;</th><th scope=col>&lt;dbl&gt;</th><th scope=col>&lt;chr&gt;</th></tr>\n",
       "</thead>\n",
       "<tbody>\n",
       "\t<tr><th scope=row>A2M</th><td>57660.614880</td><td>-1.313815</td><td>0.1323314</td><td>-9.928217</td><td>3.138157e-23</td><td>1.742870e-21</td><td>A2M    </td></tr>\n",
       "\t<tr><th scope=row>A2ML1</th><td>  423.333343</td><td> 2.845920</td><td>0.3721235</td><td> 7.647782</td><td>2.044754e-14</td><td>3.153156e-13</td><td>A2ML1  </td></tr>\n",
       "\t<tr><th scope=row>A4GNT</th><td>    5.939878</td><td>-1.281223</td><td>0.3310076</td><td>-3.870675</td><td>1.085344e-04</td><td>3.150699e-04</td><td>A4GNT  </td></tr>\n",
       "\t<tr><th scope=row>AADAC</th><td>  139.489918</td><td>-4.476422</td><td>0.4859965</td><td>-9.210811</td><td>3.236699e-20</td><td>1.153431e-18</td><td>AADAC  </td></tr>\n",
       "\t<tr><th scope=row>AADACL2</th><td>    4.896570</td><td>-2.718604</td><td>0.4666096</td><td>-5.826293</td><td>5.667221e-09</td><td>3.600107e-08</td><td>AADACL2</td></tr>\n",
       "\t<tr><th scope=row>AADACL3</th><td>    3.070368</td><td>-3.560171</td><td>0.6449605</td><td>-5.519982</td><td>3.390335e-08</td><td>1.884027e-07</td><td>AADACL3</td></tr>\n",
       "</tbody>\n",
       "</table>\n"
      ],
      "text/latex": [
       "A data.frame: 6 × 7\n",
       "\\begin{tabular}{r|lllllll}\n",
       "  & baseMean & log2FoldChange & lfcSE & stat & pvalue & padj & GeneName\\\\\n",
       "  & <dbl> & <dbl> & <dbl> & <dbl> & <dbl> & <dbl> & <chr>\\\\\n",
       "\\hline\n",
       "\tA2M & 57660.614880 & -1.313815 & 0.1323314 & -9.928217 & 3.138157e-23 & 1.742870e-21 & A2M    \\\\\n",
       "\tA2ML1 &   423.333343 &  2.845920 & 0.3721235 &  7.647782 & 2.044754e-14 & 3.153156e-13 & A2ML1  \\\\\n",
       "\tA4GNT &     5.939878 & -1.281223 & 0.3310076 & -3.870675 & 1.085344e-04 & 3.150699e-04 & A4GNT  \\\\\n",
       "\tAADAC &   139.489918 & -4.476422 & 0.4859965 & -9.210811 & 3.236699e-20 & 1.153431e-18 & AADAC  \\\\\n",
       "\tAADACL2 &     4.896570 & -2.718604 & 0.4666096 & -5.826293 & 5.667221e-09 & 3.600107e-08 & AADACL2\\\\\n",
       "\tAADACL3 &     3.070368 & -3.560171 & 0.6449605 & -5.519982 & 3.390335e-08 & 1.884027e-07 & AADACL3\\\\\n",
       "\\end{tabular}\n"
      ],
      "text/markdown": [
       "\n",
       "A data.frame: 6 × 7\n",
       "\n",
       "| <!--/--> | baseMean &lt;dbl&gt; | log2FoldChange &lt;dbl&gt; | lfcSE &lt;dbl&gt; | stat &lt;dbl&gt; | pvalue &lt;dbl&gt; | padj &lt;dbl&gt; | GeneName &lt;chr&gt; |\n",
       "|---|---|---|---|---|---|---|---|\n",
       "| A2M | 57660.614880 | -1.313815 | 0.1323314 | -9.928217 | 3.138157e-23 | 1.742870e-21 | A2M     |\n",
       "| A2ML1 |   423.333343 |  2.845920 | 0.3721235 |  7.647782 | 2.044754e-14 | 3.153156e-13 | A2ML1   |\n",
       "| A4GNT |     5.939878 | -1.281223 | 0.3310076 | -3.870675 | 1.085344e-04 | 3.150699e-04 | A4GNT   |\n",
       "| AADAC |   139.489918 | -4.476422 | 0.4859965 | -9.210811 | 3.236699e-20 | 1.153431e-18 | AADAC   |\n",
       "| AADACL2 |     4.896570 | -2.718604 | 0.4666096 | -5.826293 | 5.667221e-09 | 3.600107e-08 | AADACL2 |\n",
       "| AADACL3 |     3.070368 | -3.560171 | 0.6449605 | -5.519982 | 3.390335e-08 | 1.884027e-07 | AADACL3 |\n",
       "\n"
      ],
      "text/plain": [
       "        baseMean     log2FoldChange lfcSE     stat      pvalue      \n",
       "A2M     57660.614880 -1.313815      0.1323314 -9.928217 3.138157e-23\n",
       "A2ML1     423.333343  2.845920      0.3721235  7.647782 2.044754e-14\n",
       "A4GNT       5.939878 -1.281223      0.3310076 -3.870675 1.085344e-04\n",
       "AADAC     139.489918 -4.476422      0.4859965 -9.210811 3.236699e-20\n",
       "AADACL2     4.896570 -2.718604      0.4666096 -5.826293 5.667221e-09\n",
       "AADACL3     3.070368 -3.560171      0.6449605 -5.519982 3.390335e-08\n",
       "        padj         GeneName\n",
       "A2M     1.742870e-21 A2M     \n",
       "A2ML1   3.153156e-13 A2ML1   \n",
       "A4GNT   3.150699e-04 A4GNT   \n",
       "AADAC   1.153431e-18 AADAC   \n",
       "AADACL2 3.600107e-08 AADACL2 \n",
       "AADACL3 1.884027e-07 AADACL3 "
      ]
     },
     "metadata": {},
     "output_type": "display_data"
    }
   ],
   "source": [
    "significant_genes_df$GeneName <- row.names(significant_genes)\n",
    "head(significant_genes_df)"
   ]
  },
  {
   "cell_type": "code",
   "execution_count": 38,
   "metadata": {
    "vscode": {
     "languageId": "r"
    }
   },
   "outputs": [
    {
     "data": {
      "text/html": [
       "<table class=\"dataframe\">\n",
       "<caption>A data.frame: 6 × 7</caption>\n",
       "<thead>\n",
       "\t<tr><th></th><th scope=col>baseMean</th><th scope=col>log2FoldChange</th><th scope=col>lfcSE</th><th scope=col>stat</th><th scope=col>pvalue</th><th scope=col>padj</th><th scope=col>GeneName</th></tr>\n",
       "\t<tr><th></th><th scope=col>&lt;dbl&gt;</th><th scope=col>&lt;dbl&gt;</th><th scope=col>&lt;dbl&gt;</th><th scope=col>&lt;dbl&gt;</th><th scope=col>&lt;dbl&gt;</th><th scope=col>&lt;dbl&gt;</th><th scope=col>&lt;chr&gt;</th></tr>\n",
       "</thead>\n",
       "<tbody>\n",
       "\t<tr><th scope=row>1</th><td>57660.614880</td><td>-1.313815</td><td>0.1323314</td><td>-9.928217</td><td>3.138157e-23</td><td>1.742870e-21</td><td>A2M    </td></tr>\n",
       "\t<tr><th scope=row>2</th><td>  423.333343</td><td> 2.845920</td><td>0.3721235</td><td> 7.647782</td><td>2.044754e-14</td><td>3.153156e-13</td><td>A2ML1  </td></tr>\n",
       "\t<tr><th scope=row>3</th><td>    5.939878</td><td>-1.281223</td><td>0.3310076</td><td>-3.870675</td><td>1.085344e-04</td><td>3.150699e-04</td><td>A4GNT  </td></tr>\n",
       "\t<tr><th scope=row>4</th><td>  139.489918</td><td>-4.476422</td><td>0.4859965</td><td>-9.210811</td><td>3.236699e-20</td><td>1.153431e-18</td><td>AADAC  </td></tr>\n",
       "\t<tr><th scope=row>5</th><td>    4.896570</td><td>-2.718604</td><td>0.4666096</td><td>-5.826293</td><td>5.667221e-09</td><td>3.600107e-08</td><td>AADACL2</td></tr>\n",
       "\t<tr><th scope=row>6</th><td>    3.070368</td><td>-3.560171</td><td>0.6449605</td><td>-5.519982</td><td>3.390335e-08</td><td>1.884027e-07</td><td>AADACL3</td></tr>\n",
       "</tbody>\n",
       "</table>\n"
      ],
      "text/latex": [
       "A data.frame: 6 × 7\n",
       "\\begin{tabular}{r|lllllll}\n",
       "  & baseMean & log2FoldChange & lfcSE & stat & pvalue & padj & GeneName\\\\\n",
       "  & <dbl> & <dbl> & <dbl> & <dbl> & <dbl> & <dbl> & <chr>\\\\\n",
       "\\hline\n",
       "\t1 & 57660.614880 & -1.313815 & 0.1323314 & -9.928217 & 3.138157e-23 & 1.742870e-21 & A2M    \\\\\n",
       "\t2 &   423.333343 &  2.845920 & 0.3721235 &  7.647782 & 2.044754e-14 & 3.153156e-13 & A2ML1  \\\\\n",
       "\t3 &     5.939878 & -1.281223 & 0.3310076 & -3.870675 & 1.085344e-04 & 3.150699e-04 & A4GNT  \\\\\n",
       "\t4 &   139.489918 & -4.476422 & 0.4859965 & -9.210811 & 3.236699e-20 & 1.153431e-18 & AADAC  \\\\\n",
       "\t5 &     4.896570 & -2.718604 & 0.4666096 & -5.826293 & 5.667221e-09 & 3.600107e-08 & AADACL2\\\\\n",
       "\t6 &     3.070368 & -3.560171 & 0.6449605 & -5.519982 & 3.390335e-08 & 1.884027e-07 & AADACL3\\\\\n",
       "\\end{tabular}\n"
      ],
      "text/markdown": [
       "\n",
       "A data.frame: 6 × 7\n",
       "\n",
       "| <!--/--> | baseMean &lt;dbl&gt; | log2FoldChange &lt;dbl&gt; | lfcSE &lt;dbl&gt; | stat &lt;dbl&gt; | pvalue &lt;dbl&gt; | padj &lt;dbl&gt; | GeneName &lt;chr&gt; |\n",
       "|---|---|---|---|---|---|---|---|\n",
       "| 1 | 57660.614880 | -1.313815 | 0.1323314 | -9.928217 | 3.138157e-23 | 1.742870e-21 | A2M     |\n",
       "| 2 |   423.333343 |  2.845920 | 0.3721235 |  7.647782 | 2.044754e-14 | 3.153156e-13 | A2ML1   |\n",
       "| 3 |     5.939878 | -1.281223 | 0.3310076 | -3.870675 | 1.085344e-04 | 3.150699e-04 | A4GNT   |\n",
       "| 4 |   139.489918 | -4.476422 | 0.4859965 | -9.210811 | 3.236699e-20 | 1.153431e-18 | AADAC   |\n",
       "| 5 |     4.896570 | -2.718604 | 0.4666096 | -5.826293 | 5.667221e-09 | 3.600107e-08 | AADACL2 |\n",
       "| 6 |     3.070368 | -3.560171 | 0.6449605 | -5.519982 | 3.390335e-08 | 1.884027e-07 | AADACL3 |\n",
       "\n"
      ],
      "text/plain": [
       "  baseMean     log2FoldChange lfcSE     stat      pvalue       padj        \n",
       "1 57660.614880 -1.313815      0.1323314 -9.928217 3.138157e-23 1.742870e-21\n",
       "2   423.333343  2.845920      0.3721235  7.647782 2.044754e-14 3.153156e-13\n",
       "3     5.939878 -1.281223      0.3310076 -3.870675 1.085344e-04 3.150699e-04\n",
       "4   139.489918 -4.476422      0.4859965 -9.210811 3.236699e-20 1.153431e-18\n",
       "5     4.896570 -2.718604      0.4666096 -5.826293 5.667221e-09 3.600107e-08\n",
       "6     3.070368 -3.560171      0.6449605 -5.519982 3.390335e-08 1.884027e-07\n",
       "  GeneName\n",
       "1 A2M     \n",
       "2 A2ML1   \n",
       "3 A4GNT   \n",
       "4 AADAC   \n",
       "5 AADACL2 \n",
       "6 AADACL3 "
      ]
     },
     "metadata": {},
     "output_type": "display_data"
    }
   ],
   "source": [
    "rownames(significant_genes_df) <- NULL\n",
    "head(significant_genes_df)"
   ]
  },
  {
   "cell_type": "code",
   "execution_count": 41,
   "metadata": {
    "vscode": {
     "languageId": "r"
    }
   },
   "outputs": [
    {
     "data": {
      "text/html": [
       "<table class=\"dataframe\">\n",
       "<caption>A data.frame: 6 × 7</caption>\n",
       "<thead>\n",
       "\t<tr><th></th><th scope=col>baseMean</th><th scope=col>log2FoldChange</th><th scope=col>lfcSE</th><th scope=col>stat</th><th scope=col>pvalue</th><th scope=col>padj</th><th scope=col>GeneName</th></tr>\n",
       "\t<tr><th></th><th scope=col>&lt;dbl&gt;</th><th scope=col>&lt;dbl&gt;</th><th scope=col>&lt;dbl&gt;</th><th scope=col>&lt;dbl&gt;</th><th scope=col>&lt;dbl&gt;</th><th scope=col>&lt;dbl&gt;</th><th scope=col>&lt;chr&gt;</th></tr>\n",
       "</thead>\n",
       "<tbody>\n",
       "\t<tr><th scope=row>1</th><td>57660.614880</td><td>-1.313815</td><td>0.1323314</td><td>-9.928217</td><td>3.138157e-23</td><td>1.742870e-21</td><td>A2M    </td></tr>\n",
       "\t<tr><th scope=row>2</th><td>  423.333343</td><td> 2.845920</td><td>0.3721235</td><td> 7.647782</td><td>2.044754e-14</td><td>3.153156e-13</td><td>A2ML1  </td></tr>\n",
       "\t<tr><th scope=row>3</th><td>    5.939878</td><td>-1.281223</td><td>0.3310076</td><td>-3.870675</td><td>1.085344e-04</td><td>3.150699e-04</td><td>A4GNT  </td></tr>\n",
       "\t<tr><th scope=row>4</th><td>  139.489918</td><td>-4.476422</td><td>0.4859965</td><td>-9.210811</td><td>3.236699e-20</td><td>1.153431e-18</td><td>AADAC  </td></tr>\n",
       "\t<tr><th scope=row>5</th><td>    4.896570</td><td>-2.718604</td><td>0.4666096</td><td>-5.826293</td><td>5.667221e-09</td><td>3.600107e-08</td><td>AADACL2</td></tr>\n",
       "\t<tr><th scope=row>6</th><td>    3.070368</td><td>-3.560171</td><td>0.6449605</td><td>-5.519982</td><td>3.390335e-08</td><td>1.884027e-07</td><td>AADACL3</td></tr>\n",
       "</tbody>\n",
       "</table>\n"
      ],
      "text/latex": [
       "A data.frame: 6 × 7\n",
       "\\begin{tabular}{r|lllllll}\n",
       "  & baseMean & log2FoldChange & lfcSE & stat & pvalue & padj & GeneName\\\\\n",
       "  & <dbl> & <dbl> & <dbl> & <dbl> & <dbl> & <dbl> & <chr>\\\\\n",
       "\\hline\n",
       "\t1 & 57660.614880 & -1.313815 & 0.1323314 & -9.928217 & 3.138157e-23 & 1.742870e-21 & A2M    \\\\\n",
       "\t2 &   423.333343 &  2.845920 & 0.3721235 &  7.647782 & 2.044754e-14 & 3.153156e-13 & A2ML1  \\\\\n",
       "\t3 &     5.939878 & -1.281223 & 0.3310076 & -3.870675 & 1.085344e-04 & 3.150699e-04 & A4GNT  \\\\\n",
       "\t4 &   139.489918 & -4.476422 & 0.4859965 & -9.210811 & 3.236699e-20 & 1.153431e-18 & AADAC  \\\\\n",
       "\t5 &     4.896570 & -2.718604 & 0.4666096 & -5.826293 & 5.667221e-09 & 3.600107e-08 & AADACL2\\\\\n",
       "\t6 &     3.070368 & -3.560171 & 0.6449605 & -5.519982 & 3.390335e-08 & 1.884027e-07 & AADACL3\\\\\n",
       "\\end{tabular}\n"
      ],
      "text/markdown": [
       "\n",
       "A data.frame: 6 × 7\n",
       "\n",
       "| <!--/--> | baseMean &lt;dbl&gt; | log2FoldChange &lt;dbl&gt; | lfcSE &lt;dbl&gt; | stat &lt;dbl&gt; | pvalue &lt;dbl&gt; | padj &lt;dbl&gt; | GeneName &lt;chr&gt; |\n",
       "|---|---|---|---|---|---|---|---|\n",
       "| 1 | 57660.614880 | -1.313815 | 0.1323314 | -9.928217 | 3.138157e-23 | 1.742870e-21 | A2M     |\n",
       "| 2 |   423.333343 |  2.845920 | 0.3721235 |  7.647782 | 2.044754e-14 | 3.153156e-13 | A2ML1   |\n",
       "| 3 |     5.939878 | -1.281223 | 0.3310076 | -3.870675 | 1.085344e-04 | 3.150699e-04 | A4GNT   |\n",
       "| 4 |   139.489918 | -4.476422 | 0.4859965 | -9.210811 | 3.236699e-20 | 1.153431e-18 | AADAC   |\n",
       "| 5 |     4.896570 | -2.718604 | 0.4666096 | -5.826293 | 5.667221e-09 | 3.600107e-08 | AADACL2 |\n",
       "| 6 |     3.070368 | -3.560171 | 0.6449605 | -5.519982 | 3.390335e-08 | 1.884027e-07 | AADACL3 |\n",
       "\n"
      ],
      "text/plain": [
       "  baseMean     log2FoldChange lfcSE     stat      pvalue       padj        \n",
       "1 57660.614880 -1.313815      0.1323314 -9.928217 3.138157e-23 1.742870e-21\n",
       "2   423.333343  2.845920      0.3721235  7.647782 2.044754e-14 3.153156e-13\n",
       "3     5.939878 -1.281223      0.3310076 -3.870675 1.085344e-04 3.150699e-04\n",
       "4   139.489918 -4.476422      0.4859965 -9.210811 3.236699e-20 1.153431e-18\n",
       "5     4.896570 -2.718604      0.4666096 -5.826293 5.667221e-09 3.600107e-08\n",
       "6     3.070368 -3.560171      0.6449605 -5.519982 3.390335e-08 1.884027e-07\n",
       "  GeneName\n",
       "1 A2M     \n",
       "2 A2ML1   \n",
       "3 A4GNT   \n",
       "4 AADAC   \n",
       "5 AADACL2 \n",
       "6 AADACL3 "
      ]
     },
     "metadata": {},
     "output_type": "display_data"
    }
   ],
   "source": [
    "head(significant_genes_df)"
   ]
  },
  {
   "cell_type": "code",
   "execution_count": 42,
   "metadata": {
    "vscode": {
     "languageId": "r"
    }
   },
   "outputs": [
    {
     "name": "stderr",
     "output_type": "stream",
     "text": [
      "\n",
      "Attaching package: 'dplyr'\n",
      "\n",
      "\n",
      "The following object is masked from 'package:Biobase':\n",
      "\n",
      "    combine\n",
      "\n",
      "\n",
      "The following object is masked from 'package:matrixStats':\n",
      "\n",
      "    count\n",
      "\n",
      "\n",
      "The following objects are masked from 'package:GenomicRanges':\n",
      "\n",
      "    intersect, setdiff, union\n",
      "\n",
      "\n",
      "The following object is masked from 'package:GenomeInfoDb':\n",
      "\n",
      "    intersect\n",
      "\n",
      "\n",
      "The following objects are masked from 'package:IRanges':\n",
      "\n",
      "    collapse, desc, intersect, setdiff, slice, union\n",
      "\n",
      "\n",
      "The following objects are masked from 'package:S4Vectors':\n",
      "\n",
      "    first, intersect, rename, setdiff, setequal, union\n",
      "\n",
      "\n",
      "The following objects are masked from 'package:BiocGenerics':\n",
      "\n",
      "    combine, intersect, setdiff, union\n",
      "\n",
      "\n",
      "The following objects are masked from 'package:stats':\n",
      "\n",
      "    filter, lag\n",
      "\n",
      "\n",
      "The following objects are masked from 'package:base':\n",
      "\n",
      "    intersect, setdiff, setequal, union\n",
      "\n",
      "\n"
     ]
    }
   ],
   "source": [
    "library(dplyr)"
   ]
  },
  {
   "cell_type": "code",
   "execution_count": 45,
   "metadata": {
    "vscode": {
     "languageId": "r"
    }
   },
   "outputs": [],
   "source": [
    "significant_genes_df %>%\n",
    "  select(GeneName, log2FoldChange, pvalue, padj) %>%\n",
    "  write.csv(file = \"diff_result_Kiran_Franklin.csv\", row.names = FALSE)"
   ]
  },
  {
   "cell_type": "code",
   "execution_count": 51,
   "metadata": {
    "vscode": {
     "languageId": "r"
    }
   },
   "outputs": [
    {
     "name": "stderr",
     "output_type": "stream",
     "text": [
      "Loading required package: ggrepel\n",
      "\n",
      "Warning message:\n",
      "\"package 'ggrepel' was built under R version 4.3.1\"\n",
      "Warning message:\n",
      "\"package 'pheatmap' was built under R version 4.3.1\"\n"
     ]
    }
   ],
   "source": [
    "library(EnhancedVolcano)\n",
    "library(pheatmap)"
   ]
  },
  {
   "cell_type": "code",
   "execution_count": 52,
   "metadata": {
    "vscode": {
     "languageId": "r"
    }
   },
   "outputs": [],
   "source": [
    "vplot= EnhancedVolcano(significant_genes_df,\n",
    "                       lab = significant_genes_df$GeneName,\n",
    "                       x = 'log2FoldChange',\n",
    "                       y = 'padj',\n",
    "                       pCutoff = 0.05,\n",
    "                       FCcutoff = 1,                \n",
    "                       title = '',\n",
    "                       subtitle = \"Normal Vs Tumor\",                     ##\n",
    "                       \n",
    "                       pointSize = 3.0,\n",
    "                       colAlpha = 0.7,\n",
    "                       legendLabels=c('Not sig.','Log2FC','padj',\n",
    "                                      'padj & Log2FC'),\n",
    "                       #drawConnectors = TRUE,\n",
    "                       labSize = 4.0)"
   ]
  },
  {
   "cell_type": "code",
   "execution_count": 53,
   "metadata": {
    "vscode": {
     "languageId": "r"
    }
   },
   "outputs": [
    {
     "data": {
      "image/png": "[encoded data removed]",
      "text/plain": [
       "plot without title"
      ]
     },
     "metadata": {
      "image/png": {
       "height": 420,
       "width": 420
      }
     },
     "output_type": "display_data"
    }
   ],
   "source": [
    "vplot"
   ]
  },
  {
   "cell_type": "code",
   "execution_count": 55,
   "metadata": {
    "vscode": {
     "languageId": "r"
    }
   },
   "outputs": [],
   "source": [
    "##heatmap of top 50 genes\n",
    "\n",
    "##selecting top 50 degs\n",
    "deg_sort = significant_genes_df[order(abs(significant_genes_df$log2FoldChange), decreasing = T),]\n",
    "top_50= deg_sort[1:50,]"
   ]
  },
  {
   "cell_type": "code",
   "execution_count": 56,
   "metadata": {
    "vscode": {
     "languageId": "r"
    }
   },
   "outputs": [],
   "source": [
    "####converting counts to normalized counts and applying scaling\n",
    "mat= counts(dds, normalized=T)[top_50$GeneName,]\n",
    "mat.z=t(apply(mat,1,scale))\n",
    "colnames(mat.z)= colnames(mat)"
   ]
  },
  {
   "cell_type": "code",
   "execution_count": 59,
   "metadata": {
    "vscode": {
     "languageId": "r"
    }
   },
   "outputs": [
    {
     "data": {
      "image/png": "[encoded data removed]",
      "text/plain": [
       "plot without title"
      ]
     },
     "metadata": {
      "image/png": {
       "height": 420,
       "width": 420
      }
     },
     "output_type": "display_data"
    }
   ],
   "source": [
    "annot_col= as.data.frame(pheno_data[,1])\n",
    "rownames(annot_col)= rownames(pheno_data)\n",
    "colnames(annot_col)= \"type\"\n",
    "pheatmap(mat.z, cluster_cols = T, fontsize_row = 5, annotation_col = annot_col) -> hplot\n"
   ]
  },
  {
   "cell_type": "code",
   "execution_count": 60,
   "metadata": {
    "vscode": {
     "languageId": "r"
    }
   },
   "outputs": [
    {
     "name": "stderr",
     "output_type": "stream",
     "text": [
      "\n",
      "\n",
      "##############################################################################\n",
      "Pathview is an open source software package distributed under GNU General\n",
      "Public License version 3 (GPLv3). Details of GPLv3 is available at\n",
      "http://www.gnu.org/licenses/gpl-3.0.html. Particullary, users are required to\n",
      "formally cite the original Pathview paper (not just mention it) in publications\n",
      "or products. For details, do citation(\"pathview\") within R.\n",
      "\n",
      "The pathview downloads and uses KEGG data. Non-academic uses may require a KEGG\n",
      "license agreement (details at http://www.kegg.jp/kegg/legal.html).\n",
      "##############################################################################\n",
      "\n",
      "\n",
      "\n"
     ]
    }
   ],
   "source": [
    "library(pathview)\n",
    "library(gage)\n",
    "library(gageData)"
   ]
  },
  {
   "cell_type": "code",
   "execution_count": 61,
   "metadata": {
    "vscode": {
     "languageId": "r"
    }
   },
   "outputs": [
    {
     "data": {
      "text/html": [
       "<dl>\n",
       "\t<dt>$`hsa00232 Caffeine metabolism`</dt>\n",
       "\t\t<dd><style>\n",
       ".list-inline {list-style: none; margin:0; padding: 0}\n",
       ".list-inline>li {display: inline-block}\n",
       ".list-inline>li:not(:last-child)::after {content: \"\\00b7\"; padding: 0 .5ex}\n",
       "</style>\n",
       "<ol class=list-inline><li>'10'</li><li>'1544'</li><li>'1548'</li><li>'1549'</li><li>'1553'</li><li>'7498'</li><li>'9'</li></ol>\n",
       "</dd>\n",
       "\t<dt>$`hsa00983 Drug metabolism - other enzymes`</dt>\n",
       "\t\t<dd><style>\n",
       ".list-inline {list-style: none; margin:0; padding: 0}\n",
       ".list-inline>li {display: inline-block}\n",
       ".list-inline>li:not(:last-child)::after {content: \"\\00b7\"; padding: 0 .5ex}\n",
       "</style>\n",
       "<ol class=list-inline><li>'10'</li><li>'1066'</li><li>'10720'</li><li>'10941'</li><li>'151531'</li><li>'1548'</li><li>'1549'</li><li>'1551'</li><li>'1553'</li><li>'1576'</li><li>'1577'</li><li>'1806'</li><li>'1807'</li><li>'1890'</li><li>'221223'</li><li>'2990'</li><li>'3251'</li><li>'3614'</li><li>'3615'</li><li>'3704'</li><li>'51733'</li><li>'54490'</li><li>'54575'</li><li>'54576'</li><li>'54577'</li><li>'54578'</li><li>'54579'</li><li>'54600'</li><li>'54657'</li><li>'54658'</li><li>'54659'</li><li>'54963'</li><li>'574537'</li><li>'64816'</li><li>'7083'</li><li>'7084'</li><li>'7172'</li><li>'7363'</li><li>'7364'</li><li>'7365'</li><li>'7366'</li><li>'7367'</li><li>'7371'</li><li>'7372'</li><li>'7378'</li><li>'7498'</li><li>'79799'</li><li>'83549'</li><li>'8824'</li><li>'8833'</li><li>'9'</li><li>'978'</li></ol>\n",
       "</dd>\n",
       "\t<dt>$`hsa00230 Purine metabolism`</dt>\n",
       "\t\t<dd><style>\n",
       ".list-inline {list-style: none; margin:0; padding: 0}\n",
       ".list-inline>li {display: inline-block}\n",
       ".list-inline>li:not(:last-child)::after {content: \"\\00b7\"; padding: 0 .5ex}\n",
       "</style>\n",
       "<ol class=list-inline><li>'100'</li><li>'10201'</li><li>'10606'</li><li>'10621'</li><li>'10622'</li><li>'10623'</li><li>'107'</li><li>'10714'</li><li>'108'</li><li>'10846'</li><li>'109'</li><li>'111'</li><li>'11128'</li><li>'11164'</li><li>'112'</li><li>'113'</li><li>'114'</li><li>'115'</li><li>'122481'</li><li>'122622'</li><li>'124583'</li><li>'132'</li><li>'158'</li><li>'159'</li><li>'1633'</li><li>'171568'</li><li>'1716'</li><li>'196883'</li><li>'203'</li><li>'204'</li><li>'205'</li><li>'221823'</li><li>'2272'</li><li>'22978'</li><li>'23649'</li><li>'246721'</li><li>'25885'</li><li>'2618'</li><li>'26289'</li><li>'270'</li><li>'271'</li><li>'27115'</li><li>'272'</li><li>'2766'</li><li>'2977'</li><li>'2982'</li><li>'2983'</li><li>'2984'</li><li>'2986'</li><li>'2987'</li><li>'29922'</li><li>'3000'</li><li>'30833'</li><li>'30834'</li><li>'318'</li><li>'3251'</li><li>'353'</li><li>'3614'</li><li>'3615'</li><li>'3704'</li><li>'377841'</li><li>'471'</li><li>'4830'</li><li>'4831'</li><li>'4832'</li><li>'4833'</li><li>'4860'</li><li>'4881'</li><li>'4882'</li><li>'4907'</li><li>'50484'</li><li>'50940'</li><li>'51082'</li><li>'51251'</li><li>'51292'</li><li>'5136'</li><li>'5137'</li><li>'5138'</li><li>'5139'</li><li>'5140'</li><li>'5141'</li><li>'5142'</li><li>'5143'</li><li>'5144'</li><li>'5145'</li><li>'5146'</li><li>'5147'</li><li>'5148'</li><li>'5149'</li><li>'5150'</li><li>'5151'</li><li>'5152'</li><li>'5153'</li><li>'5158'</li><li>'5167'</li><li>'5169'</li><li>'51728'</li><li>'5198'</li><li>'5236'</li><li>'5313'</li><li>'5315'</li><li>'53343'</li><li>'54107'</li><li>'5422'</li><li>'5424'</li><li>'5425'</li><li>'5426'</li><li>'5427'</li><li>'5430'</li><li>'5431'</li><li>'5432'</li><li>'5433'</li><li>'5434'</li><li>'5435'</li><li>'5436'</li><li>'5437'</li><li>'5438'</li><li>'5439'</li><li>'5440'</li><li>'5441'</li><li>'5471'</li><li>'548644'</li><li>'55276'</li><li>'5557'</li><li>'5558'</li><li>'55703'</li><li>'55811'</li><li>'55821'</li><li>'5631'</li><li>'5634'</li><li>'56655'</li><li>'56953'</li><li>'56985'</li><li>'57804'</li><li>'58497'</li><li>'6240'</li><li>'6241'</li><li>'64425'</li><li>'646625'</li><li>'654364'</li><li>'661'</li><li>'7498'</li><li>'8382'</li><li>'84172'</li><li>'84265'</li><li>'84284'</li><li>'84618'</li><li>'8622'</li><li>'8654'</li><li>'87178'</li><li>'8833'</li><li>'9060'</li><li>'9061'</li><li>'93034'</li><li>'953'</li><li>'9533'</li><li>'954'</li><li>'955'</li><li>'956'</li><li>'957'</li><li>'9583'</li><li>'9615'</li></ol>\n",
       "</dd>\n",
       "</dl>\n"
      ],
      "text/latex": [
       "\\begin{description}\n",
       "\\item[\\$`hsa00232 Caffeine metabolism`] \\begin{enumerate*}\n",
       "\\item '10'\n",
       "\\item '1544'\n",
       "\\item '1548'\n",
       "\\item '1549'\n",
       "\\item '1553'\n",
       "\\item '7498'\n",
       "\\item '9'\n",
       "\\end{enumerate*}\n",
       "\n",
       "\\item[\\$`hsa00983 Drug metabolism - other enzymes`] \\begin{enumerate*}\n",
       "\\item '10'\n",
       "\\item '1066'\n",
       "\\item '10720'\n",
       "\\item '10941'\n",
       "\\item '151531'\n",
       "\\item '1548'\n",
       "\\item '1549'\n",
       "\\item '1551'\n",
       "\\item '1553'\n",
       "\\item '1576'\n",
       "\\item '1577'\n",
       "\\item '1806'\n",
       "\\item '1807'\n",
       "\\item '1890'\n",
       "\\item '221223'\n",
       "\\item '2990'\n",
       "\\item '3251'\n",
       "\\item '3614'\n",
       "\\item '3615'\n",
       "\\item '3704'\n",
       "\\item '51733'\n",
       "\\item '54490'\n",
       "\\item '54575'\n",
       "\\item '54576'\n",
       "\\item '54577'\n",
       "\\item '54578'\n",
       "\\item '54579'\n",
       "\\item '54600'\n",
       "\\item '54657'\n",
       "\\item '54658'\n",
       "\\item '54659'\n",
       "\\item '54963'\n",
       "\\item '574537'\n",
       "\\item '64816'\n",
       "\\item '7083'\n",
       "\\item '7084'\n",
       "\\item '7172'\n",
       "\\item '7363'\n",
       "\\item '7364'\n",
       "\\item '7365'\n",
       "\\item '7366'\n",
       "\\item '7367'\n",
       "\\item '7371'\n",
       "\\item '7372'\n",
       "\\item '7378'\n",
       "\\item '7498'\n",
       "\\item '79799'\n",
       "\\item '83549'\n",
       "\\item '8824'\n",
       "\\item '8833'\n",
       "\\item '9'\n",
       "\\item '978'\n",
       "\\end{enumerate*}\n",
       "\n",
       "\\item[\\$`hsa00230 Purine metabolism`] \\begin{enumerate*}\n",
       "\\item '100'\n",
       "\\item '10201'\n",
       "\\item '10606'\n",
       "\\item '10621'\n",
       "\\item '10622'\n",
       "\\item '10623'\n",
       "\\item '107'\n",
       "\\item '10714'\n",
       "\\item '108'\n",
       "\\item '10846'\n",
       "\\item '109'\n",
       "\\item '111'\n",
       "\\item '11128'\n",
       "\\item '11164'\n",
       "\\item '112'\n",
       "\\item '113'\n",
       "\\item '114'\n",
       "\\item '115'\n",
       "\\item '122481'\n",
       "\\item '122622'\n",
       "\\item '124583'\n",
       "\\item '132'\n",
       "\\item '158'\n",
       "\\item '159'\n",
       "\\item '1633'\n",
       "\\item '171568'\n",
       "\\item '1716'\n",
       "\\item '196883'\n",
       "\\item '203'\n",
       "\\item '204'\n",
       "\\item '205'\n",
       "\\item '221823'\n",
       "\\item '2272'\n",
       "\\item '22978'\n",
       "\\item '23649'\n",
       "\\item '246721'\n",
       "\\item '25885'\n",
       "\\item '2618'\n",
       "\\item '26289'\n",
       "\\item '270'\n",
       "\\item '271'\n",
       "\\item '27115'\n",
       "\\item '272'\n",
       "\\item '2766'\n",
       "\\item '2977'\n",
       "\\item '2982'\n",
       "\\item '2983'\n",
       "\\item '2984'\n",
       "\\item '2986'\n",
       "\\item '2987'\n",
       "\\item '29922'\n",
       "\\item '3000'\n",
       "\\item '30833'\n",
       "\\item '30834'\n",
       "\\item '318'\n",
       "\\item '3251'\n",
       "\\item '353'\n",
       "\\item '3614'\n",
       "\\item '3615'\n",
       "\\item '3704'\n",
       "\\item '377841'\n",
       "\\item '471'\n",
       "\\item '4830'\n",
       "\\item '4831'\n",
       "\\item '4832'\n",
       "\\item '4833'\n",
       "\\item '4860'\n",
       "\\item '4881'\n",
       "\\item '4882'\n",
       "\\item '4907'\n",
       "\\item '50484'\n",
       "\\item '50940'\n",
       "\\item '51082'\n",
       "\\item '51251'\n",
       "\\item '51292'\n",
       "\\item '5136'\n",
       "\\item '5137'\n",
       "\\item '5138'\n",
       "\\item '5139'\n",
       "\\item '5140'\n",
       "\\item '5141'\n",
       "\\item '5142'\n",
       "\\item '5143'\n",
       "\\item '5144'\n",
       "\\item '5145'\n",
       "\\item '5146'\n",
       "\\item '5147'\n",
       "\\item '5148'\n",
       "\\item '5149'\n",
       "\\item '5150'\n",
       "\\item '5151'\n",
       "\\item '5152'\n",
       "\\item '5153'\n",
       "\\item '5158'\n",
       "\\item '5167'\n",
       "\\item '5169'\n",
       "\\item '51728'\n",
       "\\item '5198'\n",
       "\\item '5236'\n",
       "\\item '5313'\n",
       "\\item '5315'\n",
       "\\item '53343'\n",
       "\\item '54107'\n",
       "\\item '5422'\n",
       "\\item '5424'\n",
       "\\item '5425'\n",
       "\\item '5426'\n",
       "\\item '5427'\n",
       "\\item '5430'\n",
       "\\item '5431'\n",
       "\\item '5432'\n",
       "\\item '5433'\n",
       "\\item '5434'\n",
       "\\item '5435'\n",
       "\\item '5436'\n",
       "\\item '5437'\n",
       "\\item '5438'\n",
       "\\item '5439'\n",
       "\\item '5440'\n",
       "\\item '5441'\n",
       "\\item '5471'\n",
       "\\item '548644'\n",
       "\\item '55276'\n",
       "\\item '5557'\n",
       "\\item '5558'\n",
       "\\item '55703'\n",
       "\\item '55811'\n",
       "\\item '55821'\n",
       "\\item '5631'\n",
       "\\item '5634'\n",
       "\\item '56655'\n",
       "\\item '56953'\n",
       "\\item '56985'\n",
       "\\item '57804'\n",
       "\\item '58497'\n",
       "\\item '6240'\n",
       "\\item '6241'\n",
       "\\item '64425'\n",
       "\\item '646625'\n",
       "\\item '654364'\n",
       "\\item '661'\n",
       "\\item '7498'\n",
       "\\item '8382'\n",
       "\\item '84172'\n",
       "\\item '84265'\n",
       "\\item '84284'\n",
       "\\item '84618'\n",
       "\\item '8622'\n",
       "\\item '8654'\n",
       "\\item '87178'\n",
       "\\item '8833'\n",
       "\\item '9060'\n",
       "\\item '9061'\n",
       "\\item '93034'\n",
       "\\item '953'\n",
       "\\item '9533'\n",
       "\\item '954'\n",
       "\\item '955'\n",
       "\\item '956'\n",
       "\\item '957'\n",
       "\\item '9583'\n",
       "\\item '9615'\n",
       "\\end{enumerate*}\n",
       "\n",
       "\\end{description}\n"
      ],
      "text/markdown": [
       "$`hsa00232 Caffeine metabolism`\n",
       ":   1. '10'\n",
       "2. '1544'\n",
       "3. '1548'\n",
       "4. '1549'\n",
       "5. '1553'\n",
       "6. '7498'\n",
       "7. '9'\n",
       "\n",
       "\n",
       "\n",
       "$`hsa00983 Drug metabolism - other enzymes`\n",
       ":   1. '10'\n",
       "2. '1066'\n",
       "3. '10720'\n",
       "4. '10941'\n",
       "5. '151531'\n",
       "6. '1548'\n",
       "7. '1549'\n",
       "8. '1551'\n",
       "9. '1553'\n",
       "10. '1576'\n",
       "11. '1577'\n",
       "12. '1806'\n",
       "13. '1807'\n",
       "14. '1890'\n",
       "15. '221223'\n",
       "16. '2990'\n",
       "17. '3251'\n",
       "18. '3614'\n",
       "19. '3615'\n",
       "20. '3704'\n",
       "21. '51733'\n",
       "22. '54490'\n",
       "23. '54575'\n",
       "24. '54576'\n",
       "25. '54577'\n",
       "26. '54578'\n",
       "27. '54579'\n",
       "28. '54600'\n",
       "29. '54657'\n",
       "30. '54658'\n",
       "31. '54659'\n",
       "32. '54963'\n",
       "33. '574537'\n",
       "34. '64816'\n",
       "35. '7083'\n",
       "36. '7084'\n",
       "37. '7172'\n",
       "38. '7363'\n",
       "39. '7364'\n",
       "40. '7365'\n",
       "41. '7366'\n",
       "42. '7367'\n",
       "43. '7371'\n",
       "44. '7372'\n",
       "45. '7378'\n",
       "46. '7498'\n",
       "47. '79799'\n",
       "48. '83549'\n",
       "49. '8824'\n",
       "50. '8833'\n",
       "51. '9'\n",
       "52. '978'\n",
       "\n",
       "\n",
       "\n",
       "$`hsa00230 Purine metabolism`\n",
       ":   1. '100'\n",
       "2. '10201'\n",
       "3. '10606'\n",
       "4. '10621'\n",
       "5. '10622'\n",
       "6. '10623'\n",
       "7. '107'\n",
       "8. '10714'\n",
       "9. '108'\n",
       "10. '10846'\n",
       "11. '109'\n",
       "12. '111'\n",
       "13. '11128'\n",
       "14. '11164'\n",
       "15. '112'\n",
       "16. '113'\n",
       "17. '114'\n",
       "18. '115'\n",
       "19. '122481'\n",
       "20. '122622'\n",
       "21. '124583'\n",
       "22. '132'\n",
       "23. '158'\n",
       "24. '159'\n",
       "25. '1633'\n",
       "26. '171568'\n",
       "27. '1716'\n",
       "28. '196883'\n",
       "29. '203'\n",
       "30. '204'\n",
       "31. '205'\n",
       "32. '221823'\n",
       "33. '2272'\n",
       "34. '22978'\n",
       "35. '23649'\n",
       "36. '246721'\n",
       "37. '25885'\n",
       "38. '2618'\n",
       "39. '26289'\n",
       "40. '270'\n",
       "41. '271'\n",
       "42. '27115'\n",
       "43. '272'\n",
       "44. '2766'\n",
       "45. '2977'\n",
       "46. '2982'\n",
       "47. '2983'\n",
       "48. '2984'\n",
       "49. '2986'\n",
       "50. '2987'\n",
       "51. '29922'\n",
       "52. '3000'\n",
       "53. '30833'\n",
       "54. '30834'\n",
       "55. '318'\n",
       "56. '3251'\n",
       "57. '353'\n",
       "58. '3614'\n",
       "59. '3615'\n",
       "60. '3704'\n",
       "61. '377841'\n",
       "62. '471'\n",
       "63. '4830'\n",
       "64. '4831'\n",
       "65. '4832'\n",
       "66. '4833'\n",
       "67. '4860'\n",
       "68. '4881'\n",
       "69. '4882'\n",
       "70. '4907'\n",
       "71. '50484'\n",
       "72. '50940'\n",
       "73. '51082'\n",
       "74. '51251'\n",
       "75. '51292'\n",
       "76. '5136'\n",
       "77. '5137'\n",
       "78. '5138'\n",
       "79. '5139'\n",
       "80. '5140'\n",
       "81. '5141'\n",
       "82. '5142'\n",
       "83. '5143'\n",
       "84. '5144'\n",
       "85. '5145'\n",
       "86. '5146'\n",
       "87. '5147'\n",
       "88. '5148'\n",
       "89. '5149'\n",
       "90. '5150'\n",
       "91. '5151'\n",
       "92. '5152'\n",
       "93. '5153'\n",
       "94. '5158'\n",
       "95. '5167'\n",
       "96. '5169'\n",
       "97. '51728'\n",
       "98. '5198'\n",
       "99. '5236'\n",
       "100. '5313'\n",
       "101. '5315'\n",
       "102. '53343'\n",
       "103. '54107'\n",
       "104. '5422'\n",
       "105. '5424'\n",
       "106. '5425'\n",
       "107. '5426'\n",
       "108. '5427'\n",
       "109. '5430'\n",
       "110. '5431'\n",
       "111. '5432'\n",
       "112. '5433'\n",
       "113. '5434'\n",
       "114. '5435'\n",
       "115. '5436'\n",
       "116. '5437'\n",
       "117. '5438'\n",
       "118. '5439'\n",
       "119. '5440'\n",
       "120. '5441'\n",
       "121. '5471'\n",
       "122. '548644'\n",
       "123. '55276'\n",
       "124. '5557'\n",
       "125. '5558'\n",
       "126. '55703'\n",
       "127. '55811'\n",
       "128. '55821'\n",
       "129. '5631'\n",
       "130. '5634'\n",
       "131. '56655'\n",
       "132. '56953'\n",
       "133. '56985'\n",
       "134. '57804'\n",
       "135. '58497'\n",
       "136. '6240'\n",
       "137. '6241'\n",
       "138. '64425'\n",
       "139. '646625'\n",
       "140. '654364'\n",
       "141. '661'\n",
       "142. '7498'\n",
       "143. '8382'\n",
       "144. '84172'\n",
       "145. '84265'\n",
       "146. '84284'\n",
       "147. '84618'\n",
       "148. '8622'\n",
       "149. '8654'\n",
       "150. '87178'\n",
       "151. '8833'\n",
       "152. '9060'\n",
       "153. '9061'\n",
       "154. '93034'\n",
       "155. '953'\n",
       "156. '9533'\n",
       "157. '954'\n",
       "158. '955'\n",
       "159. '956'\n",
       "160. '957'\n",
       "161. '9583'\n",
       "162. '9615'\n",
       "\n",
       "\n",
       "\n",
       "\n",
       "\n"
      ],
      "text/plain": [
       "$`hsa00232 Caffeine metabolism`\n",
       "[1] \"10\"   \"1544\" \"1548\" \"1549\" \"1553\" \"7498\" \"9\"   \n",
       "\n",
       "$`hsa00983 Drug metabolism - other enzymes`\n",
       " [1] \"10\"     \"1066\"   \"10720\"  \"10941\"  \"151531\" \"1548\"   \"1549\"   \"1551\"  \n",
       " [9] \"1553\"   \"1576\"   \"1577\"   \"1806\"   \"1807\"   \"1890\"   \"221223\" \"2990\"  \n",
       "[17] \"3251\"   \"3614\"   \"3615\"   \"3704\"   \"51733\"  \"54490\"  \"54575\"  \"54576\" \n",
       "[25] \"54577\"  \"54578\"  \"54579\"  \"54600\"  \"54657\"  \"54658\"  \"54659\"  \"54963\" \n",
       "[33] \"574537\" \"64816\"  \"7083\"   \"7084\"   \"7172\"   \"7363\"   \"7364\"   \"7365\"  \n",
       "[41] \"7366\"   \"7367\"   \"7371\"   \"7372\"   \"7378\"   \"7498\"   \"79799\"  \"83549\" \n",
       "[49] \"8824\"   \"8833\"   \"9\"      \"978\"   \n",
       "\n",
       "$`hsa00230 Purine metabolism`\n",
       "  [1] \"100\"    \"10201\"  \"10606\"  \"10621\"  \"10622\"  \"10623\"  \"107\"    \"10714\" \n",
       "  [9] \"108\"    \"10846\"  \"109\"    \"111\"    \"11128\"  \"11164\"  \"112\"    \"113\"   \n",
       " [17] \"114\"    \"115\"    \"122481\" \"122622\" \"124583\" \"132\"    \"158\"    \"159\"   \n",
       " [25] \"1633\"   \"171568\" \"1716\"   \"196883\" \"203\"    \"204\"    \"205\"    \"221823\"\n",
       " [33] \"2272\"   \"22978\"  \"23649\"  \"246721\" \"25885\"  \"2618\"   \"26289\"  \"270\"   \n",
       " [41] \"271\"    \"27115\"  \"272\"    \"2766\"   \"2977\"   \"2982\"   \"2983\"   \"2984\"  \n",
       " [49] \"2986\"   \"2987\"   \"29922\"  \"3000\"   \"30833\"  \"30834\"  \"318\"    \"3251\"  \n",
       " [57] \"353\"    \"3614\"   \"3615\"   \"3704\"   \"377841\" \"471\"    \"4830\"   \"4831\"  \n",
       " [65] \"4832\"   \"4833\"   \"4860\"   \"4881\"   \"4882\"   \"4907\"   \"50484\"  \"50940\" \n",
       " [73] \"51082\"  \"51251\"  \"51292\"  \"5136\"   \"5137\"   \"5138\"   \"5139\"   \"5140\"  \n",
       " [81] \"5141\"   \"5142\"   \"5143\"   \"5144\"   \"5145\"   \"5146\"   \"5147\"   \"5148\"  \n",
       " [89] \"5149\"   \"5150\"   \"5151\"   \"5152\"   \"5153\"   \"5158\"   \"5167\"   \"5169\"  \n",
       " [97] \"51728\"  \"5198\"   \"5236\"   \"5313\"   \"5315\"   \"53343\"  \"54107\"  \"5422\"  \n",
       "[105] \"5424\"   \"5425\"   \"5426\"   \"5427\"   \"5430\"   \"5431\"   \"5432\"   \"5433\"  \n",
       "[113] \"5434\"   \"5435\"   \"5436\"   \"5437\"   \"5438\"   \"5439\"   \"5440\"   \"5441\"  \n",
       "[121] \"5471\"   \"548644\" \"55276\"  \"5557\"   \"5558\"   \"55703\"  \"55811\"  \"55821\" \n",
       "[129] \"5631\"   \"5634\"   \"56655\"  \"56953\"  \"56985\"  \"57804\"  \"58497\"  \"6240\"  \n",
       "[137] \"6241\"   \"64425\"  \"646625\" \"654364\" \"661\"    \"7498\"   \"8382\"   \"84172\" \n",
       "[145] \"84265\"  \"84284\"  \"84618\"  \"8622\"   \"8654\"   \"87178\"  \"8833\"   \"9060\"  \n",
       "[153] \"9061\"   \"93034\"  \"953\"    \"9533\"   \"954\"    \"955\"    \"956\"    \"957\"   \n",
       "[161] \"9583\"   \"9615\"  \n"
      ]
     },
     "metadata": {},
     "output_type": "display_data"
    }
   ],
   "source": [
    "data(kegg.sets.hs)\n",
    "data(sigmet.idx.hs)\n",
    "kegg.sets.hs = kegg.sets.hs[sigmet.idx.hs]\n",
    "head(kegg.sets.hs, 3)"
   ]
  },
  {
   "cell_type": "markdown",
   "metadata": {},
   "source": [
    "Let's Convert GENE symbol to Enteriz ID"
   ]
  },
  {
   "cell_type": "code",
   "execution_count": 66,
   "metadata": {
    "vscode": {
     "languageId": "r"
    }
   },
   "outputs": [
    {
     "name": "stderr",
     "output_type": "stream",
     "text": [
      "Loading required package: AnnotationDbi\n",
      "\n",
      "Warning message:\n",
      "\"package 'AnnotationDbi' was built under R version 4.3.1\"\n",
      "\n",
      "Attaching package: 'AnnotationDbi'\n",
      "\n",
      "\n",
      "The following object is masked from 'package:dplyr':\n",
      "\n",
      "    select\n",
      "\n",
      "\n"
     ]
    }
   ],
   "source": [
    "library(org.Hs.eg.db)\n",
    "library(AnnotationDbi)"
   ]
  },
  {
   "cell_type": "code",
   "execution_count": 69,
   "metadata": {
    "vscode": {
     "languageId": "r"
    }
   },
   "outputs": [
    {
     "name": "stderr",
     "output_type": "stream",
     "text": [
      "'select()' returned 1:many mapping between keys and columns\n",
      "\n"
     ]
    },
    {
     "data": {
      "text/html": [
       "<table class=\"dataframe\">\n",
       "<caption>A data.frame: 6 × 8</caption>\n",
       "<thead>\n",
       "\t<tr><th></th><th scope=col>baseMean</th><th scope=col>log2FoldChange</th><th scope=col>lfcSE</th><th scope=col>stat</th><th scope=col>pvalue</th><th scope=col>padj</th><th scope=col>GeneName</th><th scope=col>ENTREZID</th></tr>\n",
       "\t<tr><th></th><th scope=col>&lt;dbl&gt;</th><th scope=col>&lt;dbl&gt;</th><th scope=col>&lt;dbl&gt;</th><th scope=col>&lt;dbl&gt;</th><th scope=col>&lt;dbl&gt;</th><th scope=col>&lt;dbl&gt;</th><th scope=col>&lt;chr&gt;</th><th scope=col>&lt;chr&gt;</th></tr>\n",
       "</thead>\n",
       "<tbody>\n",
       "\t<tr><th scope=row>1</th><td>57660.614880</td><td>-1.313815</td><td>0.1323314</td><td>-9.928217</td><td>3.138157e-23</td><td>1.742870e-21</td><td>A2M    </td><td>2     </td></tr>\n",
       "\t<tr><th scope=row>2</th><td>  423.333343</td><td> 2.845920</td><td>0.3721235</td><td> 7.647782</td><td>2.044754e-14</td><td>3.153156e-13</td><td>A2ML1  </td><td>144568</td></tr>\n",
       "\t<tr><th scope=row>3</th><td>    5.939878</td><td>-1.281223</td><td>0.3310076</td><td>-3.870675</td><td>1.085344e-04</td><td>3.150699e-04</td><td>A4GNT  </td><td>51146 </td></tr>\n",
       "\t<tr><th scope=row>4</th><td>  139.489918</td><td>-4.476422</td><td>0.4859965</td><td>-9.210811</td><td>3.236699e-20</td><td>1.153431e-18</td><td>AADAC  </td><td>13    </td></tr>\n",
       "\t<tr><th scope=row>5</th><td>    4.896570</td><td>-2.718604</td><td>0.4666096</td><td>-5.826293</td><td>5.667221e-09</td><td>3.600107e-08</td><td>AADACL2</td><td>344752</td></tr>\n",
       "\t<tr><th scope=row>6</th><td>    3.070368</td><td>-3.560171</td><td>0.6449605</td><td>-5.519982</td><td>3.390335e-08</td><td>1.884027e-07</td><td>AADACL3</td><td>126767</td></tr>\n",
       "</tbody>\n",
       "</table>\n"
      ],
      "text/latex": [
       "A data.frame: 6 × 8\n",
       "\\begin{tabular}{r|llllllll}\n",
       "  & baseMean & log2FoldChange & lfcSE & stat & pvalue & padj & GeneName & ENTREZID\\\\\n",
       "  & <dbl> & <dbl> & <dbl> & <dbl> & <dbl> & <dbl> & <chr> & <chr>\\\\\n",
       "\\hline\n",
       "\t1 & 57660.614880 & -1.313815 & 0.1323314 & -9.928217 & 3.138157e-23 & 1.742870e-21 & A2M     & 2     \\\\\n",
       "\t2 &   423.333343 &  2.845920 & 0.3721235 &  7.647782 & 2.044754e-14 & 3.153156e-13 & A2ML1   & 144568\\\\\n",
       "\t3 &     5.939878 & -1.281223 & 0.3310076 & -3.870675 & 1.085344e-04 & 3.150699e-04 & A4GNT   & 51146 \\\\\n",
       "\t4 &   139.489918 & -4.476422 & 0.4859965 & -9.210811 & 3.236699e-20 & 1.153431e-18 & AADAC   & 13    \\\\\n",
       "\t5 &     4.896570 & -2.718604 & 0.4666096 & -5.826293 & 5.667221e-09 & 3.600107e-08 & AADACL2 & 344752\\\\\n",
       "\t6 &     3.070368 & -3.560171 & 0.6449605 & -5.519982 & 3.390335e-08 & 1.884027e-07 & AADACL3 & 126767\\\\\n",
       "\\end{tabular}\n"
      ],
      "text/markdown": [
       "\n",
       "A data.frame: 6 × 8\n",
       "\n",
       "| <!--/--> | baseMean &lt;dbl&gt; | log2FoldChange &lt;dbl&gt; | lfcSE &lt;dbl&gt; | stat &lt;dbl&gt; | pvalue &lt;dbl&gt; | padj &lt;dbl&gt; | GeneName &lt;chr&gt; | ENTREZID &lt;chr&gt; |\n",
       "|---|---|---|---|---|---|---|---|---|\n",
       "| 1 | 57660.614880 | -1.313815 | 0.1323314 | -9.928217 | 3.138157e-23 | 1.742870e-21 | A2M     | 2      |\n",
       "| 2 |   423.333343 |  2.845920 | 0.3721235 |  7.647782 | 2.044754e-14 | 3.153156e-13 | A2ML1   | 144568 |\n",
       "| 3 |     5.939878 | -1.281223 | 0.3310076 | -3.870675 | 1.085344e-04 | 3.150699e-04 | A4GNT   | 51146  |\n",
       "| 4 |   139.489918 | -4.476422 | 0.4859965 | -9.210811 | 3.236699e-20 | 1.153431e-18 | AADAC   | 13     |\n",
       "| 5 |     4.896570 | -2.718604 | 0.4666096 | -5.826293 | 5.667221e-09 | 3.600107e-08 | AADACL2 | 344752 |\n",
       "| 6 |     3.070368 | -3.560171 | 0.6449605 | -5.519982 | 3.390335e-08 | 1.884027e-07 | AADACL3 | 126767 |\n",
       "\n"
      ],
      "text/plain": [
       "  baseMean     log2FoldChange lfcSE     stat      pvalue       padj        \n",
       "1 57660.614880 -1.313815      0.1323314 -9.928217 3.138157e-23 1.742870e-21\n",
       "2   423.333343  2.845920      0.3721235  7.647782 2.044754e-14 3.153156e-13\n",
       "3     5.939878 -1.281223      0.3310076 -3.870675 1.085344e-04 3.150699e-04\n",
       "4   139.489918 -4.476422      0.4859965 -9.210811 3.236699e-20 1.153431e-18\n",
       "5     4.896570 -2.718604      0.4666096 -5.826293 5.667221e-09 3.600107e-08\n",
       "6     3.070368 -3.560171      0.6449605 -5.519982 3.390335e-08 1.884027e-07\n",
       "  GeneName ENTREZID\n",
       "1 A2M      2       \n",
       "2 A2ML1    144568  \n",
       "3 A4GNT    51146   \n",
       "4 AADAC    13      \n",
       "5 AADACL2  344752  \n",
       "6 AADACL3  126767  "
      ]
     },
     "metadata": {},
     "output_type": "display_data"
    }
   ],
   "source": [
    "significant_genes_df$ENTREZID <- mapIds(org.Hs.eg.db, keys = significant_genes_df$GeneName,\n",
    "       column = \"ENTREZID\", keytype = \"SYMBOL\")\n",
    "head(significant_genes_df)"
   ]
  },
  {
   "cell_type": "markdown",
   "metadata": {},
   "source": [
    "Now Let's generate vector foldchanges with Enteriz IDs"
   ]
  },
  {
   "cell_type": "code",
   "execution_count": 70,
   "metadata": {
    "vscode": {
     "languageId": "r"
    }
   },
   "outputs": [
    {
     "data": {
      "text/html": [
       "<style>\n",
       ".dl-inline {width: auto; margin:0; padding: 0}\n",
       ".dl-inline>dt, .dl-inline>dd {float: none; width: auto; display: inline-block}\n",
       ".dl-inline>dt::after {content: \":\\0020\"; padding-right: .5ex}\n",
       ".dl-inline>dt:not(:first-of-type) {padding-left: .5ex}\n",
       "</style><dl class=dl-inline><dt>2</dt><dd>-1.31381490877538</dd><dt>144568</dt><dd>2.84591967833335</dd><dt>51146</dt><dd>-1.28122266297088</dd><dt>13</dt><dd>-4.47642180674865</dd><dt>344752</dt><dd>-2.71860432206249</dd><dt>126767</dt><dd>-3.56017078948239</dd></dl>\n"
      ],
      "text/latex": [
       "\\begin{description*}\n",
       "\\item[2] -1.31381490877538\n",
       "\\item[144568] 2.84591967833335\n",
       "\\item[51146] -1.28122266297088\n",
       "\\item[13] -4.47642180674865\n",
       "\\item[344752] -2.71860432206249\n",
       "\\item[126767] -3.56017078948239\n",
       "\\end{description*}\n"
      ],
      "text/markdown": [
       "2\n",
       ":   -1.31381490877538144568\n",
       ":   2.8459196783333551146\n",
       ":   -1.2812226629708813\n",
       ":   -4.47642180674865344752\n",
       ":   -2.71860432206249126767\n",
       ":   -3.56017078948239\n",
       "\n"
      ],
      "text/plain": [
       "        2    144568     51146        13    344752    126767 \n",
       "-1.313815  2.845920 -1.281223 -4.476422 -2.718604 -3.560171 "
      ]
     },
     "metadata": {},
     "output_type": "display_data"
    }
   ],
   "source": [
    "foldchanges = significant_genes_df$log2FoldChange\n",
    "names(foldchanges) = significant_genes_df$ENTREZID\n",
    "head(foldchanges)"
   ]
  },
  {
   "cell_type": "code",
   "execution_count": 71,
   "metadata": {
    "vscode": {
     "languageId": "r"
    }
   },
   "outputs": [],
   "source": [
    "# Get the results\n",
    "keggres = gage(foldchanges, gsets=kegg.sets.hs, same.dir=TRUE)"
   ]
  },
  {
   "cell_type": "code",
   "execution_count": 72,
   "metadata": {
    "vscode": {
     "languageId": "r"
    }
   },
   "outputs": [
    {
     "data": {
      "text/html": [
       "<dl>\n",
       "\t<dt>$greater</dt>\n",
       "\t\t<dd><table class=\"dataframe\">\n",
       "<caption>A matrix: 6 × 6 of type dbl</caption>\n",
       "<thead>\n",
       "\t<tr><th></th><th scope=col>p.geomean</th><th scope=col>stat.mean</th><th scope=col>p.val</th><th scope=col>q.val</th><th scope=col>set.size</th><th scope=col>exp1</th></tr>\n",
       "</thead>\n",
       "<tbody>\n",
       "\t<tr><th scope=row>hsa04110 Cell cycle</th><td>0.0001075366</td><td>3.968970</td><td>0.0001075366</td><td>0.00828032</td><td>36</td><td>0.0001075366</td></tr>\n",
       "\t<tr><th scope=row>hsa04114 Oocyte meiosis</th><td>0.0068629161</td><td>2.551006</td><td>0.0068629161</td><td>0.26422227</td><td>27</td><td>0.0068629161</td></tr>\n",
       "\t<tr><th scope=row>hsa04742 Taste transduction</th><td>0.0649604964</td><td>1.564138</td><td>0.0649604964</td><td>0.99880629</td><td>14</td><td>0.0649604964</td></tr>\n",
       "\t<tr><th scope=row>hsa04115 p53 signaling pathway</th><td>0.0658055697</td><td>1.558775</td><td>0.0658055697</td><td>0.99880629</td><td>14</td><td>0.0658055697</td></tr>\n",
       "\t<tr><th scope=row>hsa00240 Pyrimidine metabolism</th><td>0.0858265926</td><td>1.412537</td><td>0.0858265926</td><td>0.99880629</td><td>15</td><td>0.0858265926</td></tr>\n",
       "\t<tr><th scope=row>hsa04914 Progesterone-mediated oocyte maturation</th><td>0.1568492155</td><td>1.019332</td><td>0.1568492155</td><td>0.99880629</td><td>23</td><td>0.1568492155</td></tr>\n",
       "</tbody>\n",
       "</table>\n",
       "</dd>\n",
       "\t<dt>$less</dt>\n",
       "\t\t<dd><table class=\"dataframe\">\n",
       "<caption>A matrix: 6 × 6 of type dbl</caption>\n",
       "<thead>\n",
       "\t<tr><th></th><th scope=col>p.geomean</th><th scope=col>stat.mean</th><th scope=col>p.val</th><th scope=col>q.val</th><th scope=col>set.size</th><th scope=col>exp1</th></tr>\n",
       "</thead>\n",
       "<tbody>\n",
       "\t<tr><th scope=row>hsa00982 Drug metabolism - cytochrome P450</th><td>0.001193707</td><td>-3.200382</td><td>0.001193707</td><td>0.02786329</td><td>26</td><td>0.001193707</td></tr>\n",
       "\t<tr><th scope=row>hsa02010 ABC transporters</th><td>0.001257425</td><td>-3.380610</td><td>0.001257425</td><td>0.02786329</td><td>15</td><td>0.001257425</td></tr>\n",
       "\t<tr><th scope=row>hsa04920 Adipocytokine signaling pathway</th><td>0.001294707</td><td>-3.251930</td><td>0.001294707</td><td>0.02786329</td><td>18</td><td>0.001294707</td></tr>\n",
       "\t<tr><th scope=row>hsa00830 Retinol metabolism</th><td>0.001447444</td><td>-3.126517</td><td>0.001447444</td><td>0.02786329</td><td>27</td><td>0.001447444</td></tr>\n",
       "\t<tr><th scope=row>hsa00980 Metabolism of xenobiotics by cytochrome P450</th><td>0.001847617</td><td>-3.040484</td><td>0.001847617</td><td>0.02845329</td><td>27</td><td>0.001847617</td></tr>\n",
       "\t<tr><th scope=row>hsa03320 PPAR signaling pathway</th><td>0.003478457</td><td>-2.801650</td><td>0.003478457</td><td>0.04464020</td><td>30</td><td>0.003478457</td></tr>\n",
       "</tbody>\n",
       "</table>\n",
       "</dd>\n",
       "\t<dt>$stats</dt>\n",
       "\t\t<dd><table class=\"dataframe\">\n",
       "<caption>A matrix: 6 × 2 of type dbl</caption>\n",
       "<thead>\n",
       "\t<tr><th></th><th scope=col>stat.mean</th><th scope=col>exp1</th></tr>\n",
       "</thead>\n",
       "<tbody>\n",
       "\t<tr><th scope=row>hsa04110 Cell cycle</th><td>3.968970</td><td>3.968970</td></tr>\n",
       "\t<tr><th scope=row>hsa04114 Oocyte meiosis</th><td>2.551006</td><td>2.551006</td></tr>\n",
       "\t<tr><th scope=row>hsa04742 Taste transduction</th><td>1.564138</td><td>1.564138</td></tr>\n",
       "\t<tr><th scope=row>hsa04115 p53 signaling pathway</th><td>1.558775</td><td>1.558775</td></tr>\n",
       "\t<tr><th scope=row>hsa00240 Pyrimidine metabolism</th><td>1.412537</td><td>1.412537</td></tr>\n",
       "\t<tr><th scope=row>hsa04914 Progesterone-mediated oocyte maturation</th><td>1.019332</td><td>1.019332</td></tr>\n",
       "</tbody>\n",
       "</table>\n",
       "</dd>\n",
       "</dl>\n"
      ],
      "text/latex": [
       "\\begin{description}\n",
       "\\item[\\$greater] A matrix: 6 × 6 of type dbl\n",
       "\\begin{tabular}{r|llllll}\n",
       "  & p.geomean & stat.mean & p.val & q.val & set.size & exp1\\\\\n",
       "\\hline\n",
       "\thsa04110 Cell cycle & 0.0001075366 & 3.968970 & 0.0001075366 & 0.00828032 & 36 & 0.0001075366\\\\\n",
       "\thsa04114 Oocyte meiosis & 0.0068629161 & 2.551006 & 0.0068629161 & 0.26422227 & 27 & 0.0068629161\\\\\n",
       "\thsa04742 Taste transduction & 0.0649604964 & 1.564138 & 0.0649604964 & 0.99880629 & 14 & 0.0649604964\\\\\n",
       "\thsa04115 p53 signaling pathway & 0.0658055697 & 1.558775 & 0.0658055697 & 0.99880629 & 14 & 0.0658055697\\\\\n",
       "\thsa00240 Pyrimidine metabolism & 0.0858265926 & 1.412537 & 0.0858265926 & 0.99880629 & 15 & 0.0858265926\\\\\n",
       "\thsa04914 Progesterone-mediated oocyte maturation & 0.1568492155 & 1.019332 & 0.1568492155 & 0.99880629 & 23 & 0.1568492155\\\\\n",
       "\\end{tabular}\n",
       "\n",
       "\\item[\\$less] A matrix: 6 × 6 of type dbl\n",
       "\\begin{tabular}{r|llllll}\n",
       "  & p.geomean & stat.mean & p.val & q.val & set.size & exp1\\\\\n",
       "\\hline\n",
       "\thsa00982 Drug metabolism - cytochrome P450 & 0.001193707 & -3.200382 & 0.001193707 & 0.02786329 & 26 & 0.001193707\\\\\n",
       "\thsa02010 ABC transporters & 0.001257425 & -3.380610 & 0.001257425 & 0.02786329 & 15 & 0.001257425\\\\\n",
       "\thsa04920 Adipocytokine signaling pathway & 0.001294707 & -3.251930 & 0.001294707 & 0.02786329 & 18 & 0.001294707\\\\\n",
       "\thsa00830 Retinol metabolism & 0.001447444 & -3.126517 & 0.001447444 & 0.02786329 & 27 & 0.001447444\\\\\n",
       "\thsa00980 Metabolism of xenobiotics by cytochrome P450 & 0.001847617 & -3.040484 & 0.001847617 & 0.02845329 & 27 & 0.001847617\\\\\n",
       "\thsa03320 PPAR signaling pathway & 0.003478457 & -2.801650 & 0.003478457 & 0.04464020 & 30 & 0.003478457\\\\\n",
       "\\end{tabular}\n",
       "\n",
       "\\item[\\$stats] A matrix: 6 × 2 of type dbl\n",
       "\\begin{tabular}{r|ll}\n",
       "  & stat.mean & exp1\\\\\n",
       "\\hline\n",
       "\thsa04110 Cell cycle & 3.968970 & 3.968970\\\\\n",
       "\thsa04114 Oocyte meiosis & 2.551006 & 2.551006\\\\\n",
       "\thsa04742 Taste transduction & 1.564138 & 1.564138\\\\\n",
       "\thsa04115 p53 signaling pathway & 1.558775 & 1.558775\\\\\n",
       "\thsa00240 Pyrimidine metabolism & 1.412537 & 1.412537\\\\\n",
       "\thsa04914 Progesterone-mediated oocyte maturation & 1.019332 & 1.019332\\\\\n",
       "\\end{tabular}\n",
       "\n",
       "\\end{description}\n"
      ],
      "text/markdown": [
       "$greater\n",
       ":   \n",
       "A matrix: 6 × 6 of type dbl\n",
       "\n",
       "| <!--/--> | p.geomean | stat.mean | p.val | q.val | set.size | exp1 |\n",
       "|---|---|---|---|---|---|---|\n",
       "| hsa04110 Cell cycle | 0.0001075366 | 3.968970 | 0.0001075366 | 0.00828032 | 36 | 0.0001075366 |\n",
       "| hsa04114 Oocyte meiosis | 0.0068629161 | 2.551006 | 0.0068629161 | 0.26422227 | 27 | 0.0068629161 |\n",
       "| hsa04742 Taste transduction | 0.0649604964 | 1.564138 | 0.0649604964 | 0.99880629 | 14 | 0.0649604964 |\n",
       "| hsa04115 p53 signaling pathway | 0.0658055697 | 1.558775 | 0.0658055697 | 0.99880629 | 14 | 0.0658055697 |\n",
       "| hsa00240 Pyrimidine metabolism | 0.0858265926 | 1.412537 | 0.0858265926 | 0.99880629 | 15 | 0.0858265926 |\n",
       "| hsa04914 Progesterone-mediated oocyte maturation | 0.1568492155 | 1.019332 | 0.1568492155 | 0.99880629 | 23 | 0.1568492155 |\n",
       "\n",
       "\n",
       "$less\n",
       ":   \n",
       "A matrix: 6 × 6 of type dbl\n",
       "\n",
       "| <!--/--> | p.geomean | stat.mean | p.val | q.val | set.size | exp1 |\n",
       "|---|---|---|---|---|---|---|\n",
       "| hsa00982 Drug metabolism - cytochrome P450 | 0.001193707 | -3.200382 | 0.001193707 | 0.02786329 | 26 | 0.001193707 |\n",
       "| hsa02010 ABC transporters | 0.001257425 | -3.380610 | 0.001257425 | 0.02786329 | 15 | 0.001257425 |\n",
       "| hsa04920 Adipocytokine signaling pathway | 0.001294707 | -3.251930 | 0.001294707 | 0.02786329 | 18 | 0.001294707 |\n",
       "| hsa00830 Retinol metabolism | 0.001447444 | -3.126517 | 0.001447444 | 0.02786329 | 27 | 0.001447444 |\n",
       "| hsa00980 Metabolism of xenobiotics by cytochrome P450 | 0.001847617 | -3.040484 | 0.001847617 | 0.02845329 | 27 | 0.001847617 |\n",
       "| hsa03320 PPAR signaling pathway | 0.003478457 | -2.801650 | 0.003478457 | 0.04464020 | 30 | 0.003478457 |\n",
       "\n",
       "\n",
       "$stats\n",
       ":   \n",
       "A matrix: 6 × 2 of type dbl\n",
       "\n",
       "| <!--/--> | stat.mean | exp1 |\n",
       "|---|---|---|\n",
       "| hsa04110 Cell cycle | 3.968970 | 3.968970 |\n",
       "| hsa04114 Oocyte meiosis | 2.551006 | 2.551006 |\n",
       "| hsa04742 Taste transduction | 1.564138 | 1.564138 |\n",
       "| hsa04115 p53 signaling pathway | 1.558775 | 1.558775 |\n",
       "| hsa00240 Pyrimidine metabolism | 1.412537 | 1.412537 |\n",
       "| hsa04914 Progesterone-mediated oocyte maturation | 1.019332 | 1.019332 |\n",
       "\n",
       "\n",
       "\n",
       "\n"
      ],
      "text/plain": [
       "$greater\n",
       "                                                    p.geomean stat.mean\n",
       "hsa04110 Cell cycle                              0.0001075366  3.968970\n",
       "hsa04114 Oocyte meiosis                          0.0068629161  2.551006\n",
       "hsa04742 Taste transduction                      0.0649604964  1.564138\n",
       "hsa04115 p53 signaling pathway                   0.0658055697  1.558775\n",
       "hsa00240 Pyrimidine metabolism                   0.0858265926  1.412537\n",
       "hsa04914 Progesterone-mediated oocyte maturation 0.1568492155  1.019332\n",
       "                                                        p.val      q.val\n",
       "hsa04110 Cell cycle                              0.0001075366 0.00828032\n",
       "hsa04114 Oocyte meiosis                          0.0068629161 0.26422227\n",
       "hsa04742 Taste transduction                      0.0649604964 0.99880629\n",
       "hsa04115 p53 signaling pathway                   0.0658055697 0.99880629\n",
       "hsa00240 Pyrimidine metabolism                   0.0858265926 0.99880629\n",
       "hsa04914 Progesterone-mediated oocyte maturation 0.1568492155 0.99880629\n",
       "                                                 set.size         exp1\n",
       "hsa04110 Cell cycle                                    36 0.0001075366\n",
       "hsa04114 Oocyte meiosis                                27 0.0068629161\n",
       "hsa04742 Taste transduction                            14 0.0649604964\n",
       "hsa04115 p53 signaling pathway                         14 0.0658055697\n",
       "hsa00240 Pyrimidine metabolism                         15 0.0858265926\n",
       "hsa04914 Progesterone-mediated oocyte maturation       23 0.1568492155\n",
       "\n",
       "$less\n",
       "                                                        p.geomean stat.mean\n",
       "hsa00982 Drug metabolism - cytochrome P450            0.001193707 -3.200382\n",
       "hsa02010 ABC transporters                             0.001257425 -3.380610\n",
       "hsa04920 Adipocytokine signaling pathway              0.001294707 -3.251930\n",
       "hsa00830 Retinol metabolism                           0.001447444 -3.126517\n",
       "hsa00980 Metabolism of xenobiotics by cytochrome P450 0.001847617 -3.040484\n",
       "hsa03320 PPAR signaling pathway                       0.003478457 -2.801650\n",
       "                                                            p.val      q.val\n",
       "hsa00982 Drug metabolism - cytochrome P450            0.001193707 0.02786329\n",
       "hsa02010 ABC transporters                             0.001257425 0.02786329\n",
       "hsa04920 Adipocytokine signaling pathway              0.001294707 0.02786329\n",
       "hsa00830 Retinol metabolism                           0.001447444 0.02786329\n",
       "hsa00980 Metabolism of xenobiotics by cytochrome P450 0.001847617 0.02845329\n",
       "hsa03320 PPAR signaling pathway                       0.003478457 0.04464020\n",
       "                                                      set.size        exp1\n",
       "hsa00982 Drug metabolism - cytochrome P450                  26 0.001193707\n",
       "hsa02010 ABC transporters                                   15 0.001257425\n",
       "hsa04920 Adipocytokine signaling pathway                    18 0.001294707\n",
       "hsa00830 Retinol metabolism                                 27 0.001447444\n",
       "hsa00980 Metabolism of xenobiotics by cytochrome P450       27 0.001847617\n",
       "hsa03320 PPAR signaling pathway                             30 0.003478457\n",
       "\n",
       "$stats\n",
       "                                                 stat.mean     exp1\n",
       "hsa04110 Cell cycle                               3.968970 3.968970\n",
       "hsa04114 Oocyte meiosis                           2.551006 2.551006\n",
       "hsa04742 Taste transduction                       1.564138 1.564138\n",
       "hsa04115 p53 signaling pathway                    1.558775 1.558775\n",
       "hsa00240 Pyrimidine metabolism                    1.412537 1.412537\n",
       "hsa04914 Progesterone-mediated oocyte maturation  1.019332 1.019332\n"
      ]
     },
     "metadata": {},
     "output_type": "display_data"
    }
   ],
   "source": [
    "lapply(keggres, head)"
   ]
  },
  {
   "cell_type": "code",
   "execution_count": 73,
   "metadata": {
    "vscode": {
     "languageId": "r"
    }
   },
   "outputs": [
    {
     "name": "stderr",
     "output_type": "stream",
     "text": [
      "Warning message:\n",
      "\"\u001b[1m\u001b[22m`tbl_df()` was deprecated in dplyr 1.0.0.\n",
      "\u001b[36mℹ\u001b[39m Please use `tibble::as_tibble()` instead.\"\n"
     ]
    },
    {
     "data": {
      "text/html": [
       "<style>\n",
       ".list-inline {list-style: none; margin:0; padding: 0}\n",
       ".list-inline>li {display: inline-block}\n",
       ".list-inline>li:not(:last-child)::after {content: \"\\00b7\"; padding: 0 .5ex}\n",
       "</style>\n",
       "<ol class=list-inline><li>'hsa04110 Cell cycle'</li><li>'hsa04114 Oocyte meiosis'</li><li>'hsa04742 Taste transduction'</li><li>'hsa04115 p53 signaling pathway'</li><li>'hsa00240 Pyrimidine metabolism'</li></ol>\n"
      ],
      "text/latex": [
       "\\begin{enumerate*}\n",
       "\\item 'hsa04110 Cell cycle'\n",
       "\\item 'hsa04114 Oocyte meiosis'\n",
       "\\item 'hsa04742 Taste transduction'\n",
       "\\item 'hsa04115 p53 signaling pathway'\n",
       "\\item 'hsa00240 Pyrimidine metabolism'\n",
       "\\end{enumerate*}\n"
      ],
      "text/markdown": [
       "1. 'hsa04110 Cell cycle'\n",
       "2. 'hsa04114 Oocyte meiosis'\n",
       "3. 'hsa04742 Taste transduction'\n",
       "4. 'hsa04115 p53 signaling pathway'\n",
       "5. 'hsa00240 Pyrimidine metabolism'\n",
       "\n",
       "\n"
      ],
      "text/plain": [
       "[1] \"hsa04110 Cell cycle\"            \"hsa04114 Oocyte meiosis\"       \n",
       "[3] \"hsa04742 Taste transduction\"    \"hsa04115 p53 signaling pathway\"\n",
       "[5] \"hsa00240 Pyrimidine metabolism\""
      ]
     },
     "metadata": {},
     "output_type": "display_data"
    }
   ],
   "source": [
    "# Get the pathways\n",
    "keggrespathways = data.frame(id=rownames(keggres$greater), keggres$greater) %>% \n",
    "  tbl_df() %>% \n",
    "  filter(row_number()<=5) %>% \n",
    "  .$id %>% \n",
    "  as.character()\n",
    "keggrespathways"
   ]
  },
  {
   "cell_type": "code",
   "execution_count": 78,
   "metadata": {
    "vscode": {
     "languageId": "r"
    }
   },
   "outputs": [],
   "source": [
    "write.csv( keggres, \"pathway_result_Kiran_Franklin.csv\")"
   ]
  },
  {
   "cell_type": "code",
   "execution_count": 74,
   "metadata": {
    "vscode": {
     "languageId": "r"
    }
   },
   "outputs": [
    {
     "data": {
      "text/html": [
       "<style>\n",
       ".list-inline {list-style: none; margin:0; padding: 0}\n",
       ".list-inline>li {display: inline-block}\n",
       ".list-inline>li:not(:last-child)::after {content: \"\\00b7\"; padding: 0 .5ex}\n",
       "</style>\n",
       "<ol class=list-inline><li>'hsa04110'</li><li>'hsa04114'</li><li>'hsa04742'</li><li>'hsa04115'</li><li>'hsa00240'</li></ol>\n"
      ],
      "text/latex": [
       "\\begin{enumerate*}\n",
       "\\item 'hsa04110'\n",
       "\\item 'hsa04114'\n",
       "\\item 'hsa04742'\n",
       "\\item 'hsa04115'\n",
       "\\item 'hsa00240'\n",
       "\\end{enumerate*}\n"
      ],
      "text/markdown": [
       "1. 'hsa04110'\n",
       "2. 'hsa04114'\n",
       "3. 'hsa04742'\n",
       "4. 'hsa04115'\n",
       "5. 'hsa00240'\n",
       "\n",
       "\n"
      ],
      "text/plain": [
       "[1] \"hsa04110\" \"hsa04114\" \"hsa04742\" \"hsa04115\" \"hsa00240\""
      ]
     },
     "metadata": {},
     "output_type": "display_data"
    }
   ],
   "source": [
    "# Get the IDs.\n",
    "keggresids = substr(keggrespathways, start=1, stop=8)\n",
    "keggresids"
   ]
  },
  {
   "cell_type": "code",
   "execution_count": 75,
   "metadata": {
    "vscode": {
     "languageId": "r"
    }
   },
   "outputs": [
    {
     "name": "stderr",
     "output_type": "stream",
     "text": [
      "Info: Downloading xml files for hsa04110, 1/1 pathways..\n",
      "\n",
      "Info: Downloading png files for hsa04110, 1/1 pathways..\n",
      "\n",
      "'select()' returned 1:1 mapping between keys and columns\n",
      "\n",
      "Info: Working in directory f:/kiran/ml model on agric/diff_exp\n",
      "\n",
      "Info: Writing image file hsa04110.pathview.png\n",
      "\n",
      "Info: Downloading xml files for hsa04114, 1/1 pathways..\n",
      "\n",
      "Info: Downloading png files for hsa04114, 1/1 pathways..\n",
      "\n",
      "'select()' returned 1:1 mapping between keys and columns\n",
      "\n",
      "Info: Working in directory f:/kiran/ml model on agric/diff_exp\n",
      "\n",
      "Info: Writing image file hsa04114.pathview.png\n",
      "\n",
      "Info: Downloading xml files for hsa04742, 1/1 pathways..\n",
      "\n",
      "Info: Downloading png files for hsa04742, 1/1 pathways..\n",
      "\n",
      "'select()' returned 1:1 mapping between keys and columns\n",
      "\n",
      "Info: Working in directory f:/kiran/ml model on agric/diff_exp\n",
      "\n",
      "Info: Writing image file hsa04742.pathview.png\n",
      "\n",
      "Info: some node width is different from others, and hence adjusted!\n",
      "\n",
      "Info: Downloading xml files for hsa04115, 1/1 pathways..\n",
      "\n",
      "Info: Downloading png files for hsa04115, 1/1 pathways..\n",
      "\n",
      "'select()' returned 1:1 mapping between keys and columns\n",
      "\n",
      "Info: Working in directory f:/kiran/ml model on agric/diff_exp\n",
      "\n",
      "Info: Writing image file hsa04115.pathview.png\n",
      "\n",
      "Info: Downloading xml files for hsa00240, 1/1 pathways..\n",
      "\n",
      "Info: Downloading png files for hsa00240, 1/1 pathways..\n",
      "\n",
      "'select()' returned 1:1 mapping between keys and columns\n",
      "\n",
      "Info: Working in directory f:/kiran/ml model on agric/diff_exp\n",
      "\n",
      "Info: Writing image file hsa00240.pathview.png\n",
      "\n"
     ]
    }
   ],
   "source": [
    "# Define plotting function for applying later\n",
    "plot_pathway = function(pid) pathview(gene.data=foldchanges, pathway.id=pid, species=\"hsa\", new.signature=FALSE)\n",
    "\n",
    "# plot multiple pathways (plots saved to disk and returns a throwaway list object)\n",
    "tmp = sapply(keggresids, function(pid) pathview(gene.data=foldchanges, pathway.id=pid, species=\"hsa\"))"
   ]
  },
  {
   "cell_type": "code",
   "execution_count": null,
   "metadata": {
    "vscode": {
     "languageId": "r"
    }
   },
   "outputs": [],
   "source": []
  }
 ],
 "metadata": {
  "kernelspec": {
   "display_name": "R",
   "language": "R",
   "name": "ir"
  },
  "language_info": {
   "codemirror_mode": "r",
   "file_extension": ".r",
   "mimetype": "text/x-r-source",
   "name": "R",
   "pygments_lexer": "r",
   "version": "4.3.0"
  },
  "orig_nbformat": 4
 },
 "nbformat": 4,
 "nbformat_minor": 2
}
